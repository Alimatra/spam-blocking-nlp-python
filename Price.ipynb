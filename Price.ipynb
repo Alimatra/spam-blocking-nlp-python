{
 "cells": [
  {
   "cell_type": "code",
   "execution_count": 33,
   "id": "226350a5",
   "metadata": {},
   "outputs": [],
   "source": [
    "import pandas as pd\n",
    "import csv\n",
    "\n"
   ]
  },
  {
   "cell_type": "code",
   "execution_count": 40,
   "id": "6d5f921f",
   "metadata": {},
   "outputs": [],
   "source": [
    "twilio = pd.read_csv(r\"C:\\Users\\awa29\\OneDrive\\Bureau\\Stage NLP\\twilio.csv\")\n"
   ]
  },
  {
   "cell_type": "code",
   "execution_count": 42,
   "id": "183e5c8f",
   "metadata": {},
   "outputs": [
    {
     "data": {
      "text/html": [
       "<div>\n",
       "<style scoped>\n",
       "    .dataframe tbody tr th:only-of-type {\n",
       "        vertical-align: middle;\n",
       "    }\n",
       "\n",
       "    .dataframe tbody tr th {\n",
       "        vertical-align: top;\n",
       "    }\n",
       "\n",
       "    .dataframe thead th {\n",
       "        text-align: right;\n",
       "    }\n",
       "</style>\n",
       "<table border=\"1\" class=\"dataframe\">\n",
       "  <thead>\n",
       "    <tr style=\"text-align: right;\">\n",
       "      <th></th>\n",
       "      <th>ISO</th>\n",
       "      <th>Country</th>\n",
       "      <th>Description</th>\n",
       "      <th>Price / msg</th>\n",
       "    </tr>\n",
       "  </thead>\n",
       "  <tbody>\n",
       "    <tr>\n",
       "      <th>0</th>\n",
       "      <td>NaN</td>\n",
       "      <td>Unknown</td>\n",
       "      <td>SATELLITE Outbound SMS - Com4 Sweden</td>\n",
       "      <td>0.1000</td>\n",
       "    </tr>\n",
       "    <tr>\n",
       "      <th>1</th>\n",
       "      <td>NaN</td>\n",
       "      <td>Unknown</td>\n",
       "      <td>SATELLITE Outbound SMS - Iridium Communications</td>\n",
       "      <td>0.1000</td>\n",
       "    </tr>\n",
       "    <tr>\n",
       "      <th>2</th>\n",
       "      <td>NaN</td>\n",
       "      <td>Unknown</td>\n",
       "      <td>SATELLITE Outbound SMS - Other</td>\n",
       "      <td>0.1000</td>\n",
       "    </tr>\n",
       "    <tr>\n",
       "      <th>3</th>\n",
       "      <td>AD</td>\n",
       "      <td>Andorra</td>\n",
       "      <td>ANDORRA Outbound SMS - Mobiland</td>\n",
       "      <td>0.1317</td>\n",
       "    </tr>\n",
       "    <tr>\n",
       "      <th>4</th>\n",
       "      <td>AD</td>\n",
       "      <td>Andorra</td>\n",
       "      <td>ANDORRA Outbound SMS - Other</td>\n",
       "      <td>0.1317</td>\n",
       "    </tr>\n",
       "    <tr>\n",
       "      <th>...</th>\n",
       "      <td>...</td>\n",
       "      <td>...</td>\n",
       "      <td>...</td>\n",
       "      <td>...</td>\n",
       "    </tr>\n",
       "    <tr>\n",
       "      <th>1088</th>\n",
       "      <td>ZM</td>\n",
       "      <td>Zambia</td>\n",
       "      <td>ZAMBIA Outbound SMS - ZAMTEL</td>\n",
       "      <td>0.2229</td>\n",
       "    </tr>\n",
       "    <tr>\n",
       "      <th>1089</th>\n",
       "      <td>ZW</td>\n",
       "      <td>Zimbabwe</td>\n",
       "      <td>ZIMBABWE Outbound SMS - Econet Wireless</td>\n",
       "      <td>0.1407</td>\n",
       "    </tr>\n",
       "    <tr>\n",
       "      <th>1090</th>\n",
       "      <td>ZW</td>\n",
       "      <td>Zimbabwe</td>\n",
       "      <td>ZIMBABWE Outbound SMS - NetOne</td>\n",
       "      <td>0.1407</td>\n",
       "    </tr>\n",
       "    <tr>\n",
       "      <th>1091</th>\n",
       "      <td>ZW</td>\n",
       "      <td>Zimbabwe</td>\n",
       "      <td>ZIMBABWE Outbound SMS - Other</td>\n",
       "      <td>0.1407</td>\n",
       "    </tr>\n",
       "    <tr>\n",
       "      <th>1092</th>\n",
       "      <td>ZW</td>\n",
       "      <td>Zimbabwe</td>\n",
       "      <td>ZIMBABWE Outbound SMS - Telecel</td>\n",
       "      <td>0.1407</td>\n",
       "    </tr>\n",
       "  </tbody>\n",
       "</table>\n",
       "<p>1093 rows × 4 columns</p>\n",
       "</div>"
      ],
      "text/plain": [
       "      ISO   Country                                      Description  \\\n",
       "0     NaN   Unknown             SATELLITE Outbound SMS - Com4 Sweden   \n",
       "1     NaN   Unknown  SATELLITE Outbound SMS - Iridium Communications   \n",
       "2     NaN   Unknown                   SATELLITE Outbound SMS - Other   \n",
       "3      AD   Andorra                  ANDORRA Outbound SMS - Mobiland   \n",
       "4      AD   Andorra                     ANDORRA Outbound SMS - Other   \n",
       "...   ...       ...                                              ...   \n",
       "1088   ZM    Zambia                     ZAMBIA Outbound SMS - ZAMTEL   \n",
       "1089   ZW  Zimbabwe          ZIMBABWE Outbound SMS - Econet Wireless   \n",
       "1090   ZW  Zimbabwe                   ZIMBABWE Outbound SMS - NetOne   \n",
       "1091   ZW  Zimbabwe                    ZIMBABWE Outbound SMS - Other   \n",
       "1092   ZW  Zimbabwe                  ZIMBABWE Outbound SMS - Telecel   \n",
       "\n",
       "      Price / msg  \n",
       "0          0.1000  \n",
       "1          0.1000  \n",
       "2          0.1000  \n",
       "3          0.1317  \n",
       "4          0.1317  \n",
       "...           ...  \n",
       "1088       0.2229  \n",
       "1089       0.1407  \n",
       "1090       0.1407  \n",
       "1091       0.1407  \n",
       "1092       0.1407  \n",
       "\n",
       "[1093 rows x 4 columns]"
      ]
     },
     "execution_count": 42,
     "metadata": {},
     "output_type": "execute_result"
    }
   ],
   "source": [
    "twilio"
   ]
  },
  {
   "cell_type": "code",
   "execution_count": 43,
   "id": "786481ab",
   "metadata": {},
   "outputs": [
    {
     "data": {
      "text/plain": [
       "0.12404617566331246"
      ]
     },
     "execution_count": 43,
     "metadata": {},
     "output_type": "execute_result"
    }
   ],
   "source": [
    "twilio['Price / msg'].mean()"
   ]
  },
  {
   "cell_type": "code",
   "execution_count": null,
   "id": "c0140aec",
   "metadata": {},
   "outputs": [],
   "source": []
  },
  {
   "cell_type": "code",
   "execution_count": 55,
   "id": "16395d43",
   "metadata": {},
   "outputs": [
    {
     "name": "stdout",
     "output_type": "stream",
     "text": [
      "0.0079\n",
      "Canada\n"
     ]
    }
   ],
   "source": [
    "twilio['Price / msg'].min()\n",
    "\n",
    "prix_min = twilio['Price / msg'].min()\n",
    "pays_prix_min = twilio.loc[twilio['Price / msg'].idxmin(), 'Country']\n",
    "\n",
    "print(prix_min )\n",
    "print(pays_prix_min)"
   ]
  },
  {
   "cell_type": "code",
   "execution_count": 56,
   "id": "6ce38d82",
   "metadata": {},
   "outputs": [
    {
     "name": "stdout",
     "output_type": "stream",
     "text": [
      "0.7096\n",
      "Russia\n"
     ]
    }
   ],
   "source": [
    "twilio['Price / msg'].max()\n",
    "\n",
    "prix_max = twilio['Price / msg'].max()\n",
    "pays_prix_max = twilio.loc[twilio['Price / msg'].idxmax(), 'Country']\n",
    "\n",
    "print(prix_max )\n",
    "print(pays_prix_max)"
   ]
  },
  {
   "cell_type": "code",
   "execution_count": 46,
   "id": "62fda214",
   "metadata": {},
   "outputs": [
    {
     "data": {
      "text/plain": [
       "Country\n",
       "Afghanistan             0.2337\n",
       "Albania                 0.0910\n",
       "Algeria                 0.2080\n",
       "American Samoa          0.1881\n",
       "Andorra                 0.1317\n",
       "                         ...  \n",
       "Virgin Islands, U.S.    0.0200\n",
       "Wallis and Futuna       0.1100\n",
       "Yemen                   0.2391\n",
       "Zambia                  0.2229\n",
       "Zimbabwe                0.1407\n",
       "Name: Price / msg, Length: 221, dtype: float64"
      ]
     },
     "execution_count": 46,
     "metadata": {},
     "output_type": "execute_result"
    }
   ],
   "source": [
    "prix_par_pays = twilio.groupby('Country')['Price / msg'].mean()\n",
    "prix_par_pays"
   ]
  },
  {
   "cell_type": "code",
   "execution_count": 50,
   "id": "f3cc9e49",
   "metadata": {},
   "outputs": [
    {
     "data": {
      "text/plain": [
       "Country\n",
       "Afghanistan             1.4022\n",
       "Albania                 0.4550\n",
       "Algeria                 0.8320\n",
       "American Samoa          0.1881\n",
       "Andorra                 0.2634\n",
       "                         ...  \n",
       "Virgin Islands, U.S.    0.0200\n",
       "Wallis and Futuna       0.1100\n",
       "Yemen                   1.1955\n",
       "Zambia                  0.8916\n",
       "Zimbabwe                0.5628\n",
       "Name: Price / msg, Length: 221, dtype: float64"
      ]
     },
     "execution_count": 50,
     "metadata": {},
     "output_type": "execute_result"
    }
   ],
   "source": [
    "twilio.groupby('Country')['Price / msg'].sum()"
   ]
  },
  {
   "cell_type": "code",
   "execution_count": 49,
   "id": "fdbeaa25",
   "metadata": {},
   "outputs": [
    {
     "data": {
      "text/plain": [
       "0.0798"
      ]
     },
     "execution_count": 49,
     "metadata": {},
     "output_type": "execute_result"
    }
   ],
   "source": [
    "prix_France= prix_par_pays['France']\n",
    "prix_France"
   ]
  },
  {
   "cell_type": "code",
   "execution_count": null,
   "id": "d6deabf2",
   "metadata": {},
   "outputs": [],
   "source": []
  },
  {
   "cell_type": "code",
   "execution_count": null,
   "id": "6240da17",
   "metadata": {},
   "outputs": [],
   "source": [
    "\n",
    "\n"
   ]
  },
  {
   "cell_type": "code",
   "execution_count": null,
   "id": "004544da",
   "metadata": {},
   "outputs": [],
   "source": []
  },
  {
   "cell_type": "code",
   "execution_count": null,
   "id": "279be5f9",
   "metadata": {},
   "outputs": [],
   "source": []
  },
  {
   "cell_type": "code",
   "execution_count": 15,
   "id": "b3e469cd",
   "metadata": {},
   "outputs": [
    {
     "name": "stdout",
     "output_type": "stream",
     "text": [
      "Pays avec le prix moyen le plus élevé : Russia | Prix moyen : 0.7096\n"
     ]
    }
   ],
   "source": []
  },
  {
   "cell_type": "code",
   "execution_count": 17,
   "id": "b5baf9c4",
   "metadata": {},
   "outputs": [
    {
     "name": "stdout",
     "output_type": "stream",
     "text": [
      "L'écart-type des prix par pays : 0.07759624787924244\n"
     ]
    }
   ],
   "source": []
  },
  {
   "cell_type": "code",
   "execution_count": 64,
   "id": "1fe6e0ba",
   "metadata": {},
   "outputs": [],
   "source": [
    "Watshapp_price = pd.read_csv(r\"C:\\Users\\awa29\\OneDrive\\Bureau\\Stage NLP\\Watshapp_price.csv\",header=1)\n"
   ]
  },
  {
   "cell_type": "code",
   "execution_count": 65,
   "id": "8ee86877",
   "metadata": {},
   "outputs": [
    {
     "data": {
      "text/html": [
       "<div>\n",
       "<style scoped>\n",
       "    .dataframe tbody tr th:only-of-type {\n",
       "        vertical-align: middle;\n",
       "    }\n",
       "\n",
       "    .dataframe tbody tr th {\n",
       "        vertical-align: top;\n",
       "    }\n",
       "\n",
       "    .dataframe thead th {\n",
       "        text-align: right;\n",
       "    }\n",
       "</style>\n",
       "<table border=\"1\" class=\"dataframe\">\n",
       "  <thead>\n",
       "    <tr style=\"text-align: right;\">\n",
       "      <th></th>\n",
       "      <th>Market</th>\n",
       "      <th>Currency</th>\n",
       "      <th>Marketing</th>\n",
       "      <th>Utility</th>\n",
       "      <th>Authentication</th>\n",
       "      <th>Service</th>\n",
       "    </tr>\n",
       "  </thead>\n",
       "  <tbody>\n",
       "    <tr>\n",
       "      <th>0</th>\n",
       "      <td>Argentina</td>\n",
       "      <td>€</td>\n",
       "      <td>0.0512</td>\n",
       "      <td>0.0338</td>\n",
       "      <td>0.0304</td>\n",
       "      <td>0.0261</td>\n",
       "    </tr>\n",
       "    <tr>\n",
       "      <th>1</th>\n",
       "      <td>Brazil</td>\n",
       "      <td>€</td>\n",
       "      <td>0.0518</td>\n",
       "      <td>0.0290</td>\n",
       "      <td>0.0261</td>\n",
       "      <td>0.0248</td>\n",
       "    </tr>\n",
       "    <tr>\n",
       "      <th>2</th>\n",
       "      <td>Chile</td>\n",
       "      <td>€</td>\n",
       "      <td>0.0736</td>\n",
       "      <td>0.0485</td>\n",
       "      <td>0.0437</td>\n",
       "      <td>0.0376</td>\n",
       "    </tr>\n",
       "    <tr>\n",
       "      <th>3</th>\n",
       "      <td>Colombia</td>\n",
       "      <td>€</td>\n",
       "      <td>0.0104</td>\n",
       "      <td>0.0071</td>\n",
       "      <td>0.0063</td>\n",
       "      <td>0.0050</td>\n",
       "    </tr>\n",
       "    <tr>\n",
       "      <th>4</th>\n",
       "      <td>Egypt</td>\n",
       "      <td>€</td>\n",
       "      <td>0.0889</td>\n",
       "      <td>0.0569</td>\n",
       "      <td>0.0512</td>\n",
       "      <td>0.0533</td>\n",
       "    </tr>\n",
       "    <tr>\n",
       "      <th>5</th>\n",
       "      <td>France</td>\n",
       "      <td>€</td>\n",
       "      <td>0.1186</td>\n",
       "      <td>0.0636</td>\n",
       "      <td>0.0572</td>\n",
       "      <td>0.0712</td>\n",
       "    </tr>\n",
       "    <tr>\n",
       "      <th>6</th>\n",
       "      <td>Germany</td>\n",
       "      <td>€</td>\n",
       "      <td>0.1131</td>\n",
       "      <td>0.0707</td>\n",
       "      <td>0.0636</td>\n",
       "      <td>0.0679</td>\n",
       "    </tr>\n",
       "    <tr>\n",
       "      <th>7</th>\n",
       "      <td>India</td>\n",
       "      <td>€</td>\n",
       "      <td>0.0083</td>\n",
       "      <td>0.0035</td>\n",
       "      <td>rate not finalized; reference utility rate</td>\n",
       "      <td>0.0033</td>\n",
       "    </tr>\n",
       "    <tr>\n",
       "      <th>8</th>\n",
       "      <td>Indonesia</td>\n",
       "      <td>€</td>\n",
       "      <td>0.0341</td>\n",
       "      <td>0.0166</td>\n",
       "      <td>0.0249</td>\n",
       "      <td>0.0157</td>\n",
       "    </tr>\n",
       "    <tr>\n",
       "      <th>9</th>\n",
       "      <td>Israel</td>\n",
       "      <td>€</td>\n",
       "      <td>0.0292</td>\n",
       "      <td>0.0155</td>\n",
       "      <td>0.014</td>\n",
       "      <td>0.0149</td>\n",
       "    </tr>\n",
       "    <tr>\n",
       "      <th>10</th>\n",
       "      <td>Italy</td>\n",
       "      <td>€</td>\n",
       "      <td>0.0572</td>\n",
       "      <td>0.0347</td>\n",
       "      <td>0.0313</td>\n",
       "      <td>0.0319</td>\n",
       "    </tr>\n",
       "    <tr>\n",
       "      <th>11</th>\n",
       "      <td>Malaysia</td>\n",
       "      <td>€</td>\n",
       "      <td>0.0712</td>\n",
       "      <td>0.0166</td>\n",
       "      <td>0.0149</td>\n",
       "      <td>0.0182</td>\n",
       "    </tr>\n",
       "    <tr>\n",
       "      <th>12</th>\n",
       "      <td>Mexico</td>\n",
       "      <td>€</td>\n",
       "      <td>0.0361</td>\n",
       "      <td>0.0220</td>\n",
       "      <td>0.0198</td>\n",
       "      <td>0.0087</td>\n",
       "    </tr>\n",
       "    <tr>\n",
       "      <th>13</th>\n",
       "      <td>Netherlands</td>\n",
       "      <td>€</td>\n",
       "      <td>0.1323</td>\n",
       "      <td>0.0663</td>\n",
       "      <td>0.0596</td>\n",
       "      <td>0.0738</td>\n",
       "    </tr>\n",
       "    <tr>\n",
       "      <th>14</th>\n",
       "      <td>Nigeria</td>\n",
       "      <td>€</td>\n",
       "      <td>0.0428</td>\n",
       "      <td>0.0265</td>\n",
       "      <td>0.0238</td>\n",
       "      <td>0.0257</td>\n",
       "    </tr>\n",
       "    <tr>\n",
       "      <th>15</th>\n",
       "      <td>Pakistan</td>\n",
       "      <td>€</td>\n",
       "      <td>0.0392</td>\n",
       "      <td>0.0210</td>\n",
       "      <td>0.0189</td>\n",
       "      <td>0.0118</td>\n",
       "    </tr>\n",
       "    <tr>\n",
       "      <th>16</th>\n",
       "      <td>Peru</td>\n",
       "      <td>€</td>\n",
       "      <td>0.0582</td>\n",
       "      <td>0.0347</td>\n",
       "      <td>0.0312</td>\n",
       "      <td>0.0149</td>\n",
       "    </tr>\n",
       "    <tr>\n",
       "      <th>17</th>\n",
       "      <td>Russia</td>\n",
       "      <td>€</td>\n",
       "      <td>0.0664</td>\n",
       "      <td>0.0395</td>\n",
       "      <td>0.0355</td>\n",
       "      <td>0.0329</td>\n",
       "    </tr>\n",
       "    <tr>\n",
       "      <th>18</th>\n",
       "      <td>Saudi Arabia</td>\n",
       "      <td>€</td>\n",
       "      <td>0.0336</td>\n",
       "      <td>0.0209</td>\n",
       "      <td>0.0187</td>\n",
       "      <td>0.0161</td>\n",
       "    </tr>\n",
       "    <tr>\n",
       "      <th>19</th>\n",
       "      <td>South Africa</td>\n",
       "      <td>€</td>\n",
       "      <td>0.0314</td>\n",
       "      <td>0.0166</td>\n",
       "      <td>0.0149</td>\n",
       "      <td>0.0139</td>\n",
       "    </tr>\n",
       "    <tr>\n",
       "      <th>20</th>\n",
       "      <td>Spain</td>\n",
       "      <td>€</td>\n",
       "      <td>0.0509</td>\n",
       "      <td>0.0315</td>\n",
       "      <td>0.0283</td>\n",
       "      <td>0.0305</td>\n",
       "    </tr>\n",
       "    <tr>\n",
       "      <th>21</th>\n",
       "      <td>Turkey</td>\n",
       "      <td>€</td>\n",
       "      <td>0.0090</td>\n",
       "      <td>0.0077</td>\n",
       "      <td>0.0069</td>\n",
       "      <td>0.0025</td>\n",
       "    </tr>\n",
       "    <tr>\n",
       "      <th>22</th>\n",
       "      <td>United Arab Emirates</td>\n",
       "      <td>€</td>\n",
       "      <td>0.0282</td>\n",
       "      <td>0.0164</td>\n",
       "      <td>0.0147</td>\n",
       "      <td>0.0157</td>\n",
       "    </tr>\n",
       "    <tr>\n",
       "      <th>23</th>\n",
       "      <td>United Kingdom</td>\n",
       "      <td>€</td>\n",
       "      <td>0.0584</td>\n",
       "      <td>0.0330</td>\n",
       "      <td>0.0297</td>\n",
       "      <td>0.0321</td>\n",
       "    </tr>\n",
       "    <tr>\n",
       "      <th>24</th>\n",
       "      <td>North America</td>\n",
       "      <td>€</td>\n",
       "      <td>0.0207</td>\n",
       "      <td>0.0124</td>\n",
       "      <td>0.0112</td>\n",
       "      <td>0.0073</td>\n",
       "    </tr>\n",
       "    <tr>\n",
       "      <th>25</th>\n",
       "      <td>Rest of Africa</td>\n",
       "      <td>€</td>\n",
       "      <td>0.0186</td>\n",
       "      <td>0.0133</td>\n",
       "      <td>0.0119</td>\n",
       "      <td>0.0300</td>\n",
       "    </tr>\n",
       "    <tr>\n",
       "      <th>26</th>\n",
       "      <td>Rest of Asia Pacific</td>\n",
       "      <td>€</td>\n",
       "      <td>0.0606</td>\n",
       "      <td>0.0391</td>\n",
       "      <td>0.0352</td>\n",
       "      <td>0.0185</td>\n",
       "    </tr>\n",
       "    <tr>\n",
       "      <th>27</th>\n",
       "      <td>Rest of Central &amp; Eastern Europe</td>\n",
       "      <td>€</td>\n",
       "      <td>0.0712</td>\n",
       "      <td>0.0512</td>\n",
       "      <td>0.0461</td>\n",
       "      <td>0.0207</td>\n",
       "    </tr>\n",
       "    <tr>\n",
       "      <th>28</th>\n",
       "      <td>Rest of Latin America</td>\n",
       "      <td>€</td>\n",
       "      <td>0.0612</td>\n",
       "      <td>0.0409</td>\n",
       "      <td>0.0368</td>\n",
       "      <td>0.0351</td>\n",
       "    </tr>\n",
       "    <tr>\n",
       "      <th>29</th>\n",
       "      <td>Rest of Middle East</td>\n",
       "      <td>€</td>\n",
       "      <td>0.0282</td>\n",
       "      <td>0.0164</td>\n",
       "      <td>0.0147</td>\n",
       "      <td>0.0181</td>\n",
       "    </tr>\n",
       "    <tr>\n",
       "      <th>30</th>\n",
       "      <td>Rest of Western Europe</td>\n",
       "      <td>€</td>\n",
       "      <td>0.0490</td>\n",
       "      <td>0.0348</td>\n",
       "      <td>0.0313</td>\n",
       "      <td>0.0329</td>\n",
       "    </tr>\n",
       "    <tr>\n",
       "      <th>31</th>\n",
       "      <td>Other</td>\n",
       "      <td>€</td>\n",
       "      <td>0.0500</td>\n",
       "      <td>0.0280</td>\n",
       "      <td>0.0252</td>\n",
       "      <td>0.0120</td>\n",
       "    </tr>\n",
       "  </tbody>\n",
       "</table>\n",
       "</div>"
      ],
      "text/plain": [
       "                              Market Currency  Marketing  Utility  \\\n",
       "0                          Argentina        €     0.0512   0.0338   \n",
       "1                             Brazil        €     0.0518   0.0290   \n",
       "2                              Chile        €     0.0736   0.0485   \n",
       "3                           Colombia        €     0.0104   0.0071   \n",
       "4                              Egypt        €     0.0889   0.0569   \n",
       "5                             France        €     0.1186   0.0636   \n",
       "6                            Germany        €     0.1131   0.0707   \n",
       "7                              India        €     0.0083   0.0035   \n",
       "8                          Indonesia        €     0.0341   0.0166   \n",
       "9                             Israel        €     0.0292   0.0155   \n",
       "10                             Italy        €     0.0572   0.0347   \n",
       "11                          Malaysia        €     0.0712   0.0166   \n",
       "12                            Mexico        €     0.0361   0.0220   \n",
       "13                       Netherlands        €     0.1323   0.0663   \n",
       "14                           Nigeria        €     0.0428   0.0265   \n",
       "15                          Pakistan        €     0.0392   0.0210   \n",
       "16                              Peru        €     0.0582   0.0347   \n",
       "17                            Russia        €     0.0664   0.0395   \n",
       "18                      Saudi Arabia        €     0.0336   0.0209   \n",
       "19                      South Africa        €     0.0314   0.0166   \n",
       "20                             Spain        €     0.0509   0.0315   \n",
       "21                            Turkey        €     0.0090   0.0077   \n",
       "22              United Arab Emirates        €     0.0282   0.0164   \n",
       "23                    United Kingdom        €     0.0584   0.0330   \n",
       "24                     North America        €     0.0207   0.0124   \n",
       "25                    Rest of Africa        €     0.0186   0.0133   \n",
       "26              Rest of Asia Pacific        €     0.0606   0.0391   \n",
       "27  Rest of Central & Eastern Europe        €     0.0712   0.0512   \n",
       "28             Rest of Latin America        €     0.0612   0.0409   \n",
       "29               Rest of Middle East        €     0.0282   0.0164   \n",
       "30            Rest of Western Europe        €     0.0490   0.0348   \n",
       "31                             Other        €     0.0500   0.0280   \n",
       "\n",
       "                                Authentication  Service  \n",
       "0                                       0.0304   0.0261  \n",
       "1                                       0.0261   0.0248  \n",
       "2                                       0.0437   0.0376  \n",
       "3                                       0.0063   0.0050  \n",
       "4                                       0.0512   0.0533  \n",
       "5                                       0.0572   0.0712  \n",
       "6                                       0.0636   0.0679  \n",
       "7   rate not finalized; reference utility rate   0.0033  \n",
       "8                                       0.0249   0.0157  \n",
       "9                                        0.014   0.0149  \n",
       "10                                      0.0313   0.0319  \n",
       "11                                      0.0149   0.0182  \n",
       "12                                      0.0198   0.0087  \n",
       "13                                      0.0596   0.0738  \n",
       "14                                      0.0238   0.0257  \n",
       "15                                      0.0189   0.0118  \n",
       "16                                      0.0312   0.0149  \n",
       "17                                      0.0355   0.0329  \n",
       "18                                      0.0187   0.0161  \n",
       "19                                      0.0149   0.0139  \n",
       "20                                      0.0283   0.0305  \n",
       "21                                      0.0069   0.0025  \n",
       "22                                      0.0147   0.0157  \n",
       "23                                      0.0297   0.0321  \n",
       "24                                      0.0112   0.0073  \n",
       "25                                      0.0119   0.0300  \n",
       "26                                      0.0352   0.0185  \n",
       "27                                      0.0461   0.0207  \n",
       "28                                      0.0368   0.0351  \n",
       "29                                      0.0147   0.0181  \n",
       "30                                      0.0313   0.0329  \n",
       "31                                      0.0252   0.0120  "
      ]
     },
     "execution_count": 65,
     "metadata": {},
     "output_type": "execute_result"
    }
   ],
   "source": [
    "Watshapp_price"
   ]
  },
  {
   "cell_type": "code",
   "execution_count": 66,
   "id": "4fdc7e46",
   "metadata": {},
   "outputs": [
    {
     "name": "stdout",
     "output_type": "stream",
     "text": [
      "count    32.000000\n",
      "mean      0.051675\n",
      "std       0.030315\n",
      "min       0.008300\n",
      "25%       0.030850\n",
      "50%       0.050450\n",
      "75%       0.062500\n",
      "max       0.132300\n",
      "Name: Marketing, dtype: float64\n"
     ]
    }
   ],
   "source": [
    "print(Watshapp_price['Marketing'].describe())\n"
   ]
  },
  {
   "cell_type": "code",
   "execution_count": 68,
   "id": "d9cf7e2a",
   "metadata": {},
   "outputs": [
    {
     "name": "stdout",
     "output_type": "stream",
     "text": [
      "count    32.000000\n",
      "mean      0.030272\n",
      "std       0.017668\n",
      "min       0.003500\n",
      "25%       0.016550\n",
      "50%       0.028500\n",
      "75%       0.039200\n",
      "max       0.070700\n",
      "Name: Utility, dtype: float64\n"
     ]
    }
   ],
   "source": [
    "print(Watshapp_price['Utility'].describe())\n"
   ]
  },
  {
   "cell_type": "code",
   "execution_count": 74,
   "id": "49789ced",
   "metadata": {},
   "outputs": [],
   "source": [
    "import numpy as np\n",
    "\n",
    "# Remplacer la valeur incorrecte par NaN\n",
    "Watshapp_price['Authentication'] = Watshapp_price['Authentication'].replace('rate not finalized; reference utility rate', np.nan)\n",
    "\n",
    "# Convertir la colonne en type float\n",
    "Watshapp_price['Authentication'] = Watshapp_price['Authentication'].astype(float)\n",
    "\n",
    "# Calculer la moyenne sans tenir compte des valeurs NaN\n",
    "mean_authentication = Watshapp_price['Authentication'].mean(skipna=True)\n",
    "\n",
    "# Remplacer les valeurs NaN par la moyenne\n",
    "Watshapp_price['Authentication'].fillna(mean_authentication, inplace=True)\n",
    "\n",
    "\n"
   ]
  },
  {
   "cell_type": "code",
   "execution_count": 75,
   "id": "554b2deb",
   "metadata": {},
   "outputs": [
    {
     "name": "stdout",
     "output_type": "stream",
     "text": [
      "count    32.000000\n",
      "mean      0.028323\n",
      "std       0.015112\n",
      "min       0.006300\n",
      "25%       0.014900\n",
      "50%       0.027200\n",
      "75%       0.035275\n",
      "max       0.063600\n",
      "Name: Authentication, dtype: float64\n"
     ]
    }
   ],
   "source": [
    "print(Watshapp_price['Authentication'].describe())\n"
   ]
  },
  {
   "cell_type": "code",
   "execution_count": 76,
   "id": "47c83717",
   "metadata": {},
   "outputs": [
    {
     "name": "stdout",
     "output_type": "stream",
     "text": [
      "count    32.000000\n",
      "mean      0.025722\n",
      "std       0.018591\n",
      "min       0.002500\n",
      "25%       0.014650\n",
      "50%       0.019600\n",
      "75%       0.032300\n",
      "max       0.073800\n",
      "Name: Service, dtype: float64\n"
     ]
    }
   ],
   "source": [
    "print(Watshapp_price['Service'].describe())\n"
   ]
  },
  {
   "cell_type": "code",
   "execution_count": 78,
   "id": "1bb99155",
   "metadata": {},
   "outputs": [
    {
     "name": "stdout",
     "output_type": "stream",
     "text": [
      "Marketing         0.051675\n",
      "Utility           0.030272\n",
      "Authentication    0.028323\n",
      "Service           0.025722\n",
      "dtype: float64\n",
      "0.03399783266129032\n"
     ]
    }
   ],
   "source": [
    "# Calculer la moyenne des colonnes de prix\n",
    "mean_prices = Watshapp_price[['Marketing', 'Utility', 'Authentication', 'Service']].mean()\n",
    "\n",
    "# Afficher les moyennes\n",
    "print(mean_prices)\n",
    "print(mean_prices.mean())\n"
   ]
  },
  {
   "cell_type": "code",
   "execution_count": 67,
   "id": "8727a014",
   "metadata": {},
   "outputs": [
    {
     "name": "stdout",
     "output_type": "stream",
     "text": [
      "   Market Currency  Marketing  Utility Authentication  Service\n",
      "5  France        €     0.1186   0.0636         0.0572   0.0712\n"
     ]
    }
   ],
   "source": [
    "france_data = Watshapp_price[Watshapp_price['Market'] == 'France']\n",
    "print(france_data)\n"
   ]
  },
  {
   "cell_type": "code",
   "execution_count": 83,
   "id": "3cd36c3e",
   "metadata": {},
   "outputs": [
    {
     "name": "stdout",
     "output_type": "stream",
     "text": [
      "0.07765\n"
     ]
    }
   ],
   "source": [
    "# Calculer la moyenne des colonnes de prix pour la France\n",
    "mean_france_prices = france_data[['Marketing', 'Utility', 'Authentication', 'Service']].mean()\n",
    "\n",
    "print(mean_france_prices.mean())"
   ]
  },
  {
   "cell_type": "code",
   "execution_count": 88,
   "id": "3843dc2c",
   "metadata": {},
   "outputs": [
    {
     "data": {
      "text/plain": [
       "0                            Argentina\n",
       "1                               Brazil\n",
       "2                                Chile\n",
       "3                             Colombia\n",
       "4                                Egypt\n",
       "5                               France\n",
       "6                              Germany\n",
       "7                                India\n",
       "8                            Indonesia\n",
       "9                               Israel\n",
       "10                               Italy\n",
       "11                            Malaysia\n",
       "12                              Mexico\n",
       "13                         Netherlands\n",
       "14                             Nigeria\n",
       "15                            Pakistan\n",
       "16                                Peru\n",
       "17                              Russia\n",
       "18                        Saudi Arabia\n",
       "19                        South Africa\n",
       "20                               Spain\n",
       "21                              Turkey\n",
       "22                United Arab Emirates\n",
       "23                      United Kingdom\n",
       "24                       North America\n",
       "25                      Rest of Africa\n",
       "26                Rest of Asia Pacific\n",
       "27    Rest of Central & Eastern Europe\n",
       "28               Rest of Latin America\n",
       "29                 Rest of Middle East\n",
       "30              Rest of Western Europe\n",
       "31                               Other\n",
       "Name: Market, dtype: object"
      ]
     },
     "execution_count": 88,
     "metadata": {},
     "output_type": "execute_result"
    }
   ],
   "source": [
    "Watshapp_price[\"Market\"]\n",
    " "
   ]
  },
  {
   "cell_type": "code",
   "execution_count": 84,
   "id": "ce1bff06",
   "metadata": {},
   "outputs": [],
   "source": [
    "Watshapp_price_code = pd.read_csv(r\"C:\\Users\\awa29\\OneDrive\\Bureau\\Stage NLP\\Watshapp_price_code.csv\")\n",
    "\n"
   ]
  },
  {
   "cell_type": "code",
   "execution_count": 85,
   "id": "7a2497d7",
   "metadata": {},
   "outputs": [
    {
     "data": {
      "text/html": [
       "<div>\n",
       "<style scoped>\n",
       "    .dataframe tbody tr th:only-of-type {\n",
       "        vertical-align: middle;\n",
       "    }\n",
       "\n",
       "    .dataframe tbody tr th {\n",
       "        vertical-align: top;\n",
       "    }\n",
       "\n",
       "    .dataframe thead th {\n",
       "        text-align: right;\n",
       "    }\n",
       "</style>\n",
       "<table border=\"1\" class=\"dataframe\">\n",
       "  <thead>\n",
       "    <tr style=\"text-align: right;\">\n",
       "      <th></th>\n",
       "      <th>Country</th>\n",
       "      <th>Region</th>\n",
       "      <th>Country calling code (and network prefix, where applicable)</th>\n",
       "    </tr>\n",
       "  </thead>\n",
       "  <tbody>\n",
       "    <tr>\n",
       "      <th>0</th>\n",
       "      <td>Afghanistan</td>\n",
       "      <td>Rest of Asia Pacific</td>\n",
       "      <td>93</td>\n",
       "    </tr>\n",
       "    <tr>\n",
       "      <th>1</th>\n",
       "      <td>Albania</td>\n",
       "      <td>Rest of Central &amp; Eastern Europe</td>\n",
       "      <td>355</td>\n",
       "    </tr>\n",
       "    <tr>\n",
       "      <th>2</th>\n",
       "      <td>Algeria</td>\n",
       "      <td>Rest of Africa</td>\n",
       "      <td>213</td>\n",
       "    </tr>\n",
       "    <tr>\n",
       "      <th>3</th>\n",
       "      <td>All other countries</td>\n",
       "      <td>Other</td>\n",
       "      <td>varies by country</td>\n",
       "    </tr>\n",
       "    <tr>\n",
       "      <th>4</th>\n",
       "      <td>Angola</td>\n",
       "      <td>Rest of Africa</td>\n",
       "      <td>244</td>\n",
       "    </tr>\n",
       "    <tr>\n",
       "      <th>...</th>\n",
       "      <td>...</td>\n",
       "      <td>...</td>\n",
       "      <td>...</td>\n",
       "    </tr>\n",
       "    <tr>\n",
       "      <th>135</th>\n",
       "      <td>Uzbekistan</td>\n",
       "      <td>Rest of Asia Pacific</td>\n",
       "      <td>998</td>\n",
       "    </tr>\n",
       "    <tr>\n",
       "      <th>136</th>\n",
       "      <td>Venezuela</td>\n",
       "      <td>Rest of Latin America</td>\n",
       "      <td>58</td>\n",
       "    </tr>\n",
       "    <tr>\n",
       "      <th>137</th>\n",
       "      <td>Vietnam</td>\n",
       "      <td>Rest of Asia Pacific</td>\n",
       "      <td>84</td>\n",
       "    </tr>\n",
       "    <tr>\n",
       "      <th>138</th>\n",
       "      <td>Yemen</td>\n",
       "      <td>Rest of Middle East</td>\n",
       "      <td>967</td>\n",
       "    </tr>\n",
       "    <tr>\n",
       "      <th>139</th>\n",
       "      <td>Zambia</td>\n",
       "      <td>Rest of Africa</td>\n",
       "      <td>260</td>\n",
       "    </tr>\n",
       "  </tbody>\n",
       "</table>\n",
       "<p>140 rows × 3 columns</p>\n",
       "</div>"
      ],
      "text/plain": [
       "                 Country                            Region  \\\n",
       "0            Afghanistan              Rest of Asia Pacific   \n",
       "1                Albania  Rest of Central & Eastern Europe   \n",
       "2                Algeria                    Rest of Africa   \n",
       "3    All other countries                             Other   \n",
       "4                 Angola                    Rest of Africa   \n",
       "..                   ...                               ...   \n",
       "135           Uzbekistan              Rest of Asia Pacific   \n",
       "136            Venezuela             Rest of Latin America   \n",
       "137              Vietnam              Rest of Asia Pacific   \n",
       "138                Yemen               Rest of Middle East   \n",
       "139               Zambia                    Rest of Africa   \n",
       "\n",
       "    Country calling code (and network prefix, where applicable)  \n",
       "0                                                   93           \n",
       "1                                                  355           \n",
       "2                                                  213           \n",
       "3                                    varies by country           \n",
       "4                                                  244           \n",
       "..                                                 ...           \n",
       "135                                                998           \n",
       "136                                                 58           \n",
       "137                                                 84           \n",
       "138                                                967           \n",
       "139                                                260           \n",
       "\n",
       "[140 rows x 3 columns]"
      ]
     },
     "execution_count": 85,
     "metadata": {},
     "output_type": "execute_result"
    }
   ],
   "source": [
    "Watshapp_price_code"
   ]
  },
  {
   "cell_type": "code",
   "execution_count": 92,
   "id": "14a8f8a9",
   "metadata": {},
   "outputs": [],
   "source": [
    "vonage= pd.read_csv(r\"C:\\Users\\awa29\\OneDrive\\Bureau\\Stage NLP\\vonage.csv\")\n"
   ]
  },
  {
   "cell_type": "code",
   "execution_count": 93,
   "id": "99034e36",
   "metadata": {},
   "outputs": [
    {
     "data": {
      "text/html": [
       "<div>\n",
       "<style scoped>\n",
       "    .dataframe tbody tr th:only-of-type {\n",
       "        vertical-align: middle;\n",
       "    }\n",
       "\n",
       "    .dataframe tbody tr th {\n",
       "        vertical-align: top;\n",
       "    }\n",
       "\n",
       "    .dataframe thead th {\n",
       "        text-align: right;\n",
       "    }\n",
       "</style>\n",
       "<table border=\"1\" class=\"dataframe\">\n",
       "  <thead>\n",
       "    <tr style=\"text-align: right;\">\n",
       "      <th></th>\n",
       "      <th>Country Code</th>\n",
       "      <th>Country Name</th>\n",
       "      <th>Prefix</th>\n",
       "      <th>Price (EUR) / message</th>\n",
       "      <th>Valid from (UTC)</th>\n",
       "    </tr>\n",
       "  </thead>\n",
       "  <tbody>\n",
       "    <tr>\n",
       "      <th>0</th>\n",
       "      <td>AC</td>\n",
       "      <td>Ascension Island</td>\n",
       "      <td>247</td>\n",
       "      <td>0.1000</td>\n",
       "      <td>2016-04-11 15:00</td>\n",
       "    </tr>\n",
       "    <tr>\n",
       "      <th>1</th>\n",
       "      <td>AD</td>\n",
       "      <td>Andorra</td>\n",
       "      <td>376</td>\n",
       "      <td>0.1133</td>\n",
       "      <td>2023-04-10 22:00</td>\n",
       "    </tr>\n",
       "    <tr>\n",
       "      <th>2</th>\n",
       "      <td>AE</td>\n",
       "      <td>United Arab Emirates</td>\n",
       "      <td>971</td>\n",
       "      <td>0.1051</td>\n",
       "      <td>2022-09-19 01:00</td>\n",
       "    </tr>\n",
       "    <tr>\n",
       "      <th>3</th>\n",
       "      <td>AF</td>\n",
       "      <td>Afghanistan</td>\n",
       "      <td>93</td>\n",
       "      <td>0.2062</td>\n",
       "      <td>2023-04-10 22:00</td>\n",
       "    </tr>\n",
       "    <tr>\n",
       "      <th>4</th>\n",
       "      <td>AG</td>\n",
       "      <td>Antigua and Barbuda</td>\n",
       "      <td>1268</td>\n",
       "      <td>0.0975</td>\n",
       "      <td>2022-11-14 01:00</td>\n",
       "    </tr>\n",
       "    <tr>\n",
       "      <th>...</th>\n",
       "      <td>...</td>\n",
       "      <td>...</td>\n",
       "      <td>...</td>\n",
       "      <td>...</td>\n",
       "      <td>...</td>\n",
       "    </tr>\n",
       "    <tr>\n",
       "      <th>224</th>\n",
       "      <td>YE</td>\n",
       "      <td>Yemen</td>\n",
       "      <td>967</td>\n",
       "      <td>0.2041</td>\n",
       "      <td>2022-09-19 01:00</td>\n",
       "    </tr>\n",
       "    <tr>\n",
       "      <th>225</th>\n",
       "      <td>YT</td>\n",
       "      <td>Mayotte</td>\n",
       "      <td>269</td>\n",
       "      <td>0.1600</td>\n",
       "      <td>2016-10-14 11:00</td>\n",
       "    </tr>\n",
       "    <tr>\n",
       "      <th>226</th>\n",
       "      <td>ZA</td>\n",
       "      <td>South Africa</td>\n",
       "      <td>27</td>\n",
       "      <td>0.0231</td>\n",
       "      <td>2019-11-15 16:00</td>\n",
       "    </tr>\n",
       "    <tr>\n",
       "      <th>227</th>\n",
       "      <td>ZM</td>\n",
       "      <td>Zambia</td>\n",
       "      <td>260</td>\n",
       "      <td>0.1745</td>\n",
       "      <td>2023-04-10 23:00</td>\n",
       "    </tr>\n",
       "    <tr>\n",
       "      <th>228</th>\n",
       "      <td>ZW</td>\n",
       "      <td>Zimbabwe</td>\n",
       "      <td>263</td>\n",
       "      <td>0.1300</td>\n",
       "      <td>2022-08-18 09:00</td>\n",
       "    </tr>\n",
       "  </tbody>\n",
       "</table>\n",
       "<p>229 rows × 5 columns</p>\n",
       "</div>"
      ],
      "text/plain": [
       "    Country Code          Country Name  Prefix  Price (EUR) / message  \\\n",
       "0             AC      Ascension Island     247                 0.1000   \n",
       "1             AD               Andorra     376                 0.1133   \n",
       "2             AE  United Arab Emirates     971                 0.1051   \n",
       "3             AF           Afghanistan      93                 0.2062   \n",
       "4             AG   Antigua and Barbuda    1268                 0.0975   \n",
       "..           ...                   ...     ...                    ...   \n",
       "224           YE                 Yemen     967                 0.2041   \n",
       "225           YT               Mayotte     269                 0.1600   \n",
       "226           ZA          South Africa      27                 0.0231   \n",
       "227           ZM                Zambia     260                 0.1745   \n",
       "228           ZW              Zimbabwe     263                 0.1300   \n",
       "\n",
       "     Valid from (UTC)  \n",
       "0    2016-04-11 15:00  \n",
       "1    2023-04-10 22:00  \n",
       "2    2022-09-19 01:00  \n",
       "3    2023-04-10 22:00  \n",
       "4    2022-11-14 01:00  \n",
       "..                ...  \n",
       "224  2022-09-19 01:00  \n",
       "225  2016-10-14 11:00  \n",
       "226  2019-11-15 16:00  \n",
       "227  2023-04-10 23:00  \n",
       "228  2022-08-18 09:00  \n",
       "\n",
       "[229 rows x 5 columns]"
      ]
     },
     "execution_count": 93,
     "metadata": {},
     "output_type": "execute_result"
    }
   ],
   "source": [
    "vonage"
   ]
  },
  {
   "cell_type": "code",
   "execution_count": 97,
   "id": "a5eb0484",
   "metadata": {},
   "outputs": [
    {
     "data": {
      "text/plain": [
       "Index(['Country Code', 'Country Name', 'Prefix', 'Price (EUR) / message',\n",
       "       'Valid from (UTC)'],\n",
       "      dtype='object')"
      ]
     },
     "execution_count": 97,
     "metadata": {},
     "output_type": "execute_result"
    }
   ],
   "source": [
    "vonage.columns"
   ]
  },
  {
   "cell_type": "code",
   "execution_count": 98,
   "id": "a2cc4736",
   "metadata": {},
   "outputs": [
    {
     "data": {
      "text/plain": [
       "0      0.1000\n",
       "1      0.1133\n",
       "2      0.1051\n",
       "3      0.2062\n",
       "4      0.0975\n",
       "        ...  \n",
       "224    0.2041\n",
       "225    0.1600\n",
       "226    0.0231\n",
       "227    0.1745\n",
       "228    0.1300\n",
       "Name: Price (EUR) / message, Length: 229, dtype: float64"
      ]
     },
     "execution_count": 98,
     "metadata": {},
     "output_type": "execute_result"
    }
   ],
   "source": [
    "vonage['Price (EUR) / message']"
   ]
  },
  {
   "cell_type": "code",
   "execution_count": 107,
   "id": "7aa3c82e",
   "metadata": {},
   "outputs": [
    {
     "data": {
      "text/plain": [
       "0.09949384279475981"
      ]
     },
     "execution_count": 107,
     "metadata": {},
     "output_type": "execute_result"
    }
   ],
   "source": [
    "moyenne_vonage=vonage['Price (EUR) / message'].mean()\n",
    "moyenne_vonage"
   ]
  },
  {
   "cell_type": "code",
   "execution_count": 108,
   "id": "de91cc6e",
   "metadata": {},
   "outputs": [
    {
     "data": {
      "text/plain": [
       "0.03399783266129032"
      ]
     },
     "execution_count": 108,
     "metadata": {},
     "output_type": "execute_result"
    }
   ],
   "source": [
    "moyenne_waths=mean_prices.mean()\n",
    "moyenne_waths"
   ]
  },
  {
   "cell_type": "code",
   "execution_count": 109,
   "id": "45bb6e98",
   "metadata": {},
   "outputs": [
    {
     "data": {
      "text/plain": [
       "0.12404617566331246"
      ]
     },
     "execution_count": 109,
     "metadata": {},
     "output_type": "execute_result"
    }
   ],
   "source": [
    "moyenne_twilio=twilio['Price / msg'].mean()\n",
    "moyenne_twilio"
   ]
  },
  {
   "cell_type": "code",
   "execution_count": 111,
   "id": "6a16cff9",
   "metadata": {},
   "outputs": [
    {
     "data": {
      "text/plain": [
       "0.08584595037312086"
      ]
     },
     "execution_count": 111,
     "metadata": {},
     "output_type": "execute_result"
    }
   ],
   "source": [
    "moyenne= (moyenne_vonage + moyenne_waths+ moyenne_twilio ) / 3\n",
    "moyenne"
   ]
  }
 ],
 "metadata": {
  "kernelspec": {
   "display_name": "Python 3 (ipykernel)",
   "language": "python",
   "name": "python3"
  },
  "language_info": {
   "codemirror_mode": {
    "name": "ipython",
    "version": 3
   },
   "file_extension": ".py",
   "mimetype": "text/x-python",
   "name": "python",
   "nbconvert_exporter": "python",
   "pygments_lexer": "ipython3",
   "version": "3.9.12"
  }
 },
 "nbformat": 4,
 "nbformat_minor": 5
}
