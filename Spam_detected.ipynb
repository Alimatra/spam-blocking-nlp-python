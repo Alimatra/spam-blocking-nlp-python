{
 "cells": [
  {
   "cell_type": "code",
   "execution_count": 224,
   "id": "3a594e6a",
   "metadata": {},
   "outputs": [],
   "source": [
    "import pandas as pd\n",
    "import matplotlib.pyplot as plt\n",
    "import csv\n",
    "import re\n",
    "import nltk\n",
    "from nltk.corpus import stopwords\n",
    "from nltk.stem import WordNetLemmatizer\n",
    "from sklearn.model_selection import train_test_split\n",
    "from sklearn.metrics import accuracy_score, classification_report, confusion_matrix\n",
    "from sklearn.svm import SVC\n",
    "from sklearn.ensemble import RandomForestClassifier\n",
    "from sklearn.linear_model import LogisticRegression\n",
    "from sklearn.naive_bayes import GaussianNB\n",
    "from sklearn.neighbors import KNeighborsClassifier\n",
    "from sklearn.model_selection import RandomizedSearchCV\n",
    "\n"
   ]
  },
  {
   "cell_type": "code",
   "execution_count": 2,
   "id": "05cb1bad",
   "metadata": {},
   "outputs": [
    {
     "name": "stderr",
     "output_type": "stream",
     "text": [
      "[nltk_data] Downloading package wordnet to\n",
      "[nltk_data]     C:\\Users\\awa29\\AppData\\Roaming\\nltk_data...\n",
      "[nltk_data]   Package wordnet is already up-to-date!\n",
      "[nltk_data] Downloading package punkt to\n",
      "[nltk_data]     C:\\Users\\awa29\\AppData\\Roaming\\nltk_data...\n",
      "[nltk_data]   Package punkt is already up-to-date!\n",
      "[nltk_data] Downloading package stopwords to\n",
      "[nltk_data]     C:\\Users\\awa29\\AppData\\Roaming\\nltk_data...\n",
      "[nltk_data]   Package stopwords is already up-to-date!\n",
      "[nltk_data] Downloading package averaged_perceptron_tagger to\n",
      "[nltk_data]     C:\\Users\\awa29\\AppData\\Roaming\\nltk_data...\n",
      "[nltk_data]   Package averaged_perceptron_tagger is already up-to-\n",
      "[nltk_data]       date!\n"
     ]
    },
    {
     "data": {
      "text/plain": [
       "True"
      ]
     },
     "execution_count": 2,
     "metadata": {},
     "output_type": "execute_result"
    }
   ],
   "source": [
    "nltk.download('wordnet')\n",
    "nltk.download('punkt')\n",
    "nltk.download('stopwords')\n",
    "nltk.download('averaged_perceptron_tagger')  # Télécharger les ressources nécessaires pour l'étiquetage grammatical\n"
   ]
  },
  {
   "cell_type": "markdown",
   "id": "92b13866",
   "metadata": {},
   "source": [
    "# I-Collecte de données \n",
    "\n",
    "\n"
   ]
  },
  {
   "cell_type": "markdown",
   "id": "aab86a9e",
   "metadata": {},
   "source": [
    "Dans cette étape, nous avons collecter un ensemble de données étiquetées qui contiennent à la fois des exemples de messages spam et des exemples de messages non spam à travers des applications comme : \n",
    "\n",
    "     -twilio\n",
    "     -lemlist\n",
    "     -waalaxy\n",
    "     -mailchimp\n",
    "     -brevo\n",
    "  \n",
    "  \n",
    "Puis on a stocké ces données dans un fichier csv"
   ]
  },
  {
   "cell_type": "code",
   "execution_count": 225,
   "id": "6e156715",
   "metadata": {},
   "outputs": [
    {
     "name": "stdout",
     "output_type": "stream",
     "text": [
      "Fichier CSV créé avec succès.\n"
     ]
    }
   ],
   "source": [
    "import csv\n",
    "import random\n",
    "\n",
    "fichier_texte = r\"C:\\Users\\awa29\\OneDrive\\Bureau\\Stage NLP\\message.txt\"\n",
    "fichier_csv = r\"C:\\Users\\awa29\\OneDrive\\Bureau\\Stage NLP\\message.csv\"\n",
    "\n",
    "# Lire le fichier texte\n",
    "with open(fichier_texte, 'r', encoding='utf-8-sig') as file:\n",
    "    lines = file.readlines()\n",
    "\n",
    "\n",
    "with open(fichier_csv, 'w', newline='', encoding='utf-8-sig') as file:\n",
    "    writer = csv.writer(file)\n",
    "\n",
    "    # Écrire l'en-tête du fichier CSV\n",
    "    writer.writerow([\"Message\", \"Type\"])\n",
    "\n",
    "    for line in lines:\n",
    "        # Vérifier si la ligne contient un point-virgule\n",
    "        if ';' in line:\n",
    "            # Séparer le message et le type en utilisant un point-virgule comme séparateur\n",
    "            message, typ = line.strip().split(';', maxsplit=1)\n",
    "\n",
    "            # Écrire le message et le type dans le fichier CSV\n",
    "            writer.writerow([message, typ])\n",
    "\n",
    "print(\"Fichier CSV créé avec succès.\")\n"
   ]
  },
  {
   "cell_type": "code",
   "execution_count": 226,
   "id": "0e0d5b1b",
   "metadata": {},
   "outputs": [],
   "source": [
    "import pandas as pd\n",
    "\n",
    "csv_file_path = r\"C:\\Users\\awa29\\OneDrive\\Bureau\\Stage NLP\\message.csv\"\n",
    "\n",
    "df = pd.read_csv(csv_file_path)\n",
    "\n",
    "df = df.sample(frac=1).reset_index(drop=True)\n",
    "\n",
    "\n"
   ]
  },
  {
   "cell_type": "code",
   "execution_count": 227,
   "id": "b89ccf93",
   "metadata": {},
   "outputs": [
    {
     "data": {
      "text/html": [
       "<div>\n",
       "<style scoped>\n",
       "    .dataframe tbody tr th:only-of-type {\n",
       "        vertical-align: middle;\n",
       "    }\n",
       "\n",
       "    .dataframe tbody tr th {\n",
       "        vertical-align: top;\n",
       "    }\n",
       "\n",
       "    .dataframe thead th {\n",
       "        text-align: right;\n",
       "    }\n",
       "</style>\n",
       "<table border=\"1\" class=\"dataframe\">\n",
       "  <thead>\n",
       "    <tr style=\"text-align: right;\">\n",
       "      <th></th>\n",
       "      <th>Message</th>\n",
       "      <th>Type</th>\n",
       "    </tr>\n",
       "  </thead>\n",
       "  <tbody>\n",
       "    <tr>\n",
       "      <th>0</th>\n",
       "      <td>Obtenez des résultats instantanés avec notre p...</td>\n",
       "      <td>Spam</td>\n",
       "    </tr>\n",
       "    <tr>\n",
       "      <th>1</th>\n",
       "      <td>Nous sommes ravis d'annoncer notre nouveau par...</td>\n",
       "      <td>Non spam</td>\n",
       "    </tr>\n",
       "    <tr>\n",
       "      <th>2</th>\n",
       "      <td>Enrichissez-vous grâce à notre système de trad...</td>\n",
       "      <td>Spam</td>\n",
       "    </tr>\n",
       "    <tr>\n",
       "      <th>3</th>\n",
       "      <td>Bonne nouvelle {{firstname}} ! Notre boutique ...</td>\n",
       "      <td>Non spam</td>\n",
       "    </tr>\n",
       "    <tr>\n",
       "      <th>4</th>\n",
       "      <td>Obtenez des followers Twitter en masse {{first...</td>\n",
       "      <td>Spam</td>\n",
       "    </tr>\n",
       "    <tr>\n",
       "      <th>5</th>\n",
       "      <td>Gagnez un voyage de rêve pour deux personnes, ...</td>\n",
       "      <td>Spam</td>\n",
       "    </tr>\n",
       "    <tr>\n",
       "      <th>6</th>\n",
       "      <td>Salut, êtes-vous disponible ?</td>\n",
       "      <td>Spam</td>\n",
       "    </tr>\n",
       "    <tr>\n",
       "      <th>7</th>\n",
       "      <td>Vous avez été sélectionné(e) {{firstname}} pou...</td>\n",
       "      <td>Spam</td>\n",
       "    </tr>\n",
       "    <tr>\n",
       "      <th>8</th>\n",
       "      <td>Rencontrez les meilleurs experts du secteur lo...</td>\n",
       "      <td>Non spam</td>\n",
       "    </tr>\n",
       "    <tr>\n",
       "      <th>9</th>\n",
       "      <td>Boostez votre potentiel de rencontres avec not...</td>\n",
       "      <td>Spam</td>\n",
       "    </tr>\n",
       "  </tbody>\n",
       "</table>\n",
       "</div>"
      ],
      "text/plain": [
       "                                             Message      Type\n",
       "0  Obtenez des résultats instantanés avec notre p...      Spam\n",
       "1  Nous sommes ravis d'annoncer notre nouveau par...  Non spam\n",
       "2  Enrichissez-vous grâce à notre système de trad...      Spam\n",
       "3  Bonne nouvelle {{firstname}} ! Notre boutique ...  Non spam\n",
       "4  Obtenez des followers Twitter en masse {{first...      Spam\n",
       "5  Gagnez un voyage de rêve pour deux personnes, ...      Spam\n",
       "6                      Salut, êtes-vous disponible ?      Spam\n",
       "7  Vous avez été sélectionné(e) {{firstname}} pou...      Spam\n",
       "8  Rencontrez les meilleurs experts du secteur lo...  Non spam\n",
       "9  Boostez votre potentiel de rencontres avec not...      Spam"
      ]
     },
     "execution_count": 227,
     "metadata": {},
     "output_type": "execute_result"
    }
   ],
   "source": [
    "df.iloc[0:10, :]\n",
    "\n"
   ]
  },
  {
   "cell_type": "code",
   "execution_count": 6,
   "id": "a4d8d5f8",
   "metadata": {},
   "outputs": [
    {
     "data": {
      "text/plain": [
       "0     Boostez votre productivité avec notre applicat...\n",
       "1     Le salon {{other}} est l'endroit idéal pour ex...\n",
       "2     Découvrez notre nouvelle collection de vêtemen...\n",
       "3     Obtenez des milliers de followers sur les rése...\n",
       "4     Vous avez été sélectionné(e) {{firstname}} pou...\n",
       "                            ...                        \n",
       "88    Répondez à ce sondage et gagnez un voyage grat...\n",
       "89    Enrichissez-vous grâce à notre système de trad...\n",
       "90    À la recherche de nouvelles opportunités profe...\n",
       "91    Bienvenue{{firstname}}. Pour quelle entreprise...\n",
       "92    Offre de bienvenue : Bénéficiez de {{other}}% ...\n",
       "Name: Message, Length: 93, dtype: object"
      ]
     },
     "execution_count": 6,
     "metadata": {},
     "output_type": "execute_result"
    }
   ],
   "source": [
    "df[\"Message\"]"
   ]
  },
  {
   "cell_type": "code",
   "execution_count": null,
   "id": "2ceeadf3",
   "metadata": {},
   "outputs": [],
   "source": []
  },
  {
   "cell_type": "code",
   "execution_count": 228,
   "id": "4dd60dc3",
   "metadata": {},
   "outputs": [
    {
     "name": "stdout",
     "output_type": "stream",
     "text": [
      "Boostez votre site web avec notre service de référencement, {{firstName}}. Obtenez un meilleur classement sur les moteurs de recherche et attirez plus de trafic qualifié. Contactez-nous dès aujourd'hui !\n"
     ]
    }
   ],
   "source": [
    "message_value = df.loc[75, \"Message\"]\n",
    "print(message_value)\n"
   ]
  },
  {
   "cell_type": "markdown",
   "id": "d1f679d1",
   "metadata": {},
   "source": [
    "# II-Analyse Descriptive"
   ]
  },
  {
   "cell_type": "code",
   "execution_count": 229,
   "id": "1506078f",
   "metadata": {},
   "outputs": [
    {
     "data": {
      "text/html": [
       "<div>\n",
       "<style scoped>\n",
       "    .dataframe tbody tr th:only-of-type {\n",
       "        vertical-align: middle;\n",
       "    }\n",
       "\n",
       "    .dataframe tbody tr th {\n",
       "        vertical-align: top;\n",
       "    }\n",
       "\n",
       "    .dataframe thead th {\n",
       "        text-align: right;\n",
       "    }\n",
       "</style>\n",
       "<table border=\"1\" class=\"dataframe\">\n",
       "  <thead>\n",
       "    <tr style=\"text-align: right;\">\n",
       "      <th></th>\n",
       "      <th>Message</th>\n",
       "      <th>Type</th>\n",
       "    </tr>\n",
       "  </thead>\n",
       "  <tbody>\n",
       "    <tr>\n",
       "      <th>count</th>\n",
       "      <td>93</td>\n",
       "      <td>93</td>\n",
       "    </tr>\n",
       "    <tr>\n",
       "      <th>unique</th>\n",
       "      <td>93</td>\n",
       "      <td>2</td>\n",
       "    </tr>\n",
       "    <tr>\n",
       "      <th>top</th>\n",
       "      <td>Obtenez des résultats instantanés avec notre p...</td>\n",
       "      <td>Non spam</td>\n",
       "    </tr>\n",
       "    <tr>\n",
       "      <th>freq</th>\n",
       "      <td>1</td>\n",
       "      <td>50</td>\n",
       "    </tr>\n",
       "  </tbody>\n",
       "</table>\n",
       "</div>"
      ],
      "text/plain": [
       "                                                  Message      Type\n",
       "count                                                  93        93\n",
       "unique                                                 93         2\n",
       "top     Obtenez des résultats instantanés avec notre p...  Non spam\n",
       "freq                                                    1        50"
      ]
     },
     "execution_count": 229,
     "metadata": {},
     "output_type": "execute_result"
    }
   ],
   "source": [
    "summary_stats = df.describe()\n",
    "summary_stats\n"
   ]
  },
  {
   "cell_type": "code",
   "execution_count": null,
   "id": "e9a7d403",
   "metadata": {},
   "outputs": [],
   "source": []
  },
  {
   "cell_type": "markdown",
   "id": "73843a0b",
   "metadata": {},
   "source": [
    " "
   ]
  },
  {
   "cell_type": "code",
   "execution_count": 9,
   "id": "06dc48fb",
   "metadata": {},
   "outputs": [
    {
     "name": "stdout",
     "output_type": "stream",
     "text": [
      "Non spam    53.763441\n",
      "Spam        46.236559\n",
      "Name: Type, dtype: float64\n",
      "Non spam    50\n",
      "Spam        43\n",
      "Name: Type, dtype: int64\n"
     ]
    }
   ],
   "source": [
    "type_email_counts = df['Type'].value_counts()\n",
    "total_emails = len(df['Type'])\n",
    "pourcentages = (type_email_counts / total_emails) * 100\n",
    "\n",
    "print(pourcentages)\n",
    "print(type_email_counts)"
   ]
  },
  {
   "cell_type": "code",
   "execution_count": 232,
   "id": "2c90fc6d",
   "metadata": {},
   "outputs": [
    {
     "data": {
      "text/plain": [
       "Text(0.5, 1.0, \"Distribution des types d'e-mail\")"
      ]
     },
     "execution_count": 232,
     "metadata": {},
     "output_type": "execute_result"
    },
    {
     "data": {
      "image/png": "[encoded data removed]",
      "text/plain": [
       "<Figure size 432x288 with 1 Axes>"
      ]
     },
     "metadata": {
      "needs_background": "light"
     },
     "output_type": "display_data"
    }
   ],
   "source": [
    "couleurs = ['#FF0000', '#00FF00'] \n",
    "\n",
    "type_email_counts.plot(kind='bar', color=couleurs)\n",
    "plt.xlabel(\"Type d'e-mail\")\n",
    "plt.ylabel(\"Fréquence\")\n",
    "plt.title(\"Distribution des types d'e-mail\")\n",
    "\n"
   ]
  },
  {
   "cell_type": "code",
   "execution_count": 237,
   "id": "0bc1a034",
   "metadata": {},
   "outputs": [
    {
     "data": {
      "image/png": "[encoded data removed]",
      "text/plain": [
       "<Figure size 432x288 with 1 Axes>"
      ]
     },
     "metadata": {},
     "output_type": "display_data"
    }
   ],
   "source": [
    "type_email_counts.plot(kind='pie', colors=couleurs, autopct='%1.1f%%', startangle=50)\n",
    "plt.title(\"Répartition des types d'e-mail\")\n",
    "plt.show()\n",
    "\n"
   ]
  },
  {
   "cell_type": "markdown",
   "id": "8f6a76cd",
   "metadata": {},
   "source": [
    "On a une équilibre entre les exemples de spam et de non spam dans notre ensemble de données pour éviter tout biais dans l'apprentissage du modèle."
   ]
  },
  {
   "cell_type": "code",
   "execution_count": null,
   "id": "fb2c24f8",
   "metadata": {},
   "outputs": [],
   "source": []
  },
  {
   "cell_type": "code",
   "execution_count": 238,
   "id": "2b22c723",
   "metadata": {},
   "outputs": [
    {
     "data": {
      "image/png": "[encoded data removed]",
      "text/plain": [
       "<Figure size 432x288 with 1 Axes>"
      ]
     },
     "metadata": {
      "needs_background": "light"
     },
     "output_type": "display_data"
    }
   ],
   "source": [
    "# Calculer les longueurs des textes d'e-mails\n",
    "df[\"Longueur du texte\"] = df[\"Message\"].apply(lambda x: len(x))\n",
    "\n",
    "# Créer l'histogramme\n",
    "df[\"Longueur du texte\"].hist(bins=20)\n",
    "plt.xlabel(\"Longueur du texte\")\n",
    "plt.ylabel(\"Fréquence\")\n",
    "plt.title(\"Histogramme des longueurs de texte des e-mails\")\n",
    "plt.show()\n"
   ]
  },
  {
   "cell_type": "code",
   "execution_count": 12,
   "id": "5b567a46",
   "metadata": {},
   "outputs": [],
   "source": [
    "#!pip install textblob"
   ]
  },
  {
   "cell_type": "code",
   "execution_count": 239,
   "id": "d86a7f8c",
   "metadata": {},
   "outputs": [],
   "source": [
    "from textblob import TextBlob\n",
    "\n"
   ]
  },
  {
   "cell_type": "code",
   "execution_count": 240,
   "id": "9be44598",
   "metadata": {},
   "outputs": [
    {
     "name": "stdout",
     "output_type": "stream",
     "text": [
      "                                              Message  Polarité  Subjectivité\n",
      "0   Obtenez des résultats instantanés avec notre p...   0.00000      0.000000\n",
      "1   Nous sommes ravis d'annoncer notre nouveau par...  -0.28125      0.531250\n",
      "2   Enrichissez-vous grâce à notre système de trad...   0.00000      0.000000\n",
      "3   Bonne nouvelle {{firstname}} ! Notre boutique ...  -0.15625      0.375000\n",
      "4   Obtenez des followers Twitter en masse {{first...   0.00000      0.000000\n",
      "..                                                ...       ...           ...\n",
      "88  URGENT : Gagnez de l'argent rapidement et faci...   0.00000      0.000000\n",
      "89  Soldes spéciales sur les produits électronique...  -0.34375      0.583333\n",
      "90  Ne vous inquiétez pas, je ne partagerai vos ré...   0.00000      0.000000\n",
      "91  Obtenez des milliers de followers et likes sur...   0.00000      0.666667\n",
      "92  Nous effectuerons une maintenance de notre sit...   0.00000      0.000000\n",
      "\n",
      "[93 rows x 3 columns]\n"
     ]
    }
   ],
   "source": [
    "# Créer une nouvelle colonne pour la polarité et la subjectivité\n",
    "df['Polarité'] = 0.0\n",
    "df['Subjectivité'] = 0.0\n",
    "\n",
    "# Appliquer l'analyse de sentiment à chaque texte d'e-mail\n",
    "for i, row in df.iterrows():\n",
    "    text = row['Message']\n",
    "    blob = TextBlob(text)\n",
    "    polarité = blob.sentiment.polarity\n",
    "    subjectivité = blob.sentiment.subjectivity\n",
    "    df.at[i, 'Polarité'] = polarité\n",
    "    df.at[i, 'Subjectivité'] = subjectivité\n",
    "\n",
    "print(df[['Message', 'Polarité', 'Subjectivité']])\n"
   ]
  },
  {
   "cell_type": "markdown",
   "id": "82a0054e",
   "metadata": {},
   "source": [
    " Polarité » : La colonne « Polarité » représente la polarité du sentiment associé à chaque e-mail. La polarité est généralement mesurée sur une échelle continue, allant de -1 à 1. Une valeur proche de -1 indique un sentiment négatif, une valeur proche de 1 indique un sentiment positif, et une valeur proche de 0 indique un sentiment neutre.\n",
    "« Subjectivité » : La colonne « Subjectivité » représente le degré de subjectivité du contenu de chaque e-mail. La subjectivité est également mesurée sur une échelle continue, allant de 0 à 1. Une valeur proche de 0 indique un contenu objectif, basé sur des faits ou des informations générales, tandis qu’une valeur proche de 1 indique un contenu subjectif, basé sur des opinions ou des émotions personnelles."
   ]
  },
  {
   "cell_type": "code",
   "execution_count": 241,
   "id": "893c095e",
   "metadata": {},
   "outputs": [
    {
     "data": {
      "image/png": "[encoded data removed]",
      "text/plain": [
       "<Figure size 432x288 with 1 Axes>"
      ]
     },
     "metadata": {
      "needs_background": "light"
     },
     "output_type": "display_data"
    },
    {
     "data": {
      "image/png": "[encoded data removed]",
      "text/plain": [
       "<Figure size 432x288 with 1 Axes>"
      ]
     },
     "metadata": {
      "needs_background": "light"
     },
     "output_type": "display_data"
    }
   ],
   "source": [
    "import matplotlib.pyplot as plt\n",
    "\n",
    "# Créer un histogramme de la polarité des e-mails\n",
    "plt.hist(df['Polarité'], bins=10, edgecolor='black')\n",
    "plt.xlabel('Polarité')\n",
    "plt.ylabel('Fréquence')\n",
    "plt.title('Distribution de la polarité des e-mails')\n",
    "plt.show()\n",
    "\n",
    "# Créer un histogramme de la subjectivité des e-mails\n",
    "plt.hist(df['Subjectivité'], bins=10, edgecolor='black')\n",
    "plt.xlabel('Subjectivité')\n",
    "plt.ylabel('Fréquence')\n",
    "plt.title('Distribution de la subjectivité des e-mails')\n",
    "plt.show()\n"
   ]
  },
  {
   "cell_type": "code",
   "execution_count": 242,
   "id": "91905cc2",
   "metadata": {},
   "outputs": [
    {
     "data": {
      "image/png": "[encoded data removed]",
      "text/plain": [
       "<Figure size 432x288 with 1 Axes>"
      ]
     },
     "metadata": {
      "needs_background": "light"
     },
     "output_type": "display_data"
    }
   ],
   "source": [
    "# Compter les occurrences de chaque sentiment\n",
    "sentiment_counts = df['Polarité'].apply(lambda x: 'Positif' if x > 0 else ('Négatif' if x < 0 else 'Neutre')).value_counts()\n",
    "\n",
    "# Créer un diagramme en barres du sentiment\n",
    "sentiment_counts.plot(kind='bar')\n",
    "plt.xlabel('Sentiment')\n",
    "plt.ylabel('Nombre d\\'e-mails')\n",
    "plt.title('Répartition des sentiments dans les e-mails')\n",
    "plt.show()\n"
   ]
  },
  {
   "cell_type": "code",
   "execution_count": 17,
   "id": "09cdd33f",
   "metadata": {},
   "outputs": [
    {
     "data": {
      "image/png": "[encoded data removed]",
      "text/plain": [
       "<Figure size 432x288 with 1 Axes>"
      ]
     },
     "metadata": {
      "needs_background": "light"
     },
     "output_type": "display_data"
    }
   ],
   "source": [
    "import matplotlib.pyplot as plt\n",
    "\n",
    "# Créer un diagramme en barres empilées de la répartition des types d'e-mail en fonction de la polarité\n",
    "stacked_bar = df.groupby(['Type', pd.cut(df['Polarité'], bins=[-1, 0, 1])]).size().unstack().plot(kind='bar', stacked=True)\n",
    "\n",
    "# Ajouter des étiquettes et des titres\n",
    "plt.xlabel('Polarité')\n",
    "plt.ylabel('Nombre d\\'e-mails')\n",
    "plt.title('Répartition des types d\\'e-mail en fonction de la polarité')\n",
    "plt.legend(title='Type d\\'e-mail')\n",
    "plt.show()\n"
   ]
  },
  {
   "cell_type": "code",
   "execution_count": null,
   "id": "7b372136",
   "metadata": {},
   "outputs": [],
   "source": []
  },
  {
   "cell_type": "code",
   "execution_count": null,
   "id": "8bd04da7",
   "metadata": {},
   "outputs": [],
   "source": []
  },
  {
   "cell_type": "markdown",
   "id": "02cec829",
   "metadata": {},
   "source": [
    " \n",
    "# Nettoyage du Texte"
   ]
  },
  {
   "cell_type": "markdown",
   "id": "84de68c2",
   "metadata": {},
   "source": [
    "Pour le nettoyage du texte, nous allons effectuer ces différentes étapes :\n",
    "\n",
    "     -Nettoyage du texte en supprimant les caractères indésirables tels que la ponctuation, les symboles spéciaux, etc.\n",
    "   \n",
    "     -Normalisation du texte en convertissant les caractères en minuscules et en appliquant d'autres transformations pour       uniformiser le texte.\n",
    "   \n",
    "      -Suppression des mots vides (stop words) tels que \"et\", \"mais\", \"ou\", qui n'apportent pas beaucoup d'informations pour la   classification.\n",
    "   \n",
    "     -Tokenisation du texte en divisant les phrases en mots ou en tokens individuels.\n",
    "     \n",
    "      - Supprimer les variables personnalisées"
   ]
  },
  {
   "cell_type": "markdown",
   "id": "6156be6b",
   "metadata": {},
   "source": [
    "Dans un premier temps, nous allons étiqueter notre variable cible appelée \"Type\"."
   ]
  },
  {
   "cell_type": "code",
   "execution_count": 256,
   "id": "ee97bafa",
   "metadata": {},
   "outputs": [
    {
     "data": {
      "text/html": [
       "<div>\n",
       "<style scoped>\n",
       "    .dataframe tbody tr th:only-of-type {\n",
       "        vertical-align: middle;\n",
       "    }\n",
       "\n",
       "    .dataframe tbody tr th {\n",
       "        vertical-align: top;\n",
       "    }\n",
       "\n",
       "    .dataframe thead th {\n",
       "        text-align: right;\n",
       "    }\n",
       "</style>\n",
       "<table border=\"1\" class=\"dataframe\">\n",
       "  <thead>\n",
       "    <tr style=\"text-align: right;\">\n",
       "      <th></th>\n",
       "      <th>Message</th>\n",
       "      <th>Type</th>\n",
       "      <th>Longueur du texte</th>\n",
       "      <th>Polarité</th>\n",
       "      <th>Subjectivité</th>\n",
       "      <th>Cleaned_Content</th>\n",
       "      <th>encoded</th>\n",
       "    </tr>\n",
       "  </thead>\n",
       "  <tbody>\n",
       "    <tr>\n",
       "      <th>0</th>\n",
       "      <td>Obtenez des résultats instantanés avec notre p...</td>\n",
       "      <td>Spam</td>\n",
       "      <td>196</td>\n",
       "      <td>0.00000</td>\n",
       "      <td>0.00000</td>\n",
       "      <td>obtenez resultats instantanes programme remise...</td>\n",
       "      <td>1</td>\n",
       "    </tr>\n",
       "    <tr>\n",
       "      <th>1</th>\n",
       "      <td>Nous sommes ravis d'annoncer notre nouveau par...</td>\n",
       "      <td>Non spam</td>\n",
       "      <td>170</td>\n",
       "      <td>-0.28125</td>\n",
       "      <td>0.53125</td>\n",
       "      <td>somme ravis dannoncer nouveau partenariat ense...</td>\n",
       "      <td>0</td>\n",
       "    </tr>\n",
       "    <tr>\n",
       "      <th>2</th>\n",
       "      <td>Enrichissez-vous grâce à notre système de trad...</td>\n",
       "      <td>Spam</td>\n",
       "      <td>200</td>\n",
       "      <td>0.00000</td>\n",
       "      <td>0.00000</td>\n",
       "      <td>enrichissezvous grace a systeme trading automa...</td>\n",
       "      <td>1</td>\n",
       "    </tr>\n",
       "    <tr>\n",
       "      <th>3</th>\n",
       "      <td>Bonne nouvelle {{firstname}} ! Notre boutique ...</td>\n",
       "      <td>Non spam</td>\n",
       "      <td>189</td>\n",
       "      <td>-0.15625</td>\n",
       "      <td>0.37500</td>\n",
       "      <td>bonne nouvelle boutique ligne propose vente fl...</td>\n",
       "      <td>0</td>\n",
       "    </tr>\n",
       "    <tr>\n",
       "      <th>4</th>\n",
       "      <td>Obtenez des followers Twitter en masse {{first...</td>\n",
       "      <td>Spam</td>\n",
       "      <td>161</td>\n",
       "      <td>0.00000</td>\n",
       "      <td>0.00000</td>\n",
       "      <td>obtenez follower twitter masse logiciel croiss...</td>\n",
       "      <td>1</td>\n",
       "    </tr>\n",
       "  </tbody>\n",
       "</table>\n",
       "</div>"
      ],
      "text/plain": [
       "                                             Message      Type  \\\n",
       "0  Obtenez des résultats instantanés avec notre p...      Spam   \n",
       "1  Nous sommes ravis d'annoncer notre nouveau par...  Non spam   \n",
       "2  Enrichissez-vous grâce à notre système de trad...      Spam   \n",
       "3  Bonne nouvelle {{firstname}} ! Notre boutique ...  Non spam   \n",
       "4  Obtenez des followers Twitter en masse {{first...      Spam   \n",
       "\n",
       "   Longueur du texte  Polarité  Subjectivité  \\\n",
       "0                196   0.00000       0.00000   \n",
       "1                170  -0.28125       0.53125   \n",
       "2                200   0.00000       0.00000   \n",
       "3                189  -0.15625       0.37500   \n",
       "4                161   0.00000       0.00000   \n",
       "\n",
       "                                     Cleaned_Content  encoded  \n",
       "0  obtenez resultats instantanes programme remise...        1  \n",
       "1  somme ravis dannoncer nouveau partenariat ense...        0  \n",
       "2  enrichissezvous grace a systeme trading automa...        1  \n",
       "3  bonne nouvelle boutique ligne propose vente fl...        0  \n",
       "4  obtenez follower twitter masse logiciel croiss...        1  "
      ]
     },
     "execution_count": 256,
     "metadata": {},
     "output_type": "execute_result"
    }
   ],
   "source": [
    "from sklearn.preprocessing import LabelEncoder\n",
    "\n",
    "encoder = LabelEncoder()\n",
    "df['encoded'] = encoder.fit_transform(df['Type'])\n",
    "df.head()"
   ]
  },
  {
   "cell_type": "code",
   "execution_count": 21,
   "id": "f1e82e69",
   "metadata": {},
   "outputs": [
    {
     "name": "stdout",
     "output_type": "stream",
     "text": [
      "['au', 'aux', 'avec', 'ce', 'ces', 'dans', 'de', 'des', 'du', 'elle', 'en', 'et', 'eux', 'il', 'ils', 'je', 'la', 'le', 'les', 'leur', 'lui', 'ma', 'mais', 'me', 'même', 'mes', 'moi', 'mon', 'ne', 'nos', 'notre', 'nous', 'on', 'ou', 'par', 'pas', 'pour', 'qu', 'que', 'qui', 'sa', 'se', 'ses', 'son', 'sur', 'ta', 'te', 'tes', 'toi', 'ton', 'tu', 'un', 'une', 'vos', 'votre', 'vous', 'c', 'd', 'j', 'l', 'à', 'm', 'n', 's', 't', 'y', 'été', 'étée', 'étées', 'étés', 'étant', 'étante', 'étants', 'étantes', 'suis', 'es', 'est', 'sommes', 'êtes', 'sont', 'serai', 'seras', 'sera', 'serons', 'serez', 'seront', 'serais', 'serait', 'serions', 'seriez', 'seraient', 'étais', 'était', 'étions', 'étiez', 'étaient', 'fus', 'fut', 'fûmes', 'fûtes', 'furent', 'sois', 'soit', 'soyons', 'soyez', 'soient', 'fusse', 'fusses', 'fût', 'fussions', 'fussiez', 'fussent', 'ayant', 'ayante', 'ayantes', 'ayants', 'eu', 'eue', 'eues', 'eus', 'ai', 'as', 'avons', 'avez', 'ont', 'aurai', 'auras', 'aura', 'aurons', 'aurez', 'auront', 'aurais', 'aurait', 'aurions', 'auriez', 'auraient', 'avais', 'avait', 'avions', 'aviez', 'avaient', 'eut', 'eûmes', 'eûtes', 'eurent', 'aie', 'aies', 'ait', 'ayons', 'ayez', 'aient', 'eusse', 'eusses', 'eût', 'eussions', 'eussiez', 'eussent']\n"
     ]
    }
   ],
   "source": [
    "lemmatizer = WordNetLemmatizer()\n",
    "stop_words = list(stopwords.words('french')) #les mots à enlever\n",
    "print(stop_words)"
   ]
  },
  {
   "cell_type": "code",
   "execution_count": 243,
   "id": "83f18be3",
   "metadata": {},
   "outputs": [],
   "source": [
    "import re\n",
    "import unicodedata\n",
    "from urllib.parse import urlparse\n",
    "from nltk.corpus import stopwords\n",
    "from nltk.stem import WordNetLemmatizer\n",
    "from string import punctuation\n",
    "\n",
    "def clean_text(text):\n",
    "    # Convertir en minuscules\n",
    "    text = text.lower()\n",
    "\n",
    "    # Retirer les accents\n",
    "    text = unicodedata.normalize('NFKD', text).encode('ASCII', 'ignore').decode('utf-8')\n",
    "\n",
    "    # Retirer la ponctuation\n",
    "    text = re.sub('[%s]' % re.escape(punctuation), '', text)\n",
    "\n",
    "    # Remplacer les crochets par un espace\n",
    "    text = re.sub('[][)(]', ' ', text)\n",
    "\n",
    "    # Supprimer les URL\n",
    "    text = [word for word in text.split() if not urlparse(word).scheme]\n",
    "    text = ' '.join(text)\n",
    "\n",
    "    # Supprimer les mots commençant par @\n",
    "    text = re.sub(r'\\@\\w+', '', text)\n",
    "\n",
    "    # Supprimer les balises HTML\n",
    "    text = re.sub(re.compile(\"<.*?>\"), '', text)\n",
    "\n",
    "    # Obtenir uniquement les caractères et les chiffres\n",
    "    text = re.sub('[^A-Za-z0-9]', ' ', text)\n",
    "\n",
    "    # Lemmatisation\n",
    "    lemmatizer = WordNetLemmatizer()\n",
    "    text = ' '.join([lemmatizer.lemmatize(word) for word in text.split()])\n",
    "\n",
    "     # Retirer les stop words, y compris les mots spécifiques\n",
    "    stop_words = set(stopwords.words('french'))\n",
    "    stop_words.update(['phone', 'lastname', 'firstname', 'civility', 'date', 'time', 'sender', 'link', 'other'])\n",
    "    text = ' '.join([word for word in text.split() if word not in stop_words])\n",
    "\n",
    "    return text\n",
    "\n",
    "\n"
   ]
  },
  {
   "cell_type": "code",
   "execution_count": 244,
   "id": "680a4878",
   "metadata": {},
   "outputs": [],
   "source": [
    "# Appliquer la fonction de nettoyage sur la colonne 'Message'\n",
    "\n",
    "df['Cleaned_Content'] = df['Message'].apply(clean_text)\n",
    "\n"
   ]
  },
  {
   "cell_type": "code",
   "execution_count": 245,
   "id": "f856ec5e",
   "metadata": {},
   "outputs": [
    {
     "data": {
      "text/html": [
       "<div>\n",
       "<style scoped>\n",
       "    .dataframe tbody tr th:only-of-type {\n",
       "        vertical-align: middle;\n",
       "    }\n",
       "\n",
       "    .dataframe tbody tr th {\n",
       "        vertical-align: top;\n",
       "    }\n",
       "\n",
       "    .dataframe thead th {\n",
       "        text-align: right;\n",
       "    }\n",
       "</style>\n",
       "<table border=\"1\" class=\"dataframe\">\n",
       "  <thead>\n",
       "    <tr style=\"text-align: right;\">\n",
       "      <th></th>\n",
       "      <th>Message</th>\n",
       "      <th>Type</th>\n",
       "      <th>Longueur du texte</th>\n",
       "      <th>Polarité</th>\n",
       "      <th>Subjectivité</th>\n",
       "      <th>Cleaned_Content</th>\n",
       "    </tr>\n",
       "  </thead>\n",
       "  <tbody>\n",
       "    <tr>\n",
       "      <th>1</th>\n",
       "      <td>Nous sommes ravis d'annoncer notre nouveau par...</td>\n",
       "      <td>Non spam</td>\n",
       "      <td>170</td>\n",
       "      <td>-0.281250</td>\n",
       "      <td>0.531250</td>\n",
       "      <td>somme ravis dannoncer nouveau partenariat ense...</td>\n",
       "    </tr>\n",
       "    <tr>\n",
       "      <th>2</th>\n",
       "      <td>Enrichissez-vous grâce à notre système de trad...</td>\n",
       "      <td>Spam</td>\n",
       "      <td>200</td>\n",
       "      <td>0.000000</td>\n",
       "      <td>0.000000</td>\n",
       "      <td>enrichissezvous grace a systeme trading automa...</td>\n",
       "    </tr>\n",
       "    <tr>\n",
       "      <th>3</th>\n",
       "      <td>Bonne nouvelle {{firstname}} ! Notre boutique ...</td>\n",
       "      <td>Non spam</td>\n",
       "      <td>189</td>\n",
       "      <td>-0.156250</td>\n",
       "      <td>0.375000</td>\n",
       "      <td>bonne nouvelle boutique ligne propose vente fl...</td>\n",
       "    </tr>\n",
       "    <tr>\n",
       "      <th>4</th>\n",
       "      <td>Obtenez des followers Twitter en masse {{first...</td>\n",
       "      <td>Spam</td>\n",
       "      <td>161</td>\n",
       "      <td>0.000000</td>\n",
       "      <td>0.000000</td>\n",
       "      <td>obtenez follower twitter masse logiciel croiss...</td>\n",
       "    </tr>\n",
       "    <tr>\n",
       "      <th>5</th>\n",
       "      <td>Gagnez un voyage de rêve pour deux personnes, ...</td>\n",
       "      <td>Spam</td>\n",
       "      <td>182</td>\n",
       "      <td>0.000000</td>\n",
       "      <td>0.000000</td>\n",
       "      <td>gagnez voyage reve deux personnes inscrivezvou...</td>\n",
       "    </tr>\n",
       "    <tr>\n",
       "      <th>6</th>\n",
       "      <td>Salut, êtes-vous disponible ?</td>\n",
       "      <td>Spam</td>\n",
       "      <td>29</td>\n",
       "      <td>0.000000</td>\n",
       "      <td>0.000000</td>\n",
       "      <td>salut etesvous disponible</td>\n",
       "    </tr>\n",
       "    <tr>\n",
       "      <th>7</th>\n",
       "      <td>Vous avez été sélectionné(e) {{firstname}} pou...</td>\n",
       "      <td>Spam</td>\n",
       "      <td>122</td>\n",
       "      <td>0.000000</td>\n",
       "      <td>0.000000</td>\n",
       "      <td>ete selectionnee gagner iphone x reclamez prix...</td>\n",
       "    </tr>\n",
       "    <tr>\n",
       "      <th>8</th>\n",
       "      <td>Rencontrez les meilleurs experts du secteur lo...</td>\n",
       "      <td>Non spam</td>\n",
       "      <td>200</td>\n",
       "      <td>-0.333333</td>\n",
       "      <td>0.583333</td>\n",
       "      <td>rencontrez meilleurs expert secteur lors salon...</td>\n",
       "    </tr>\n",
       "    <tr>\n",
       "      <th>9</th>\n",
       "      <td>Boostez votre potentiel de rencontres avec not...</td>\n",
       "      <td>Spam</td>\n",
       "      <td>201</td>\n",
       "      <td>0.000000</td>\n",
       "      <td>0.000000</td>\n",
       "      <td>boostez potentiel rencontres application renco...</td>\n",
       "    </tr>\n",
       "  </tbody>\n",
       "</table>\n",
       "</div>"
      ],
      "text/plain": [
       "                                             Message      Type  \\\n",
       "1  Nous sommes ravis d'annoncer notre nouveau par...  Non spam   \n",
       "2  Enrichissez-vous grâce à notre système de trad...      Spam   \n",
       "3  Bonne nouvelle {{firstname}} ! Notre boutique ...  Non spam   \n",
       "4  Obtenez des followers Twitter en masse {{first...      Spam   \n",
       "5  Gagnez un voyage de rêve pour deux personnes, ...      Spam   \n",
       "6                      Salut, êtes-vous disponible ?      Spam   \n",
       "7  Vous avez été sélectionné(e) {{firstname}} pou...      Spam   \n",
       "8  Rencontrez les meilleurs experts du secteur lo...  Non spam   \n",
       "9  Boostez votre potentiel de rencontres avec not...      Spam   \n",
       "\n",
       "   Longueur du texte  Polarité  Subjectivité  \\\n",
       "1                170 -0.281250      0.531250   \n",
       "2                200  0.000000      0.000000   \n",
       "3                189 -0.156250      0.375000   \n",
       "4                161  0.000000      0.000000   \n",
       "5                182  0.000000      0.000000   \n",
       "6                 29  0.000000      0.000000   \n",
       "7                122  0.000000      0.000000   \n",
       "8                200 -0.333333      0.583333   \n",
       "9                201  0.000000      0.000000   \n",
       "\n",
       "                                     Cleaned_Content  \n",
       "1  somme ravis dannoncer nouveau partenariat ense...  \n",
       "2  enrichissezvous grace a systeme trading automa...  \n",
       "3  bonne nouvelle boutique ligne propose vente fl...  \n",
       "4  obtenez follower twitter masse logiciel croiss...  \n",
       "5  gagnez voyage reve deux personnes inscrivezvou...  \n",
       "6                          salut etesvous disponible  \n",
       "7  ete selectionnee gagner iphone x reclamez prix...  \n",
       "8  rencontrez meilleurs expert secteur lors salon...  \n",
       "9  boostez potentiel rencontres application renco...  "
      ]
     },
     "execution_count": 245,
     "metadata": {},
     "output_type": "execute_result"
    }
   ],
   "source": [
    "df.iloc[1:10,]"
   ]
  },
  {
   "cell_type": "code",
   "execution_count": 247,
   "id": "1aa25253",
   "metadata": {},
   "outputs": [
    {
     "data": {
      "text/plain": [
       "0     obtenez resultats instantanes programme remise...\n",
       "1     somme ravis dannoncer nouveau partenariat ense...\n",
       "2     enrichissezvous grace a systeme trading automa...\n",
       "3     bonne nouvelle boutique ligne propose vente fl...\n",
       "4     obtenez follower twitter masse logiciel croiss...\n",
       "                            ...                        \n",
       "88    urgent gagnez largent rapidement facilement cl...\n",
       "89    soldes speciales produits electroniques jusqua...\n",
       "90            inquietez pa partagerai reponses personne\n",
       "91    obtenez milliers follower like reseau sociaux ...\n",
       "92    effectuerons maintenance site web a pendant ce...\n",
       "Name: Cleaned_Content, Length: 93, dtype: object"
      ]
     },
     "execution_count": 247,
     "metadata": {},
     "output_type": "execute_result"
    }
   ],
   "source": [
    "df['Cleaned_Content']"
   ]
  },
  {
   "cell_type": "markdown",
   "id": "fce7bc9f",
   "metadata": {},
   "source": [
    "# Extraction de fonctionnalités \n",
    "\n"
   ]
  },
  {
   "cell_type": "markdown",
   "id": "d4ba4620",
   "metadata": {},
   "source": [
    "Dans cette étape, nous allons identifier les caractéristiques pertinentes dans les messages qui peuvent aider à distinguer les spams des messages normaux. Certaines fonctionnalités couramment utilisées incluent :\n",
    "\n",
    "La fréquence des mots : combien de fois chaque mot apparaît dans un message.\n",
    "La présence de mots clés : vérifier si certains mots clés associés aux spams sont présents dans un message.\n",
    "La présence de liens ou d'adresses e-mail : détecter si un message contient des liens ou des adresses e-mail souvent utilisés dans les spams.\n",
    "La longueur du message : les spams ont souvent tendance à être plus courts ou plus longs que les messages normaux."
   ]
  },
  {
   "cell_type": "markdown",
   "id": "53bace23",
   "metadata": {},
   "source": [
    "Et pour cela on va utuliser effectue la vectorisation TF-IDF des données textuelles de la colonne 'Cleaned_Content' du DataFrame df et crée un nouveau DataFrame X contenant les valeurs TF-IDF correspondantes. Cette représentation vectorielle peut être utilisée comme entrée pour l'apprentissage automatique ou d'autres tâches d'analyse de texte."
   ]
  },
  {
   "cell_type": "code",
   "execution_count": 248,
   "id": "d493c150",
   "metadata": {},
   "outputs": [],
   "source": [
    "def apply_tfidf_vectorization(data, text_column, min_df=1):\n",
    "    \"\"\"\n",
    "    Applique la vectorisation TF-IDF sur une colonne de texte donnée.\n",
    "\n",
    "    Args:\n",
    "        data (DataFrame): Le DataFrame contenant les données.\n",
    "        text_column (str): Le nom de la colonne de texte à vectoriser.\n",
    "        min_df (int, optional): La valeur de min_df pour le TfidfVectorizer. Par défaut, min_df=1.\n",
    "\n",
    "    Returns:\n",
    "        DataFrame: Le DataFrame contenant les valeurs TF-IDF.\n",
    "    \"\"\"\n",
    "    # Créer une instance de TfidfVectorizer\n",
    "    vectorizer = TfidfVectorizer(min_df=min_df)\n",
    "\n",
    "    # Appliquer la vectorisation TF-IDF sur la colonne de texte donnée\n",
    "    X_vec = vectorizer.fit_transform(data[text_column])\n",
    "\n",
    "    # Convertir la matrice creuse en un tableau numpy\n",
    "    X_array = X_vec.toarray()\n",
    "\n",
    "    # Créer un DataFrame avec les valeurs TF-IDF\n",
    "    X = pd.DataFrame(X_array, columns=vectorizer.get_feature_names_out())\n",
    "\n",
    "    return X\n"
   ]
  },
  {
   "cell_type": "code",
   "execution_count": 249,
   "id": "0d3f89d0",
   "metadata": {},
   "outputs": [],
   "source": [
    "X = apply_tfidf_vectorization(df, \"Cleaned_Content\")\n"
   ]
  },
  {
   "cell_type": "markdown",
   "id": "cc938aba",
   "metadata": {},
   "source": []
  },
  {
   "cell_type": "code",
   "execution_count": 250,
   "id": "7535d59c",
   "metadata": {},
   "outputs": [
    {
     "data": {
      "text/html": [
       "<div>\n",
       "<style scoped>\n",
       "    .dataframe tbody tr th:only-of-type {\n",
       "        vertical-align: middle;\n",
       "    }\n",
       "\n",
       "    .dataframe tbody tr th {\n",
       "        vertical-align: top;\n",
       "    }\n",
       "\n",
       "    .dataframe thead th {\n",
       "        text-align: right;\n",
       "    }\n",
       "</style>\n",
       "<table border=\"1\" class=\"dataframe\">\n",
       "  <thead>\n",
       "    <tr style=\"text-align: right;\">\n",
       "      <th></th>\n",
       "      <th>10</th>\n",
       "      <th>14h</th>\n",
       "      <th>24</th>\n",
       "      <th>50</th>\n",
       "      <th>5000</th>\n",
       "      <th>abonnement</th>\n",
       "      <th>abonnes</th>\n",
       "      <th>abouti</th>\n",
       "      <th>achat</th>\n",
       "      <th>achetant</th>\n",
       "      <th>...</th>\n",
       "      <th>visibilite</th>\n",
       "      <th>visitant</th>\n",
       "      <th>visons</th>\n",
       "      <th>vite</th>\n",
       "      <th>voir</th>\n",
       "      <th>voulais</th>\n",
       "      <th>voyage</th>\n",
       "      <th>web</th>\n",
       "      <th>webinar</th>\n",
       "      <th>youtube</th>\n",
       "    </tr>\n",
       "  </thead>\n",
       "  <tbody>\n",
       "    <tr>\n",
       "      <th>0</th>\n",
       "      <td>0.0</td>\n",
       "      <td>0.0</td>\n",
       "      <td>0.000000</td>\n",
       "      <td>0.0</td>\n",
       "      <td>0.0</td>\n",
       "      <td>0.0</td>\n",
       "      <td>0.0</td>\n",
       "      <td>0.0</td>\n",
       "      <td>0.0</td>\n",
       "      <td>0.000000</td>\n",
       "      <td>...</td>\n",
       "      <td>0.0</td>\n",
       "      <td>0.0</td>\n",
       "      <td>0.000000</td>\n",
       "      <td>0.0</td>\n",
       "      <td>0.0</td>\n",
       "      <td>0.0</td>\n",
       "      <td>0.0</td>\n",
       "      <td>0.00000</td>\n",
       "      <td>0.0</td>\n",
       "      <td>0.0</td>\n",
       "    </tr>\n",
       "    <tr>\n",
       "      <th>1</th>\n",
       "      <td>0.0</td>\n",
       "      <td>0.0</td>\n",
       "      <td>0.000000</td>\n",
       "      <td>0.0</td>\n",
       "      <td>0.0</td>\n",
       "      <td>0.0</td>\n",
       "      <td>0.0</td>\n",
       "      <td>0.0</td>\n",
       "      <td>0.0</td>\n",
       "      <td>0.000000</td>\n",
       "      <td>...</td>\n",
       "      <td>0.0</td>\n",
       "      <td>0.0</td>\n",
       "      <td>0.316315</td>\n",
       "      <td>0.0</td>\n",
       "      <td>0.0</td>\n",
       "      <td>0.0</td>\n",
       "      <td>0.0</td>\n",
       "      <td>0.00000</td>\n",
       "      <td>0.0</td>\n",
       "      <td>0.0</td>\n",
       "    </tr>\n",
       "    <tr>\n",
       "      <th>2</th>\n",
       "      <td>0.0</td>\n",
       "      <td>0.0</td>\n",
       "      <td>0.000000</td>\n",
       "      <td>0.0</td>\n",
       "      <td>0.0</td>\n",
       "      <td>0.0</td>\n",
       "      <td>0.0</td>\n",
       "      <td>0.0</td>\n",
       "      <td>0.0</td>\n",
       "      <td>0.000000</td>\n",
       "      <td>...</td>\n",
       "      <td>0.0</td>\n",
       "      <td>0.0</td>\n",
       "      <td>0.000000</td>\n",
       "      <td>0.0</td>\n",
       "      <td>0.0</td>\n",
       "      <td>0.0</td>\n",
       "      <td>0.0</td>\n",
       "      <td>0.00000</td>\n",
       "      <td>0.0</td>\n",
       "      <td>0.0</td>\n",
       "    </tr>\n",
       "    <tr>\n",
       "      <th>3</th>\n",
       "      <td>0.0</td>\n",
       "      <td>0.0</td>\n",
       "      <td>0.296984</td>\n",
       "      <td>0.0</td>\n",
       "      <td>0.0</td>\n",
       "      <td>0.0</td>\n",
       "      <td>0.0</td>\n",
       "      <td>0.0</td>\n",
       "      <td>0.0</td>\n",
       "      <td>0.000000</td>\n",
       "      <td>...</td>\n",
       "      <td>0.0</td>\n",
       "      <td>0.0</td>\n",
       "      <td>0.000000</td>\n",
       "      <td>0.0</td>\n",
       "      <td>0.0</td>\n",
       "      <td>0.0</td>\n",
       "      <td>0.0</td>\n",
       "      <td>0.00000</td>\n",
       "      <td>0.0</td>\n",
       "      <td>0.0</td>\n",
       "    </tr>\n",
       "    <tr>\n",
       "      <th>4</th>\n",
       "      <td>0.0</td>\n",
       "      <td>0.0</td>\n",
       "      <td>0.000000</td>\n",
       "      <td>0.0</td>\n",
       "      <td>0.0</td>\n",
       "      <td>0.0</td>\n",
       "      <td>0.0</td>\n",
       "      <td>0.0</td>\n",
       "      <td>0.0</td>\n",
       "      <td>0.000000</td>\n",
       "      <td>...</td>\n",
       "      <td>0.0</td>\n",
       "      <td>0.0</td>\n",
       "      <td>0.000000</td>\n",
       "      <td>0.0</td>\n",
       "      <td>0.0</td>\n",
       "      <td>0.0</td>\n",
       "      <td>0.0</td>\n",
       "      <td>0.00000</td>\n",
       "      <td>0.0</td>\n",
       "      <td>0.0</td>\n",
       "    </tr>\n",
       "    <tr>\n",
       "      <th>...</th>\n",
       "      <td>...</td>\n",
       "      <td>...</td>\n",
       "      <td>...</td>\n",
       "      <td>...</td>\n",
       "      <td>...</td>\n",
       "      <td>...</td>\n",
       "      <td>...</td>\n",
       "      <td>...</td>\n",
       "      <td>...</td>\n",
       "      <td>...</td>\n",
       "      <td>...</td>\n",
       "      <td>...</td>\n",
       "      <td>...</td>\n",
       "      <td>...</td>\n",
       "      <td>...</td>\n",
       "      <td>...</td>\n",
       "      <td>...</td>\n",
       "      <td>...</td>\n",
       "      <td>...</td>\n",
       "      <td>...</td>\n",
       "      <td>...</td>\n",
       "    </tr>\n",
       "    <tr>\n",
       "      <th>88</th>\n",
       "      <td>0.0</td>\n",
       "      <td>0.0</td>\n",
       "      <td>0.000000</td>\n",
       "      <td>0.0</td>\n",
       "      <td>0.0</td>\n",
       "      <td>0.0</td>\n",
       "      <td>0.0</td>\n",
       "      <td>0.0</td>\n",
       "      <td>0.0</td>\n",
       "      <td>0.000000</td>\n",
       "      <td>...</td>\n",
       "      <td>0.0</td>\n",
       "      <td>0.0</td>\n",
       "      <td>0.000000</td>\n",
       "      <td>0.0</td>\n",
       "      <td>0.0</td>\n",
       "      <td>0.0</td>\n",
       "      <td>0.0</td>\n",
       "      <td>0.00000</td>\n",
       "      <td>0.0</td>\n",
       "      <td>0.0</td>\n",
       "    </tr>\n",
       "    <tr>\n",
       "      <th>89</th>\n",
       "      <td>0.0</td>\n",
       "      <td>0.0</td>\n",
       "      <td>0.000000</td>\n",
       "      <td>0.0</td>\n",
       "      <td>0.0</td>\n",
       "      <td>0.0</td>\n",
       "      <td>0.0</td>\n",
       "      <td>0.0</td>\n",
       "      <td>0.0</td>\n",
       "      <td>0.414487</td>\n",
       "      <td>...</td>\n",
       "      <td>0.0</td>\n",
       "      <td>0.0</td>\n",
       "      <td>0.000000</td>\n",
       "      <td>0.0</td>\n",
       "      <td>0.0</td>\n",
       "      <td>0.0</td>\n",
       "      <td>0.0</td>\n",
       "      <td>0.00000</td>\n",
       "      <td>0.0</td>\n",
       "      <td>0.0</td>\n",
       "    </tr>\n",
       "    <tr>\n",
       "      <th>90</th>\n",
       "      <td>0.0</td>\n",
       "      <td>0.0</td>\n",
       "      <td>0.000000</td>\n",
       "      <td>0.0</td>\n",
       "      <td>0.0</td>\n",
       "      <td>0.0</td>\n",
       "      <td>0.0</td>\n",
       "      <td>0.0</td>\n",
       "      <td>0.0</td>\n",
       "      <td>0.000000</td>\n",
       "      <td>...</td>\n",
       "      <td>0.0</td>\n",
       "      <td>0.0</td>\n",
       "      <td>0.000000</td>\n",
       "      <td>0.0</td>\n",
       "      <td>0.0</td>\n",
       "      <td>0.0</td>\n",
       "      <td>0.0</td>\n",
       "      <td>0.00000</td>\n",
       "      <td>0.0</td>\n",
       "      <td>0.0</td>\n",
       "    </tr>\n",
       "    <tr>\n",
       "      <th>91</th>\n",
       "      <td>0.0</td>\n",
       "      <td>0.0</td>\n",
       "      <td>0.000000</td>\n",
       "      <td>0.0</td>\n",
       "      <td>0.0</td>\n",
       "      <td>0.0</td>\n",
       "      <td>0.0</td>\n",
       "      <td>0.0</td>\n",
       "      <td>0.0</td>\n",
       "      <td>0.000000</td>\n",
       "      <td>...</td>\n",
       "      <td>0.0</td>\n",
       "      <td>0.0</td>\n",
       "      <td>0.000000</td>\n",
       "      <td>0.0</td>\n",
       "      <td>0.0</td>\n",
       "      <td>0.0</td>\n",
       "      <td>0.0</td>\n",
       "      <td>0.00000</td>\n",
       "      <td>0.0</td>\n",
       "      <td>0.0</td>\n",
       "    </tr>\n",
       "    <tr>\n",
       "      <th>92</th>\n",
       "      <td>0.0</td>\n",
       "      <td>0.0</td>\n",
       "      <td>0.000000</td>\n",
       "      <td>0.0</td>\n",
       "      <td>0.0</td>\n",
       "      <td>0.0</td>\n",
       "      <td>0.0</td>\n",
       "      <td>0.0</td>\n",
       "      <td>0.0</td>\n",
       "      <td>0.000000</td>\n",
       "      <td>...</td>\n",
       "      <td>0.0</td>\n",
       "      <td>0.0</td>\n",
       "      <td>0.000000</td>\n",
       "      <td>0.0</td>\n",
       "      <td>0.0</td>\n",
       "      <td>0.0</td>\n",
       "      <td>0.0</td>\n",
       "      <td>0.19189</td>\n",
       "      <td>0.0</td>\n",
       "      <td>0.0</td>\n",
       "    </tr>\n",
       "  </tbody>\n",
       "</table>\n",
       "<p>93 rows × 571 columns</p>\n",
       "</div>"
      ],
      "text/plain": [
       "     10  14h        24   50  5000  abonnement  abonnes  abouti  achat  \\\n",
       "0   0.0  0.0  0.000000  0.0   0.0         0.0      0.0     0.0    0.0   \n",
       "1   0.0  0.0  0.000000  0.0   0.0         0.0      0.0     0.0    0.0   \n",
       "2   0.0  0.0  0.000000  0.0   0.0         0.0      0.0     0.0    0.0   \n",
       "3   0.0  0.0  0.296984  0.0   0.0         0.0      0.0     0.0    0.0   \n",
       "4   0.0  0.0  0.000000  0.0   0.0         0.0      0.0     0.0    0.0   \n",
       "..  ...  ...       ...  ...   ...         ...      ...     ...    ...   \n",
       "88  0.0  0.0  0.000000  0.0   0.0         0.0      0.0     0.0    0.0   \n",
       "89  0.0  0.0  0.000000  0.0   0.0         0.0      0.0     0.0    0.0   \n",
       "90  0.0  0.0  0.000000  0.0   0.0         0.0      0.0     0.0    0.0   \n",
       "91  0.0  0.0  0.000000  0.0   0.0         0.0      0.0     0.0    0.0   \n",
       "92  0.0  0.0  0.000000  0.0   0.0         0.0      0.0     0.0    0.0   \n",
       "\n",
       "    achetant  ...  visibilite  visitant    visons  vite  voir  voulais  \\\n",
       "0   0.000000  ...         0.0       0.0  0.000000   0.0   0.0      0.0   \n",
       "1   0.000000  ...         0.0       0.0  0.316315   0.0   0.0      0.0   \n",
       "2   0.000000  ...         0.0       0.0  0.000000   0.0   0.0      0.0   \n",
       "3   0.000000  ...         0.0       0.0  0.000000   0.0   0.0      0.0   \n",
       "4   0.000000  ...         0.0       0.0  0.000000   0.0   0.0      0.0   \n",
       "..       ...  ...         ...       ...       ...   ...   ...      ...   \n",
       "88  0.000000  ...         0.0       0.0  0.000000   0.0   0.0      0.0   \n",
       "89  0.414487  ...         0.0       0.0  0.000000   0.0   0.0      0.0   \n",
       "90  0.000000  ...         0.0       0.0  0.000000   0.0   0.0      0.0   \n",
       "91  0.000000  ...         0.0       0.0  0.000000   0.0   0.0      0.0   \n",
       "92  0.000000  ...         0.0       0.0  0.000000   0.0   0.0      0.0   \n",
       "\n",
       "    voyage      web  webinar  youtube  \n",
       "0      0.0  0.00000      0.0      0.0  \n",
       "1      0.0  0.00000      0.0      0.0  \n",
       "2      0.0  0.00000      0.0      0.0  \n",
       "3      0.0  0.00000      0.0      0.0  \n",
       "4      0.0  0.00000      0.0      0.0  \n",
       "..     ...      ...      ...      ...  \n",
       "88     0.0  0.00000      0.0      0.0  \n",
       "89     0.0  0.00000      0.0      0.0  \n",
       "90     0.0  0.00000      0.0      0.0  \n",
       "91     0.0  0.00000      0.0      0.0  \n",
       "92     0.0  0.19189      0.0      0.0  \n",
       "\n",
       "[93 rows x 571 columns]"
      ]
     },
     "execution_count": 250,
     "metadata": {},
     "output_type": "execute_result"
    }
   ],
   "source": [
    "X"
   ]
  },
  {
   "cell_type": "markdown",
   "id": "ae4cebb1",
   "metadata": {},
   "source": [
    "# Construction du modèle"
   ]
  },
  {
   "cell_type": "markdown",
   "id": "d650ceba",
   "metadata": {},
   "source": [
    "Dans cette partie on va tester plusieurs modeles de classification"
   ]
  },
  {
   "cell_type": "code",
   "execution_count": 31,
   "id": "69760cd9",
   "metadata": {},
   "outputs": [],
   "source": [
    "from sklearn.naive_bayes import MultinomialNB\n",
    "from sklearn.svm import SVC\n",
    "from sklearn.neighbors import KNeighborsClassifier\n",
    "from sklearn.ensemble import RandomForestClassifier\n",
    "from sklearn.linear_model import LogisticRegression\n",
    "from sklearn.metrics import accuracy_score, precision_score, recall_score, f1_score\n"
   ]
  },
  {
   "cell_type": "code",
   "execution_count": 257,
   "id": "fb52f144",
   "metadata": {},
   "outputs": [],
   "source": [
    "y = df[\"encoded\"]"
   ]
  },
  {
   "cell_type": "code",
   "execution_count": 33,
   "id": "9c363c06",
   "metadata": {},
   "outputs": [
    {
     "data": {
      "text/html": [
       "<div>\n",
       "<style scoped>\n",
       "    .dataframe tbody tr th:only-of-type {\n",
       "        vertical-align: middle;\n",
       "    }\n",
       "\n",
       "    .dataframe tbody tr th {\n",
       "        vertical-align: top;\n",
       "    }\n",
       "\n",
       "    .dataframe thead th {\n",
       "        text-align: right;\n",
       "    }\n",
       "</style>\n",
       "<table border=\"1\" class=\"dataframe\">\n",
       "  <thead>\n",
       "    <tr style=\"text-align: right;\">\n",
       "      <th></th>\n",
       "      <th>10</th>\n",
       "      <th>14h</th>\n",
       "      <th>24</th>\n",
       "      <th>50</th>\n",
       "      <th>5000</th>\n",
       "      <th>abonnement</th>\n",
       "      <th>abonnes</th>\n",
       "      <th>abouti</th>\n",
       "      <th>achat</th>\n",
       "      <th>achetant</th>\n",
       "      <th>...</th>\n",
       "      <th>visibilite</th>\n",
       "      <th>visitant</th>\n",
       "      <th>visons</th>\n",
       "      <th>vite</th>\n",
       "      <th>voir</th>\n",
       "      <th>voulais</th>\n",
       "      <th>voyage</th>\n",
       "      <th>web</th>\n",
       "      <th>webinar</th>\n",
       "      <th>youtube</th>\n",
       "    </tr>\n",
       "  </thead>\n",
       "  <tbody>\n",
       "    <tr>\n",
       "      <th>0</th>\n",
       "      <td>0.0</td>\n",
       "      <td>0.0</td>\n",
       "      <td>0.0</td>\n",
       "      <td>0.0</td>\n",
       "      <td>0.0</td>\n",
       "      <td>0.0</td>\n",
       "      <td>0.0</td>\n",
       "      <td>0.0</td>\n",
       "      <td>0.0</td>\n",
       "      <td>0.0</td>\n",
       "      <td>...</td>\n",
       "      <td>0.0</td>\n",
       "      <td>0.0</td>\n",
       "      <td>0.0</td>\n",
       "      <td>0.0</td>\n",
       "      <td>0.0</td>\n",
       "      <td>0.0</td>\n",
       "      <td>0.000000</td>\n",
       "      <td>0.0</td>\n",
       "      <td>0.0</td>\n",
       "      <td>0.0</td>\n",
       "    </tr>\n",
       "    <tr>\n",
       "      <th>1</th>\n",
       "      <td>0.0</td>\n",
       "      <td>0.0</td>\n",
       "      <td>0.0</td>\n",
       "      <td>0.0</td>\n",
       "      <td>0.0</td>\n",
       "      <td>0.0</td>\n",
       "      <td>0.0</td>\n",
       "      <td>0.0</td>\n",
       "      <td>0.0</td>\n",
       "      <td>0.0</td>\n",
       "      <td>...</td>\n",
       "      <td>0.0</td>\n",
       "      <td>0.0</td>\n",
       "      <td>0.0</td>\n",
       "      <td>0.0</td>\n",
       "      <td>0.0</td>\n",
       "      <td>0.0</td>\n",
       "      <td>0.000000</td>\n",
       "      <td>0.0</td>\n",
       "      <td>0.0</td>\n",
       "      <td>0.0</td>\n",
       "    </tr>\n",
       "    <tr>\n",
       "      <th>2</th>\n",
       "      <td>0.0</td>\n",
       "      <td>0.0</td>\n",
       "      <td>0.0</td>\n",
       "      <td>0.0</td>\n",
       "      <td>0.0</td>\n",
       "      <td>0.0</td>\n",
       "      <td>0.0</td>\n",
       "      <td>0.0</td>\n",
       "      <td>0.0</td>\n",
       "      <td>0.0</td>\n",
       "      <td>...</td>\n",
       "      <td>0.0</td>\n",
       "      <td>0.0</td>\n",
       "      <td>0.0</td>\n",
       "      <td>0.0</td>\n",
       "      <td>0.0</td>\n",
       "      <td>0.0</td>\n",
       "      <td>0.000000</td>\n",
       "      <td>0.0</td>\n",
       "      <td>0.0</td>\n",
       "      <td>0.0</td>\n",
       "    </tr>\n",
       "    <tr>\n",
       "      <th>3</th>\n",
       "      <td>0.0</td>\n",
       "      <td>0.0</td>\n",
       "      <td>0.0</td>\n",
       "      <td>0.0</td>\n",
       "      <td>0.0</td>\n",
       "      <td>0.0</td>\n",
       "      <td>0.0</td>\n",
       "      <td>0.0</td>\n",
       "      <td>0.0</td>\n",
       "      <td>0.0</td>\n",
       "      <td>...</td>\n",
       "      <td>0.0</td>\n",
       "      <td>0.0</td>\n",
       "      <td>0.0</td>\n",
       "      <td>0.0</td>\n",
       "      <td>0.0</td>\n",
       "      <td>0.0</td>\n",
       "      <td>0.000000</td>\n",
       "      <td>0.0</td>\n",
       "      <td>0.0</td>\n",
       "      <td>0.0</td>\n",
       "    </tr>\n",
       "    <tr>\n",
       "      <th>4</th>\n",
       "      <td>0.0</td>\n",
       "      <td>0.0</td>\n",
       "      <td>0.0</td>\n",
       "      <td>0.0</td>\n",
       "      <td>0.0</td>\n",
       "      <td>0.0</td>\n",
       "      <td>0.0</td>\n",
       "      <td>0.0</td>\n",
       "      <td>0.0</td>\n",
       "      <td>0.0</td>\n",
       "      <td>...</td>\n",
       "      <td>0.0</td>\n",
       "      <td>0.0</td>\n",
       "      <td>0.0</td>\n",
       "      <td>0.0</td>\n",
       "      <td>0.0</td>\n",
       "      <td>0.0</td>\n",
       "      <td>0.000000</td>\n",
       "      <td>0.0</td>\n",
       "      <td>0.0</td>\n",
       "      <td>0.0</td>\n",
       "    </tr>\n",
       "    <tr>\n",
       "      <th>...</th>\n",
       "      <td>...</td>\n",
       "      <td>...</td>\n",
       "      <td>...</td>\n",
       "      <td>...</td>\n",
       "      <td>...</td>\n",
       "      <td>...</td>\n",
       "      <td>...</td>\n",
       "      <td>...</td>\n",
       "      <td>...</td>\n",
       "      <td>...</td>\n",
       "      <td>...</td>\n",
       "      <td>...</td>\n",
       "      <td>...</td>\n",
       "      <td>...</td>\n",
       "      <td>...</td>\n",
       "      <td>...</td>\n",
       "      <td>...</td>\n",
       "      <td>...</td>\n",
       "      <td>...</td>\n",
       "      <td>...</td>\n",
       "      <td>...</td>\n",
       "    </tr>\n",
       "    <tr>\n",
       "      <th>88</th>\n",
       "      <td>0.0</td>\n",
       "      <td>0.0</td>\n",
       "      <td>0.0</td>\n",
       "      <td>0.0</td>\n",
       "      <td>0.0</td>\n",
       "      <td>0.0</td>\n",
       "      <td>0.0</td>\n",
       "      <td>0.0</td>\n",
       "      <td>0.0</td>\n",
       "      <td>0.0</td>\n",
       "      <td>...</td>\n",
       "      <td>0.0</td>\n",
       "      <td>0.0</td>\n",
       "      <td>0.0</td>\n",
       "      <td>0.0</td>\n",
       "      <td>0.0</td>\n",
       "      <td>0.0</td>\n",
       "      <td>0.320228</td>\n",
       "      <td>0.0</td>\n",
       "      <td>0.0</td>\n",
       "      <td>0.0</td>\n",
       "    </tr>\n",
       "    <tr>\n",
       "      <th>89</th>\n",
       "      <td>0.0</td>\n",
       "      <td>0.0</td>\n",
       "      <td>0.0</td>\n",
       "      <td>0.0</td>\n",
       "      <td>0.0</td>\n",
       "      <td>0.0</td>\n",
       "      <td>0.0</td>\n",
       "      <td>0.0</td>\n",
       "      <td>0.0</td>\n",
       "      <td>0.0</td>\n",
       "      <td>...</td>\n",
       "      <td>0.0</td>\n",
       "      <td>0.0</td>\n",
       "      <td>0.0</td>\n",
       "      <td>0.0</td>\n",
       "      <td>0.0</td>\n",
       "      <td>0.0</td>\n",
       "      <td>0.000000</td>\n",
       "      <td>0.0</td>\n",
       "      <td>0.0</td>\n",
       "      <td>0.0</td>\n",
       "    </tr>\n",
       "    <tr>\n",
       "      <th>90</th>\n",
       "      <td>0.0</td>\n",
       "      <td>0.0</td>\n",
       "      <td>0.0</td>\n",
       "      <td>0.0</td>\n",
       "      <td>0.0</td>\n",
       "      <td>0.0</td>\n",
       "      <td>0.0</td>\n",
       "      <td>0.0</td>\n",
       "      <td>0.0</td>\n",
       "      <td>0.0</td>\n",
       "      <td>...</td>\n",
       "      <td>0.0</td>\n",
       "      <td>0.0</td>\n",
       "      <td>0.0</td>\n",
       "      <td>0.0</td>\n",
       "      <td>0.0</td>\n",
       "      <td>0.0</td>\n",
       "      <td>0.000000</td>\n",
       "      <td>0.0</td>\n",
       "      <td>0.0</td>\n",
       "      <td>0.0</td>\n",
       "    </tr>\n",
       "    <tr>\n",
       "      <th>91</th>\n",
       "      <td>0.0</td>\n",
       "      <td>0.0</td>\n",
       "      <td>0.0</td>\n",
       "      <td>0.0</td>\n",
       "      <td>0.0</td>\n",
       "      <td>0.0</td>\n",
       "      <td>0.0</td>\n",
       "      <td>0.0</td>\n",
       "      <td>0.0</td>\n",
       "      <td>0.0</td>\n",
       "      <td>...</td>\n",
       "      <td>0.0</td>\n",
       "      <td>0.0</td>\n",
       "      <td>0.0</td>\n",
       "      <td>0.0</td>\n",
       "      <td>0.0</td>\n",
       "      <td>0.0</td>\n",
       "      <td>0.000000</td>\n",
       "      <td>0.0</td>\n",
       "      <td>0.0</td>\n",
       "      <td>0.0</td>\n",
       "    </tr>\n",
       "    <tr>\n",
       "      <th>92</th>\n",
       "      <td>0.0</td>\n",
       "      <td>0.0</td>\n",
       "      <td>0.0</td>\n",
       "      <td>0.0</td>\n",
       "      <td>0.0</td>\n",
       "      <td>0.0</td>\n",
       "      <td>0.0</td>\n",
       "      <td>0.0</td>\n",
       "      <td>0.0</td>\n",
       "      <td>0.0</td>\n",
       "      <td>...</td>\n",
       "      <td>0.0</td>\n",
       "      <td>0.0</td>\n",
       "      <td>0.0</td>\n",
       "      <td>0.0</td>\n",
       "      <td>0.0</td>\n",
       "      <td>0.0</td>\n",
       "      <td>0.000000</td>\n",
       "      <td>0.0</td>\n",
       "      <td>0.0</td>\n",
       "      <td>0.0</td>\n",
       "    </tr>\n",
       "  </tbody>\n",
       "</table>\n",
       "<p>93 rows × 571 columns</p>\n",
       "</div>"
      ],
      "text/plain": [
       "     10  14h   24   50  5000  abonnement  abonnes  abouti  achat  achetant  \\\n",
       "0   0.0  0.0  0.0  0.0   0.0         0.0      0.0     0.0    0.0       0.0   \n",
       "1   0.0  0.0  0.0  0.0   0.0         0.0      0.0     0.0    0.0       0.0   \n",
       "2   0.0  0.0  0.0  0.0   0.0         0.0      0.0     0.0    0.0       0.0   \n",
       "3   0.0  0.0  0.0  0.0   0.0         0.0      0.0     0.0    0.0       0.0   \n",
       "4   0.0  0.0  0.0  0.0   0.0         0.0      0.0     0.0    0.0       0.0   \n",
       "..  ...  ...  ...  ...   ...         ...      ...     ...    ...       ...   \n",
       "88  0.0  0.0  0.0  0.0   0.0         0.0      0.0     0.0    0.0       0.0   \n",
       "89  0.0  0.0  0.0  0.0   0.0         0.0      0.0     0.0    0.0       0.0   \n",
       "90  0.0  0.0  0.0  0.0   0.0         0.0      0.0     0.0    0.0       0.0   \n",
       "91  0.0  0.0  0.0  0.0   0.0         0.0      0.0     0.0    0.0       0.0   \n",
       "92  0.0  0.0  0.0  0.0   0.0         0.0      0.0     0.0    0.0       0.0   \n",
       "\n",
       "    ...  visibilite  visitant  visons  vite  voir  voulais    voyage  web  \\\n",
       "0   ...         0.0       0.0     0.0   0.0   0.0      0.0  0.000000  0.0   \n",
       "1   ...         0.0       0.0     0.0   0.0   0.0      0.0  0.000000  0.0   \n",
       "2   ...         0.0       0.0     0.0   0.0   0.0      0.0  0.000000  0.0   \n",
       "3   ...         0.0       0.0     0.0   0.0   0.0      0.0  0.000000  0.0   \n",
       "4   ...         0.0       0.0     0.0   0.0   0.0      0.0  0.000000  0.0   \n",
       "..  ...         ...       ...     ...   ...   ...      ...       ...  ...   \n",
       "88  ...         0.0       0.0     0.0   0.0   0.0      0.0  0.320228  0.0   \n",
       "89  ...         0.0       0.0     0.0   0.0   0.0      0.0  0.000000  0.0   \n",
       "90  ...         0.0       0.0     0.0   0.0   0.0      0.0  0.000000  0.0   \n",
       "91  ...         0.0       0.0     0.0   0.0   0.0      0.0  0.000000  0.0   \n",
       "92  ...         0.0       0.0     0.0   0.0   0.0      0.0  0.000000  0.0   \n",
       "\n",
       "    webinar  youtube  \n",
       "0       0.0      0.0  \n",
       "1       0.0      0.0  \n",
       "2       0.0      0.0  \n",
       "3       0.0      0.0  \n",
       "4       0.0      0.0  \n",
       "..      ...      ...  \n",
       "88      0.0      0.0  \n",
       "89      0.0      0.0  \n",
       "90      0.0      0.0  \n",
       "91      0.0      0.0  \n",
       "92      0.0      0.0  \n",
       "\n",
       "[93 rows x 571 columns]"
      ]
     },
     "execution_count": 33,
     "metadata": {},
     "output_type": "execute_result"
    }
   ],
   "source": [
    "X"
   ]
  },
  {
   "cell_type": "code",
   "execution_count": 258,
   "id": "c0711f0c",
   "metadata": {},
   "outputs": [
    {
     "data": {
      "text/plain": [
       "0     1\n",
       "1     0\n",
       "2     1\n",
       "3     0\n",
       "4     1\n",
       "     ..\n",
       "88    1\n",
       "89    0\n",
       "90    1\n",
       "91    1\n",
       "92    0\n",
       "Name: encoded, Length: 93, dtype: int32"
      ]
     },
     "execution_count": 258,
     "metadata": {},
     "output_type": "execute_result"
    }
   ],
   "source": [
    "y"
   ]
  },
  {
   "cell_type": "code",
   "execution_count": 285,
   "id": "1a321b73",
   "metadata": {},
   "outputs": [],
   "source": [
    "def train_and_evaluate_model(X, y, model):\n",
    "    \"\"\"\n",
    "    Divise les données en ensembles d'entraînement et de test, entraîne un modèle donné et renvoie les mesures de performances.\n",
    "\n",
    "    Args:\n",
    "        X (array-like): Les données d'entraînement.\n",
    "        y (array-like): Les étiquettes d'entraînement.\n",
    "        model: Le modèle à entraîner et évaluer.\n",
    "\n",
    "    Returns:\n",
    "        dict: Un dictionnaire contenant les mesures de performances (accuracy, precision, recall, f1-score).\n",
    "    \"\"\"\n",
    "    # Diviser les données en ensembles d'entraînement et de test\n",
    "    X_train, X_test, y_train, y_test = train_test_split(X, y, test_size=0.30, stratify=y)\n",
    "\n",
    "    # Entraîner le modèle\n",
    "    model.fit(X_train, y_train)\n",
    "\n",
    "    # Prédire les étiquettes pour les données de test\n",
    "    y_pred = model.predict(X_test)\n",
    "\n",
    "    # Calculer les mesures de performances\n",
    "    accuracy = accuracy_score(y_test, y_pred)\n",
    "    precision = precision_score(y_test, y_pred)\n",
    "    recall = recall_score(y_test, y_pred)\n",
    "    f1 = f1_score(y_test, y_pred)\n",
    "\n",
    "    # Retourner les mesures de performances dans un dictionnaire\n",
    "    performance_measures = {\n",
    "        \"accuracy\": accuracy,\n",
    "        \"precision\": precision,\n",
    "        \"recall\": recall,\n",
    "        \"f1-score\": f1\n",
    "    }\n",
    "\n",
    "    return performance_measures\n"
   ]
  },
  {
   "cell_type": "code",
   "execution_count": 286,
   "id": "e3192803",
   "metadata": {},
   "outputs": [
    {
     "data": {
      "text/plain": [
       "{'accuracy': 0.75,\n",
       " 'precision': 1.0,\n",
       " 'recall': 0.46153846153846156,\n",
       " 'f1-score': 0.631578947368421}"
      ]
     },
     "execution_count": 286,
     "metadata": {},
     "output_type": "execute_result"
    }
   ],
   "source": [
    "model_log = LogisticRegression()\n",
    "train_and_evaluate_model(X,y,model_log)"
   ]
  },
  {
   "cell_type": "code",
   "execution_count": 308,
   "id": "4c7ced9e",
   "metadata": {},
   "outputs": [
    {
     "data": {
      "text/plain": [
       "{'accuracy': 0.8928571428571429,\n",
       " 'precision': 0.9166666666666666,\n",
       " 'recall': 0.8461538461538461,\n",
       " 'f1-score': 0.8799999999999999}"
      ]
     },
     "execution_count": 308,
     "metadata": {},
     "output_type": "execute_result"
    }
   ],
   "source": [
    "model_nb_ber = MultinomialNB()\n",
    "train_and_evaluate_model(X,y,model_nb_ber)"
   ]
  },
  {
   "cell_type": "code",
   "execution_count": 309,
   "id": "74157de5",
   "metadata": {},
   "outputs": [
    {
     "data": {
      "text/plain": [
       "{'accuracy': 0.8571428571428571,\n",
       " 'precision': 0.9090909090909091,\n",
       " 'recall': 0.7692307692307693,\n",
       " 'f1-score': 0.8333333333333333}"
      ]
     },
     "execution_count": 309,
     "metadata": {},
     "output_type": "execute_result"
    }
   ],
   "source": [
    "model_rf = RandomForestClassifier()\n",
    "train_and_evaluate_model(X,y,model_rf)"
   ]
  },
  {
   "cell_type": "code",
   "execution_count": 316,
   "id": "b1f3d5e4",
   "metadata": {},
   "outputs": [
    {
     "data": {
      "text/plain": [
       "{'accuracy': 0.75,\n",
       " 'precision': 0.875,\n",
       " 'recall': 0.5384615384615384,\n",
       " 'f1-score': 0.6666666666666667}"
      ]
     },
     "execution_count": 316,
     "metadata": {},
     "output_type": "execute_result"
    }
   ],
   "source": [
    "model_svm = SVC()\n",
    "train_and_evaluate_model(X,y,model_svm)"
   ]
  },
  {
   "cell_type": "code",
   "execution_count": 319,
   "id": "5bc4d69b",
   "metadata": {},
   "outputs": [
    {
     "data": {
      "text/plain": [
       "{'accuracy': 0.8928571428571429,\n",
       " 'precision': 1.0,\n",
       " 'recall': 0.7692307692307693,\n",
       " 'f1-score': 0.8695652173913044}"
      ]
     },
     "execution_count": 319,
     "metadata": {},
     "output_type": "execute_result"
    }
   ],
   "source": [
    "model_knn = KNeighborsClassifier()\n",
    "train_and_evaluate_model(X,y,model_knn)"
   ]
  },
  {
   "cell_type": "markdown",
   "id": "1901dde6",
   "metadata": {},
   "source": [
    "## Avec les Hyperparamètres "
   ]
  },
  {
   "cell_type": "code",
   "execution_count": 99,
   "id": "0c56bed4",
   "metadata": {},
   "outputs": [],
   "source": [
    "from sklearn.model_selection import GridSearchCV"
   ]
  },
  {
   "cell_type": "code",
   "execution_count": 320,
   "id": "fb92073d",
   "metadata": {},
   "outputs": [],
   "source": [
    "params_nb = {'alpha': [0.1, 0.5, 1.0]}\n",
    "params_logistic = {'C': [0.1, 1.0, 10.0]}\n",
    "params_knn = {'n_neighbors': [3, 5, 7]}\n",
    "params_svm = {'C': [0.1, 1.0, 10.0], 'kernel': ['linear', 'rbf']}\n",
    "params_random = {'n_estimators': [100, 200, 300]}\n"
   ]
  },
  {
   "cell_type": "code",
   "execution_count": null,
   "id": "a89b98a4",
   "metadata": {},
   "outputs": [],
   "source": [
    "\n",
    "\n",
    "\n"
   ]
  },
  {
   "cell_type": "code",
   "execution_count": 321,
   "id": "48db46df",
   "metadata": {},
   "outputs": [],
   "source": [
    "from sklearn.model_selection import train_test_split, GridSearchCV\n",
    "from sklearn.metrics import accuracy_score, precision_score, recall_score, f1_score\n",
    "\n",
    "def train_and_evaluate_model_grid(X, y, model,param_grid):\n",
    "    \"\"\"\n",
    "    Divise les données en ensembles d'entraînement et de test, effectue une recherche de grille pour trouver les meilleurs\n",
    "    hyperparamètres du modèle, entraîne le modèle avec les meilleurs hyperparamètres et renvoie les mesures de performances.\n",
    "\n",
    "    Args:\n",
    "        X (array-like): Les données d'entraînement.\n",
    "        y (array-like): Les étiquettes d'entraînement.\n",
    "        model: Le modèle à entraîner et évaluer.\n",
    "        param_grid (dict): Le dictionnaire des hyperparamètres à tester dans la recherche de grille.\n",
    "\n",
    "    Returns:\n",
    "        dict: Un dictionnaire contenant les mesures de performances (accuracy, precision, recall, f1-score) du modèle\n",
    "        avec les meilleurs hyperparamètres.\n",
    "    \"\"\"\n",
    "    # Diviser les données en ensembles d'entraînement et de test\n",
    "    X_train, X_test, y_train, y_test = train_test_split(X, y, test_size=0.30, stratify=y)\n",
    "\n",
    "    # Effectuer une recherche de grille pour trouver les meilleurs hyperparamètres\n",
    "    grid_search = GridSearchCV(model, param_grid, cv=5)\n",
    "    grid_search.fit(X_train, y_train)\n",
    "\n",
    "    # Obtenir le modèle avec les meilleurs hyperparamètres\n",
    "    best_model = grid_search.best_estimator_\n",
    "\n",
    "    # Prédire les étiquettes pour les données de test avec le modèle sélectionné\n",
    "    y_pred = best_model.predict(X_test)\n",
    "\n",
    "    # Calculer les mesures de performances\n",
    "    accuracy = accuracy_score(y_test, y_pred)\n",
    "    precision = precision_score(y_test, y_pred)\n",
    "    recall = recall_score(y_test, y_pred)\n",
    "    f1 = f1_score(y_test, y_pred)\n",
    "\n",
    "    # Retourner les mesures de performances dans un dictionnaire\n",
    "    performance_measures = {\n",
    "        \"accuracy\": accuracy,\n",
    "        \"precision\": precision,\n",
    "        \"recall\": recall,\n",
    "        \"f1-score\": f1\n",
    "    }\n",
    "\n",
    "    return performance_measures,best_model\n"
   ]
  },
  {
   "cell_type": "code",
   "execution_count": 323,
   "id": "ddb9a488",
   "metadata": {},
   "outputs": [
    {
     "data": {
      "text/plain": [
       "({'accuracy': 0.8928571428571429,\n",
       "  'precision': 1.0,\n",
       "  'recall': 0.7692307692307693,\n",
       "  'f1-score': 0.8695652173913044},\n",
       " MultinomialNB(alpha=0.5))"
      ]
     },
     "execution_count": 323,
     "metadata": {},
     "output_type": "execute_result"
    }
   ],
   "source": [
    "train_and_evaluate_model_grid(X,y,model_nb_ber,params_nb )"
   ]
  },
  {
   "cell_type": "code",
   "execution_count": 324,
   "id": "07128719",
   "metadata": {},
   "outputs": [
    {
     "data": {
      "text/plain": [
       "({'accuracy': 0.8214285714285714,\n",
       "  'precision': 0.8333333333333334,\n",
       "  'recall': 0.7692307692307693,\n",
       "  'f1-score': 0.8},\n",
       " LogisticRegression(C=10.0))"
      ]
     },
     "execution_count": 324,
     "metadata": {},
     "output_type": "execute_result"
    }
   ],
   "source": [
    "train_and_evaluate_model_grid(X,y,model_log,params_logistic)\n"
   ]
  },
  {
   "cell_type": "code",
   "execution_count": 325,
   "id": "3b04568d",
   "metadata": {},
   "outputs": [
    {
     "data": {
      "text/plain": [
       "({'accuracy': 0.75,\n",
       "  'precision': 0.875,\n",
       "  'recall': 0.5384615384615384,\n",
       "  'f1-score': 0.6666666666666667},\n",
       " SVC(kernel='linear'))"
      ]
     },
     "execution_count": 325,
     "metadata": {},
     "output_type": "execute_result"
    }
   ],
   "source": [
    "train_and_evaluate_model_grid(X,y,model_svm,params_svm )"
   ]
  },
  {
   "cell_type": "code",
   "execution_count": 327,
   "id": "495507b0",
   "metadata": {},
   "outputs": [
    {
     "data": {
      "text/plain": [
       "({'accuracy': 0.75,\n",
       "  'precision': 0.8,\n",
       "  'recall': 0.6153846153846154,\n",
       "  'f1-score': 0.6956521739130435},\n",
       " KNeighborsClassifier(n_neighbors=7))"
      ]
     },
     "execution_count": 327,
     "metadata": {},
     "output_type": "execute_result"
    }
   ],
   "source": [
    "train_and_evaluate_model_grid(X,y,model_knn,params_knn)\n"
   ]
  },
  {
   "cell_type": "code",
   "execution_count": 328,
   "id": "e29d88bc",
   "metadata": {},
   "outputs": [
    {
     "data": {
      "text/plain": [
       "({'accuracy': 0.75,\n",
       "  'precision': 0.875,\n",
       "  'recall': 0.5384615384615384,\n",
       "  'f1-score': 0.6666666666666667},\n",
       " RandomForestClassifier(n_estimators=200))"
      ]
     },
     "execution_count": 328,
     "metadata": {},
     "output_type": "execute_result"
    }
   ],
   "source": [
    "train_and_evaluate_model_grid(X,y,model_rf,params_random)\n"
   ]
  },
  {
   "cell_type": "code",
   "execution_count": 145,
   "id": "23b77090",
   "metadata": {},
   "outputs": [
    {
     "data": {
      "text/plain": [
       "['C:\\\\Users\\\\awa29\\\\OneDrive\\\\Bureau\\\\Stage NLP\\\\modele.joblib']"
      ]
     },
     "execution_count": 145,
     "metadata": {},
     "output_type": "execute_result"
    }
   ],
   "source": []
  },
  {
   "cell_type": "markdown",
   "id": "85286a42",
   "metadata": {},
   "source": [
    "Notre meilleur modele est le ** d'apres les résultats"
   ]
  },
  {
   "cell_type": "code",
   "execution_count": null,
   "id": "2a8b7137",
   "metadata": {},
   "outputs": [],
   "source": [
    "\n"
   ]
  },
  {
   "cell_type": "code",
   "execution_count": 329,
   "id": "e3f7cae7",
   "metadata": {},
   "outputs": [],
   "source": [
    "df1=pd.read_csv(r\"C:\\Users\\awa29\\OneDrive\\Bureau\\Stage NLP\\spam.csv\" , encoding = \"ISO-8859-1\")\n"
   ]
  },
  {
   "cell_type": "code",
   "execution_count": null,
   "id": "0726f0d9",
   "metadata": {},
   "outputs": [],
   "source": []
  },
  {
   "cell_type": "code",
   "execution_count": 330,
   "id": "faa38142",
   "metadata": {},
   "outputs": [],
   "source": [
    "df1=df1.drop(['Unnamed: 2','Unnamed: 3','Unnamed: 4'],axis= 'columns')\n"
   ]
  },
  {
   "cell_type": "code",
   "execution_count": 331,
   "id": "d084f0cf",
   "metadata": {},
   "outputs": [
    {
     "data": {
      "text/html": [
       "<div>\n",
       "<style scoped>\n",
       "    .dataframe tbody tr th:only-of-type {\n",
       "        vertical-align: middle;\n",
       "    }\n",
       "\n",
       "    .dataframe tbody tr th {\n",
       "        vertical-align: top;\n",
       "    }\n",
       "\n",
       "    .dataframe thead th {\n",
       "        text-align: right;\n",
       "    }\n",
       "</style>\n",
       "<table border=\"1\" class=\"dataframe\">\n",
       "  <thead>\n",
       "    <tr style=\"text-align: right;\">\n",
       "      <th></th>\n",
       "      <th>v1</th>\n",
       "      <th>v2</th>\n",
       "    </tr>\n",
       "  </thead>\n",
       "  <tbody>\n",
       "    <tr>\n",
       "      <th>0</th>\n",
       "      <td>ham</td>\n",
       "      <td>Go until jurong point, crazy.. Available only ...</td>\n",
       "    </tr>\n",
       "    <tr>\n",
       "      <th>1</th>\n",
       "      <td>ham</td>\n",
       "      <td>Ok lar... Joking wif u oni...</td>\n",
       "    </tr>\n",
       "    <tr>\n",
       "      <th>2</th>\n",
       "      <td>spam</td>\n",
       "      <td>Free entry in 2 a wkly comp to win FA Cup fina...</td>\n",
       "    </tr>\n",
       "    <tr>\n",
       "      <th>3</th>\n",
       "      <td>ham</td>\n",
       "      <td>U dun say so early hor... U c already then say...</td>\n",
       "    </tr>\n",
       "    <tr>\n",
       "      <th>4</th>\n",
       "      <td>ham</td>\n",
       "      <td>Nah I don't think he goes to usf, he lives aro...</td>\n",
       "    </tr>\n",
       "    <tr>\n",
       "      <th>...</th>\n",
       "      <td>...</td>\n",
       "      <td>...</td>\n",
       "    </tr>\n",
       "    <tr>\n",
       "      <th>5567</th>\n",
       "      <td>spam</td>\n",
       "      <td>This is the 2nd time we have tried 2 contact u...</td>\n",
       "    </tr>\n",
       "    <tr>\n",
       "      <th>5568</th>\n",
       "      <td>ham</td>\n",
       "      <td>Will Ì_ b going to esplanade fr home?</td>\n",
       "    </tr>\n",
       "    <tr>\n",
       "      <th>5569</th>\n",
       "      <td>ham</td>\n",
       "      <td>Pity, * was in mood for that. So...any other s...</td>\n",
       "    </tr>\n",
       "    <tr>\n",
       "      <th>5570</th>\n",
       "      <td>ham</td>\n",
       "      <td>The guy did some bitching but I acted like i'd...</td>\n",
       "    </tr>\n",
       "    <tr>\n",
       "      <th>5571</th>\n",
       "      <td>ham</td>\n",
       "      <td>Rofl. Its true to its name</td>\n",
       "    </tr>\n",
       "  </tbody>\n",
       "</table>\n",
       "<p>5572 rows × 2 columns</p>\n",
       "</div>"
      ],
      "text/plain": [
       "        v1                                                 v2\n",
       "0      ham  Go until jurong point, crazy.. Available only ...\n",
       "1      ham                      Ok lar... Joking wif u oni...\n",
       "2     spam  Free entry in 2 a wkly comp to win FA Cup fina...\n",
       "3      ham  U dun say so early hor... U c already then say...\n",
       "4      ham  Nah I don't think he goes to usf, he lives aro...\n",
       "...    ...                                                ...\n",
       "5567  spam  This is the 2nd time we have tried 2 contact u...\n",
       "5568   ham              Will Ì_ b going to esplanade fr home?\n",
       "5569   ham  Pity, * was in mood for that. So...any other s...\n",
       "5570   ham  The guy did some bitching but I acted like i'd...\n",
       "5571   ham                         Rofl. Its true to its name\n",
       "\n",
       "[5572 rows x 2 columns]"
      ]
     },
     "execution_count": 331,
     "metadata": {},
     "output_type": "execute_result"
    }
   ],
   "source": [
    "df1"
   ]
  },
  {
   "cell_type": "code",
   "execution_count": 332,
   "id": "c9ca3f94",
   "metadata": {},
   "outputs": [],
   "source": [
    "df1.columns=['Type','Message']"
   ]
  },
  {
   "cell_type": "code",
   "execution_count": 333,
   "id": "18546ad8",
   "metadata": {},
   "outputs": [
    {
     "data": {
      "text/html": [
       "<div>\n",
       "<style scoped>\n",
       "    .dataframe tbody tr th:only-of-type {\n",
       "        vertical-align: middle;\n",
       "    }\n",
       "\n",
       "    .dataframe tbody tr th {\n",
       "        vertical-align: top;\n",
       "    }\n",
       "\n",
       "    .dataframe thead th {\n",
       "        text-align: right;\n",
       "    }\n",
       "</style>\n",
       "<table border=\"1\" class=\"dataframe\">\n",
       "  <thead>\n",
       "    <tr style=\"text-align: right;\">\n",
       "      <th></th>\n",
       "      <th>Type</th>\n",
       "      <th>Message</th>\n",
       "    </tr>\n",
       "  </thead>\n",
       "  <tbody>\n",
       "    <tr>\n",
       "      <th>count</th>\n",
       "      <td>5572</td>\n",
       "      <td>5572</td>\n",
       "    </tr>\n",
       "    <tr>\n",
       "      <th>unique</th>\n",
       "      <td>2</td>\n",
       "      <td>5169</td>\n",
       "    </tr>\n",
       "    <tr>\n",
       "      <th>top</th>\n",
       "      <td>ham</td>\n",
       "      <td>Sorry, I'll call later</td>\n",
       "    </tr>\n",
       "    <tr>\n",
       "      <th>freq</th>\n",
       "      <td>4825</td>\n",
       "      <td>30</td>\n",
       "    </tr>\n",
       "  </tbody>\n",
       "</table>\n",
       "</div>"
      ],
      "text/plain": [
       "        Type                 Message\n",
       "count   5572                    5572\n",
       "unique     2                    5169\n",
       "top      ham  Sorry, I'll call later\n",
       "freq    4825                      30"
      ]
     },
     "execution_count": 333,
     "metadata": {},
     "output_type": "execute_result"
    }
   ],
   "source": [
    "df1.describe()"
   ]
  },
  {
   "cell_type": "code",
   "execution_count": 334,
   "id": "092d7207",
   "metadata": {},
   "outputs": [
    {
     "data": {
      "text/html": [
       "<div>\n",
       "<style scoped>\n",
       "    .dataframe tbody tr th:only-of-type {\n",
       "        vertical-align: middle;\n",
       "    }\n",
       "\n",
       "    .dataframe tbody tr th {\n",
       "        vertical-align: top;\n",
       "    }\n",
       "\n",
       "    .dataframe thead th {\n",
       "        text-align: right;\n",
       "    }\n",
       "</style>\n",
       "<table border=\"1\" class=\"dataframe\">\n",
       "  <thead>\n",
       "    <tr style=\"text-align: right;\">\n",
       "      <th></th>\n",
       "      <th>Type</th>\n",
       "      <th>Message</th>\n",
       "      <th>encoded</th>\n",
       "    </tr>\n",
       "  </thead>\n",
       "  <tbody>\n",
       "    <tr>\n",
       "      <th>0</th>\n",
       "      <td>ham</td>\n",
       "      <td>Go until jurong point, crazy.. Available only ...</td>\n",
       "      <td>0</td>\n",
       "    </tr>\n",
       "    <tr>\n",
       "      <th>1</th>\n",
       "      <td>ham</td>\n",
       "      <td>Ok lar... Joking wif u oni...</td>\n",
       "      <td>0</td>\n",
       "    </tr>\n",
       "    <tr>\n",
       "      <th>2</th>\n",
       "      <td>spam</td>\n",
       "      <td>Free entry in 2 a wkly comp to win FA Cup fina...</td>\n",
       "      <td>1</td>\n",
       "    </tr>\n",
       "    <tr>\n",
       "      <th>3</th>\n",
       "      <td>ham</td>\n",
       "      <td>U dun say so early hor... U c already then say...</td>\n",
       "      <td>0</td>\n",
       "    </tr>\n",
       "    <tr>\n",
       "      <th>4</th>\n",
       "      <td>ham</td>\n",
       "      <td>Nah I don't think he goes to usf, he lives aro...</td>\n",
       "      <td>0</td>\n",
       "    </tr>\n",
       "    <tr>\n",
       "      <th>...</th>\n",
       "      <td>...</td>\n",
       "      <td>...</td>\n",
       "      <td>...</td>\n",
       "    </tr>\n",
       "    <tr>\n",
       "      <th>5567</th>\n",
       "      <td>spam</td>\n",
       "      <td>This is the 2nd time we have tried 2 contact u...</td>\n",
       "      <td>1</td>\n",
       "    </tr>\n",
       "    <tr>\n",
       "      <th>5568</th>\n",
       "      <td>ham</td>\n",
       "      <td>Will Ì_ b going to esplanade fr home?</td>\n",
       "      <td>0</td>\n",
       "    </tr>\n",
       "    <tr>\n",
       "      <th>5569</th>\n",
       "      <td>ham</td>\n",
       "      <td>Pity, * was in mood for that. So...any other s...</td>\n",
       "      <td>0</td>\n",
       "    </tr>\n",
       "    <tr>\n",
       "      <th>5570</th>\n",
       "      <td>ham</td>\n",
       "      <td>The guy did some bitching but I acted like i'd...</td>\n",
       "      <td>0</td>\n",
       "    </tr>\n",
       "    <tr>\n",
       "      <th>5571</th>\n",
       "      <td>ham</td>\n",
       "      <td>Rofl. Its true to its name</td>\n",
       "      <td>0</td>\n",
       "    </tr>\n",
       "  </tbody>\n",
       "</table>\n",
       "<p>5572 rows × 3 columns</p>\n",
       "</div>"
      ],
      "text/plain": [
       "      Type                                            Message  encoded\n",
       "0      ham  Go until jurong point, crazy.. Available only ...        0\n",
       "1      ham                      Ok lar... Joking wif u oni...        0\n",
       "2     spam  Free entry in 2 a wkly comp to win FA Cup fina...        1\n",
       "3      ham  U dun say so early hor... U c already then say...        0\n",
       "4      ham  Nah I don't think he goes to usf, he lives aro...        0\n",
       "...    ...                                                ...      ...\n",
       "5567  spam  This is the 2nd time we have tried 2 contact u...        1\n",
       "5568   ham              Will Ì_ b going to esplanade fr home?        0\n",
       "5569   ham  Pity, * was in mood for that. So...any other s...        0\n",
       "5570   ham  The guy did some bitching but I acted like i'd...        0\n",
       "5571   ham                         Rofl. Its true to its name        0\n",
       "\n",
       "[5572 rows x 3 columns]"
      ]
     },
     "execution_count": 334,
     "metadata": {},
     "output_type": "execute_result"
    }
   ],
   "source": [
    "df1['encoded'] = encoder.fit_transform(df1['Type'])\n",
    "df1"
   ]
  },
  {
   "cell_type": "code",
   "execution_count": 335,
   "id": "67821744",
   "metadata": {},
   "outputs": [],
   "source": [
    "#!pip install googletrans==4.0.0-rc1\n"
   ]
  },
  {
   "cell_type": "code",
   "execution_count": 336,
   "id": "ff2272da",
   "metadata": {},
   "outputs": [],
   "source": [
    "from googletrans import Translator\n",
    "\n",
    "translator = Translator()\n",
    "\n"
   ]
  },
  {
   "cell_type": "code",
   "execution_count": null,
   "id": "74d24091",
   "metadata": {},
   "outputs": [],
   "source": []
  },
  {
   "cell_type": "code",
   "execution_count": 337,
   "id": "bf317dfc",
   "metadata": {},
   "outputs": [
    {
     "data": {
      "text/html": [
       "<div>\n",
       "<style scoped>\n",
       "    .dataframe tbody tr th:only-of-type {\n",
       "        vertical-align: middle;\n",
       "    }\n",
       "\n",
       "    .dataframe tbody tr th {\n",
       "        vertical-align: top;\n",
       "    }\n",
       "\n",
       "    .dataframe thead th {\n",
       "        text-align: right;\n",
       "    }\n",
       "</style>\n",
       "<table border=\"1\" class=\"dataframe\">\n",
       "  <thead>\n",
       "    <tr style=\"text-align: right;\">\n",
       "      <th></th>\n",
       "      <th>Type</th>\n",
       "      <th>Message</th>\n",
       "      <th>encoded</th>\n",
       "    </tr>\n",
       "  </thead>\n",
       "  <tbody>\n",
       "    <tr>\n",
       "      <th>0</th>\n",
       "      <td>ham</td>\n",
       "      <td>Go until jurong point, crazy.. Available only ...</td>\n",
       "      <td>0</td>\n",
       "    </tr>\n",
       "    <tr>\n",
       "      <th>1</th>\n",
       "      <td>ham</td>\n",
       "      <td>Ok lar... Joking wif u oni...</td>\n",
       "      <td>0</td>\n",
       "    </tr>\n",
       "    <tr>\n",
       "      <th>2</th>\n",
       "      <td>spam</td>\n",
       "      <td>Free entry in 2 a wkly comp to win FA Cup fina...</td>\n",
       "      <td>1</td>\n",
       "    </tr>\n",
       "    <tr>\n",
       "      <th>3</th>\n",
       "      <td>ham</td>\n",
       "      <td>U dun say so early hor... U c already then say...</td>\n",
       "      <td>0</td>\n",
       "    </tr>\n",
       "    <tr>\n",
       "      <th>4</th>\n",
       "      <td>ham</td>\n",
       "      <td>Nah I don't think he goes to usf, he lives aro...</td>\n",
       "      <td>0</td>\n",
       "    </tr>\n",
       "    <tr>\n",
       "      <th>...</th>\n",
       "      <td>...</td>\n",
       "      <td>...</td>\n",
       "      <td>...</td>\n",
       "    </tr>\n",
       "    <tr>\n",
       "      <th>5567</th>\n",
       "      <td>spam</td>\n",
       "      <td>This is the 2nd time we have tried 2 contact u...</td>\n",
       "      <td>1</td>\n",
       "    </tr>\n",
       "    <tr>\n",
       "      <th>5568</th>\n",
       "      <td>ham</td>\n",
       "      <td>Will Ì_ b going to esplanade fr home?</td>\n",
       "      <td>0</td>\n",
       "    </tr>\n",
       "    <tr>\n",
       "      <th>5569</th>\n",
       "      <td>ham</td>\n",
       "      <td>Pity, * was in mood for that. So...any other s...</td>\n",
       "      <td>0</td>\n",
       "    </tr>\n",
       "    <tr>\n",
       "      <th>5570</th>\n",
       "      <td>ham</td>\n",
       "      <td>The guy did some bitching but I acted like i'd...</td>\n",
       "      <td>0</td>\n",
       "    </tr>\n",
       "    <tr>\n",
       "      <th>5571</th>\n",
       "      <td>ham</td>\n",
       "      <td>Rofl. Its true to its name</td>\n",
       "      <td>0</td>\n",
       "    </tr>\n",
       "  </tbody>\n",
       "</table>\n",
       "<p>5572 rows × 3 columns</p>\n",
       "</div>"
      ],
      "text/plain": [
       "      Type                                            Message  encoded\n",
       "0      ham  Go until jurong point, crazy.. Available only ...        0\n",
       "1      ham                      Ok lar... Joking wif u oni...        0\n",
       "2     spam  Free entry in 2 a wkly comp to win FA Cup fina...        1\n",
       "3      ham  U dun say so early hor... U c already then say...        0\n",
       "4      ham  Nah I don't think he goes to usf, he lives aro...        0\n",
       "...    ...                                                ...      ...\n",
       "5567  spam  This is the 2nd time we have tried 2 contact u...        1\n",
       "5568   ham              Will Ì_ b going to esplanade fr home?        0\n",
       "5569   ham  Pity, * was in mood for that. So...any other s...        0\n",
       "5570   ham  The guy did some bitching but I acted like i'd...        0\n",
       "5571   ham                         Rofl. Its true to its name        0\n",
       "\n",
       "[5572 rows x 3 columns]"
      ]
     },
     "execution_count": 337,
     "metadata": {},
     "output_type": "execute_result"
    }
   ],
   "source": [
    "df1"
   ]
  },
  {
   "cell_type": "code",
   "execution_count": 338,
   "id": "d7032b46",
   "metadata": {},
   "outputs": [
    {
     "data": {
      "text/html": [
       "<div>\n",
       "<style scoped>\n",
       "    .dataframe tbody tr th:only-of-type {\n",
       "        vertical-align: middle;\n",
       "    }\n",
       "\n",
       "    .dataframe tbody tr th {\n",
       "        vertical-align: top;\n",
       "    }\n",
       "\n",
       "    .dataframe thead th {\n",
       "        text-align: right;\n",
       "    }\n",
       "</style>\n",
       "<table border=\"1\" class=\"dataframe\">\n",
       "  <thead>\n",
       "    <tr style=\"text-align: right;\">\n",
       "      <th></th>\n",
       "      <th>Type</th>\n",
       "      <th>Message</th>\n",
       "      <th>encoded</th>\n",
       "    </tr>\n",
       "  </thead>\n",
       "  <tbody>\n",
       "    <tr>\n",
       "      <th>0</th>\n",
       "      <td>Spam</td>\n",
       "      <td>Obtenez des résultats instantanés avec notre p...</td>\n",
       "      <td>1</td>\n",
       "    </tr>\n",
       "    <tr>\n",
       "      <th>1</th>\n",
       "      <td>Non spam</td>\n",
       "      <td>Nous sommes ravis d'annoncer notre nouveau par...</td>\n",
       "      <td>0</td>\n",
       "    </tr>\n",
       "    <tr>\n",
       "      <th>2</th>\n",
       "      <td>Spam</td>\n",
       "      <td>Enrichissez-vous grâce à notre système de trad...</td>\n",
       "      <td>1</td>\n",
       "    </tr>\n",
       "    <tr>\n",
       "      <th>3</th>\n",
       "      <td>Non spam</td>\n",
       "      <td>Bonne nouvelle {{firstname}} ! Notre boutique ...</td>\n",
       "      <td>0</td>\n",
       "    </tr>\n",
       "    <tr>\n",
       "      <th>4</th>\n",
       "      <td>Spam</td>\n",
       "      <td>Obtenez des followers Twitter en masse {{first...</td>\n",
       "      <td>1</td>\n",
       "    </tr>\n",
       "    <tr>\n",
       "      <th>...</th>\n",
       "      <td>...</td>\n",
       "      <td>...</td>\n",
       "      <td>...</td>\n",
       "    </tr>\n",
       "    <tr>\n",
       "      <th>174</th>\n",
       "      <td>ham</td>\n",
       "      <td>Captain is in our room:)</td>\n",
       "      <td>0</td>\n",
       "    </tr>\n",
       "    <tr>\n",
       "      <th>175</th>\n",
       "      <td>ham</td>\n",
       "      <td>No we sell it all so we'll have tons if coins....</td>\n",
       "      <td>0</td>\n",
       "    </tr>\n",
       "    <tr>\n",
       "      <th>176</th>\n",
       "      <td>ham</td>\n",
       "      <td>Oh shut it. Omg yesterday I had a dream that I...</td>\n",
       "      <td>0</td>\n",
       "    </tr>\n",
       "    <tr>\n",
       "      <th>177</th>\n",
       "      <td>ham</td>\n",
       "      <td>Yeah, don't go to bed, I'll be back before mid...</td>\n",
       "      <td>0</td>\n",
       "    </tr>\n",
       "    <tr>\n",
       "      <th>178</th>\n",
       "      <td>ham</td>\n",
       "      <td>Never blame a day in ur life. Good days give u...</td>\n",
       "      <td>0</td>\n",
       "    </tr>\n",
       "  </tbody>\n",
       "</table>\n",
       "<p>179 rows × 3 columns</p>\n",
       "</div>"
      ],
      "text/plain": [
       "         Type                                            Message  encoded\n",
       "0        Spam  Obtenez des résultats instantanés avec notre p...        1\n",
       "1    Non spam  Nous sommes ravis d'annoncer notre nouveau par...        0\n",
       "2        Spam  Enrichissez-vous grâce à notre système de trad...        1\n",
       "3    Non spam  Bonne nouvelle {{firstname}} ! Notre boutique ...        0\n",
       "4        Spam  Obtenez des followers Twitter en masse {{first...        1\n",
       "..        ...                                                ...      ...\n",
       "174       ham                           Captain is in our room:)        0\n",
       "175       ham  No we sell it all so we'll have tons if coins....        0\n",
       "176       ham  Oh shut it. Omg yesterday I had a dream that I...        0\n",
       "177       ham  Yeah, don't go to bed, I'll be back before mid...        0\n",
       "178       ham  Never blame a day in ur life. Good days give u...        0\n",
       "\n",
       "[179 rows x 3 columns]"
      ]
     },
     "execution_count": 338,
     "metadata": {},
     "output_type": "execute_result"
    }
   ],
   "source": [
    "nb_spam = df['Type'].value_counts()['Spam']\n",
    "nb_non_spam = df['Type'].value_counts()['Non spam']\n",
    "\n",
    "# Calculer le nombre de lignes souhaité pour chaque classe dans les nouvelles données pour atteindre une répartition équilibrée\n",
    "nombre_lignes_par_classe = min(nb_spam, nb_non_spam)  # Nombre égal de lignes pour chaque classe\n",
    "\n",
    "# Sélectionner un sous-ensemble aléatoire des nouvelles données pour chaque classe avec le nombre de lignes souhaité\n",
    "nouvelles_donnees_spam = df1[df1['Type'] == 'spam'].sample(nombre_lignes_par_classe, replace=True)\n",
    "nouvelles_donnees_non_spam = df1[df1['Type'] == 'ham'].sample(nombre_lignes_par_classe, replace=True)\n",
    "\n",
    "# Concaténer les données existantes et les nouvelles données équilibrées\n",
    "donnees = pd.concat([df[['Type', 'Message', 'encoded']], nouvelles_donnees_spam, nouvelles_donnees_non_spam])\n",
    "\n",
    "# Réorganiser l'index des lignes\n",
    "donnees.reset_index(drop=True, inplace=True)\n",
    "\n",
    "# Afficher les premières lignes du jeu de données équilibré\n",
    "donnees"
   ]
  },
  {
   "cell_type": "code",
   "execution_count": 339,
   "id": "0a458306",
   "metadata": {},
   "outputs": [],
   "source": [
    "donnees['Message'] = donnees['Message'].apply(lambda x: translator.translate(x, dest='fr').text)\n"
   ]
  },
  {
   "cell_type": "code",
   "execution_count": 340,
   "id": "0b92c6e7",
   "metadata": {},
   "outputs": [
    {
     "data": {
      "text/html": [
       "<div>\n",
       "<style scoped>\n",
       "    .dataframe tbody tr th:only-of-type {\n",
       "        vertical-align: middle;\n",
       "    }\n",
       "\n",
       "    .dataframe tbody tr th {\n",
       "        vertical-align: top;\n",
       "    }\n",
       "\n",
       "    .dataframe thead th {\n",
       "        text-align: right;\n",
       "    }\n",
       "</style>\n",
       "<table border=\"1\" class=\"dataframe\">\n",
       "  <thead>\n",
       "    <tr style=\"text-align: right;\">\n",
       "      <th></th>\n",
       "      <th>Type</th>\n",
       "      <th>Message</th>\n",
       "      <th>encoded</th>\n",
       "    </tr>\n",
       "  </thead>\n",
       "  <tbody>\n",
       "    <tr>\n",
       "      <th>0</th>\n",
       "      <td>Spam</td>\n",
       "      <td>Obtenez des résultats instantanés avec notre p...</td>\n",
       "      <td>1</td>\n",
       "    </tr>\n",
       "    <tr>\n",
       "      <th>1</th>\n",
       "      <td>Non spam</td>\n",
       "      <td>Nous sommes ravis d'annoncer notre nouveau par...</td>\n",
       "      <td>0</td>\n",
       "    </tr>\n",
       "    <tr>\n",
       "      <th>2</th>\n",
       "      <td>Spam</td>\n",
       "      <td>Enrichissez-vous grâce à notre système de trad...</td>\n",
       "      <td>1</td>\n",
       "    </tr>\n",
       "    <tr>\n",
       "      <th>3</th>\n",
       "      <td>Non spam</td>\n",
       "      <td>Bonne nouvelle {{firstname}} ! Notre boutique ...</td>\n",
       "      <td>0</td>\n",
       "    </tr>\n",
       "    <tr>\n",
       "      <th>4</th>\n",
       "      <td>Spam</td>\n",
       "      <td>Obtenez des followers Twitter en masse {{first...</td>\n",
       "      <td>1</td>\n",
       "    </tr>\n",
       "    <tr>\n",
       "      <th>...</th>\n",
       "      <td>...</td>\n",
       "      <td>...</td>\n",
       "      <td>...</td>\n",
       "    </tr>\n",
       "    <tr>\n",
       "      <th>174</th>\n",
       "      <td>ham</td>\n",
       "      <td>Le capitaine est dans notre chambre :)</td>\n",
       "      <td>0</td>\n",
       "    </tr>\n",
       "    <tr>\n",
       "      <th>175</th>\n",
       "      <td>ham</td>\n",
       "      <td>Non, nous vendons tout, donc nous aurons des t...</td>\n",
       "      <td>0</td>\n",
       "    </tr>\n",
       "    <tr>\n",
       "      <th>176</th>\n",
       "      <td>ham</td>\n",
       "      <td>Oh ferme.Hier, j'ai rêvé que j'avais 2 enfants...</td>\n",
       "      <td>0</td>\n",
       "    </tr>\n",
       "    <tr>\n",
       "      <th>177</th>\n",
       "      <td>ham</td>\n",
       "      <td>Ouais, ne va pas te coucher, je reviendrai ava...</td>\n",
       "      <td>0</td>\n",
       "    </tr>\n",
       "    <tr>\n",
       "      <th>178</th>\n",
       "      <td>ham</td>\n",
       "      <td>Ne blâmez jamais une journée dans votre vie.Le...</td>\n",
       "      <td>0</td>\n",
       "    </tr>\n",
       "  </tbody>\n",
       "</table>\n",
       "<p>179 rows × 3 columns</p>\n",
       "</div>"
      ],
      "text/plain": [
       "         Type                                            Message  encoded\n",
       "0        Spam  Obtenez des résultats instantanés avec notre p...        1\n",
       "1    Non spam  Nous sommes ravis d'annoncer notre nouveau par...        0\n",
       "2        Spam  Enrichissez-vous grâce à notre système de trad...        1\n",
       "3    Non spam  Bonne nouvelle {{firstname}} ! Notre boutique ...        0\n",
       "4        Spam  Obtenez des followers Twitter en masse {{first...        1\n",
       "..        ...                                                ...      ...\n",
       "174       ham             Le capitaine est dans notre chambre :)        0\n",
       "175       ham  Non, nous vendons tout, donc nous aurons des t...        0\n",
       "176       ham  Oh ferme.Hier, j'ai rêvé que j'avais 2 enfants...        0\n",
       "177       ham  Ouais, ne va pas te coucher, je reviendrai ava...        0\n",
       "178       ham  Ne blâmez jamais une journée dans votre vie.Le...        0\n",
       "\n",
       "[179 rows x 3 columns]"
      ]
     },
     "execution_count": 340,
     "metadata": {},
     "output_type": "execute_result"
    }
   ],
   "source": [
    "donnees"
   ]
  },
  {
   "cell_type": "code",
   "execution_count": 482,
   "id": "1ccb5c7d",
   "metadata": {},
   "outputs": [
    {
     "data": {
      "text/plain": [
       "0    0.519553\n",
       "1    0.480447\n",
       "Name: encoded, dtype: float64"
      ]
     },
     "execution_count": 482,
     "metadata": {},
     "output_type": "execute_result"
    }
   ],
   "source": [
    "donnees[\"encoded\"].value_counts(normalize=True)\n"
   ]
  },
  {
   "cell_type": "code",
   "execution_count": 341,
   "id": "42a11aeb",
   "metadata": {},
   "outputs": [],
   "source": [
    "donnees['Cleaned_Content'] = donnees['Message'].apply(clean_text)\n"
   ]
  },
  {
   "cell_type": "code",
   "execution_count": 343,
   "id": "0d0d72c3",
   "metadata": {},
   "outputs": [],
   "source": [
    "X=apply_tfidf_vectorization(donnees,\"Cleaned_Content\")"
   ]
  },
  {
   "cell_type": "code",
   "execution_count": 344,
   "id": "127a04c1",
   "metadata": {},
   "outputs": [],
   "source": [
    "y=donnees[\"encoded\"]"
   ]
  },
  {
   "cell_type": "code",
   "execution_count": 386,
   "id": "3d6f81e2",
   "metadata": {},
   "outputs": [
    {
     "data": {
      "text/plain": [
       "({'accuracy': 0.8703703703703703,\n",
       "  'precision': 0.9130434782608695,\n",
       "  'recall': 0.8076923076923077,\n",
       "  'f1-score': 0.8571428571428572},\n",
       " MultinomialNB(alpha=0.5))"
      ]
     },
     "execution_count": 386,
     "metadata": {},
     "output_type": "execute_result"
    }
   ],
   "source": [
    "train_and_evaluate_model_grid(X,y,model_nb_ber,params_nb)"
   ]
  },
  {
   "cell_type": "code",
   "execution_count": 361,
   "id": "513cece3",
   "metadata": {},
   "outputs": [
    {
     "data": {
      "text/plain": [
       "({'accuracy': 0.7592592592592593,\n",
       "  'precision': 0.782608695652174,\n",
       "  'recall': 0.6923076923076923,\n",
       "  'f1-score': 0.7346938775510203},\n",
       " LogisticRegression(C=10.0))"
      ]
     },
     "execution_count": 361,
     "metadata": {},
     "output_type": "execute_result"
    }
   ],
   "source": [
    "train_and_evaluate_model_grid(X,y,model_log,params_logistic)\n"
   ]
  },
  {
   "cell_type": "code",
   "execution_count": 362,
   "id": "e70a9686",
   "metadata": {},
   "outputs": [
    {
     "data": {
      "text/plain": [
       "({'accuracy': 0.7592592592592593,\n",
       "  'precision': 0.8823529411764706,\n",
       "  'recall': 0.5769230769230769,\n",
       "  'f1-score': 0.6976744186046512},\n",
       " SVC(kernel='linear'))"
      ]
     },
     "execution_count": 362,
     "metadata": {},
     "output_type": "execute_result"
    }
   ],
   "source": [
    "train_and_evaluate_model_grid(X,y,model_svm,params_svm )"
   ]
  },
  {
   "cell_type": "code",
   "execution_count": 363,
   "id": "00fb6f92",
   "metadata": {},
   "outputs": [
    {
     "data": {
      "text/plain": [
       "({'accuracy': 0.7592592592592593,\n",
       "  'precision': 0.7096774193548387,\n",
       "  'recall': 0.8461538461538461,\n",
       "  'f1-score': 0.7719298245614036},\n",
       " KNeighborsClassifier())"
      ]
     },
     "execution_count": 363,
     "metadata": {},
     "output_type": "execute_result"
    }
   ],
   "source": [
    "train_and_evaluate_model_grid(X,y,model_knn,params_knn)\n"
   ]
  },
  {
   "cell_type": "code",
   "execution_count": 364,
   "id": "2d4824c9",
   "metadata": {},
   "outputs": [
    {
     "data": {
      "text/plain": [
       "({'accuracy': 0.6666666666666666,\n",
       "  'precision': 0.8333333333333334,\n",
       "  'recall': 0.38461538461538464,\n",
       "  'f1-score': 0.5263157894736842},\n",
       " RandomForestClassifier(n_estimators=300))"
      ]
     },
     "execution_count": 364,
     "metadata": {},
     "output_type": "execute_result"
    }
   ],
   "source": [
    "train_and_evaluate_model_grid(X,y,model_rf,params_random)\n"
   ]
  },
  {
   "cell_type": "markdown",
   "id": "5a92d722",
   "metadata": {},
   "source": [
    "#  Model Final"
   ]
  },
  {
   "cell_type": "code",
   "execution_count": 440,
   "id": "e465890c",
   "metadata": {},
   "outputs": [
    {
     "data": {
      "text/plain": [
       "Index(['000', '061104', '0709983605', '07808247860', '0800', '08000839402',\n",
       "       '08000938767', '08002986906', '0808', '0825',\n",
       "       ...\n",
       "       'www4tcbiz', 'wwwcomuknet', 'wwwdbuknet', 'wwwrtfsphostingcom', 'xx',\n",
       "       'xxx', 'youtube', 'yr', 'yup', 'zogtoriusjai'],\n",
       "      dtype='object', length=1232)"
      ]
     },
     "execution_count": 440,
     "metadata": {},
     "output_type": "execute_result"
    }
   ],
   "source": [
    "X.columns"
   ]
  },
  {
   "cell_type": "code",
   "execution_count": 408,
   "id": "7d8715c2",
   "metadata": {},
   "outputs": [
    {
     "data": {
      "text/plain": [
       "0      1\n",
       "1      0\n",
       "2      1\n",
       "3      0\n",
       "4      1\n",
       "      ..\n",
       "174    0\n",
       "175    0\n",
       "176    0\n",
       "177    0\n",
       "178    0\n",
       "Name: encoded, Length: 179, dtype: int32"
      ]
     },
     "execution_count": 408,
     "metadata": {},
     "output_type": "execute_result"
    }
   ],
   "source": [
    "y"
   ]
  },
  {
   "cell_type": "code",
   "execution_count": 421,
   "id": "d6c47e43",
   "metadata": {},
   "outputs": [
    {
     "name": "stdout",
     "output_type": "stream",
     "text": [
      "MultinomialNB(alpha=0.1)\n"
     ]
    },
    {
     "data": {
      "text/plain": [
       "['C:\\\\Users\\\\awa29\\\\OneDrive\\\\Bureau\\\\Stage NLP\\\\modele.joblib']"
      ]
     },
     "execution_count": 421,
     "metadata": {},
     "output_type": "execute_result"
    }
   ],
   "source": [
    "from sklearn.model_selection import train_test_split\n",
    "from sklearn.naive_bayes import MultinomialNB\n",
    "from sklearn.metrics import classification_report, confusion_matrix\n",
    "import seaborn as sns\n",
    "\n",
    "X_train, X_test, y_train, y_test = train_test_split(X, y, test_size=0.20, stratify=y)\n",
    "\n",
    "params_nb = {'alpha': [0.1, 0.5, 1.0]}\n",
    "model= MultinomialNB()\n",
    "\n",
    "grid_search = GridSearchCV(model, params_nb, cv=10)\n",
    "grid_search.fit(X_train, y_train)\n",
    "\n",
    "best_model = grid_search.best_estimator_\n",
    "print(best_model)\n",
    "\n"
   ]
  },
  {
   "cell_type": "code",
   "execution_count": 443,
   "id": "4889264f",
   "metadata": {},
   "outputs": [
    {
     "data": {
      "text/plain": [
       "['C:\\\\Users\\\\awa29\\\\OneDrive\\\\Bureau\\\\Stage NLP\\\\modele.joblib']"
      ]
     },
     "execution_count": 443,
     "metadata": {},
     "output_type": "execute_result"
    }
   ],
   "source": [
    "# Sauvegarder le modèle dans un fichier\n",
    "dump(best_model, r\"C:\\Users\\awa29\\OneDrive\\Bureau\\Stage NLP\\modele.joblib\")"
   ]
  },
  {
   "cell_type": "code",
   "execution_count": 422,
   "id": "7b1ccc1c",
   "metadata": {},
   "outputs": [
    {
     "name": "stdout",
     "output_type": "stream",
     "text": [
      "Accuracy: 0.8888888888888888\n",
      "Precision: 0.9333333333333333\n",
      "Recall: 0.8235294117647058\n",
      "F1-Score: 0.8749999999999999\n"
     ]
    }
   ],
   "source": [
    "# Calculer les mesures de performances\n",
    "y_pred = best_model.predict(X_test)\n",
    "\n",
    "# Calculate accuracy\n",
    "accuracy = accuracy_score(y_test, y_pred)\n",
    "print(\"Accuracy:\", accuracy)\n",
    "\n",
    "# Calculate precision\n",
    "precision = precision_score(y_test, y_pred)\n",
    "print(\"Precision:\", precision)\n",
    "\n",
    "# Calculate recall\n",
    "recall = recall_score(y_test, y_pred)\n",
    "print(\"Recall:\", recall)\n",
    "\n",
    "# Calculate F1-score\n",
    "f1 = f1_score(y_test, y_pred)\n",
    "print(\"F1-Score:\", f1)\n",
    "\n",
    "\n"
   ]
  },
  {
   "cell_type": "code",
   "execution_count": 423,
   "id": "3f076925",
   "metadata": {},
   "outputs": [
    {
     "name": "stdout",
     "output_type": "stream",
     "text": [
      "              precision    recall  f1-score   support\n",
      "\n",
      "           0       0.86      0.95      0.90        19\n",
      "           1       0.93      0.82      0.87        17\n",
      "\n",
      "    accuracy                           0.89        36\n",
      "   macro avg       0.90      0.89      0.89        36\n",
      "weighted avg       0.89      0.89      0.89        36\n",
      "\n"
     ]
    },
    {
     "data": {
      "image/png": "[encoded data removed]",
      "text/plain": [
       "<Figure size 576x432 with 2 Axes>"
      ]
     },
     "metadata": {
      "needs_background": "light"
     },
     "output_type": "display_data"
    }
   ],
   "source": [
    "print(classification_report(y_test, y_pred))\n",
    "\n",
    "confusion_mat = confusion_matrix(y_test, y_pred)\n",
    "\n",
    "plt.figure(figsize=(8, 6))\n",
    "sns.heatmap(confusion_mat, annot=True, cmap=\"Blues\", fmt=\"d\")\n",
    "plt.title(\"Matrice de Confusion\")\n",
    "plt.xlabel(\"Prédictions\")\n",
    "plt.ylabel(\"Valeurs Réelles\")\n",
    "plt.show()"
   ]
  },
  {
   "cell_type": "code",
   "execution_count": 44,
   "id": "4cdf5d02",
   "metadata": {},
   "outputs": [
    {
     "name": "stdout",
     "output_type": "stream",
     "text": [
      "Requirement already satisfied: pika in c:\\users\\awa29\\anaconda3\\lib\\site-packages (1.3.2)\n"
     ]
    }
   ],
   "source": [
    "#!pip install pika\n"
   ]
  },
  {
   "cell_type": "code",
   "execution_count": 387,
   "id": "e1c9203a",
   "metadata": {},
   "outputs": [],
   "source": [
    "from joblib import load\n",
    "import pika\n"
   ]
  },
  {
   "cell_type": "code",
   "execution_count": 466,
   "id": "613b351b",
   "metadata": {},
   "outputs": [],
   "source": [
    "model= load(r\"C:\\Users\\awa29\\OneDrive\\Bureau\\Stage NLP\\modele.joblib\")\n",
    "\n",
    "vectorizer = TfidfVectorizer(min_df=1)\n",
    "\n",
    "# Appliquer la vectorisation TF-IDF sur la colonne de texte donnée\n",
    "vectorizer.fit_transform(donnees[\"Cleaned_Content\"])\n",
    "\n",
    "def test(text):\n",
    "    cleaned_text = clean_text(text)\n",
    "    vectorized_text = vectorizer.transform([cleaned_text])\n",
    "    result = best_model.predict(vectorized_text)\n",
    "    return result\n",
    "\n",
    "\n"
   ]
  },
  {
   "cell_type": "code",
   "execution_count": null,
   "id": "2cba2ac6",
   "metadata": {},
   "outputs": [],
   "source": []
  },
  {
   "cell_type": "code",
   "execution_count": null,
   "id": "97347134",
   "metadata": {},
   "outputs": [],
   "source": []
  },
  {
   "cell_type": "code",
   "execution_count": 476,
   "id": "cd45f946",
   "metadata": {},
   "outputs": [],
   "source": [
    "text1= \"Salut {{firstname}}, Je suppose que vous êtes trop occupé pour regarder cela en ce moment? \"\n",
    "text2 = \"Obtenez maintenant des produits de santé gratuits ! Réclamez votre récompense en cliquant sur le lien ci-dessous : http://example.com\"\n",
    "text3=\"Enrichissez-vous grâce à notre système de trading automatique, {{civility}} {{firstName}} {{lastName}}. Pas besoin d'expérience préalable, laissez notre logiciel générer des revenus passifs pour vous.\""
   ]
  },
  {
   "cell_type": "code",
   "execution_count": 477,
   "id": "b3c4b7dc",
   "metadata": {},
   "outputs": [
    {
     "data": {
      "text/plain": [
       "array([0])"
      ]
     },
     "execution_count": 477,
     "metadata": {},
     "output_type": "execute_result"
    }
   ],
   "source": [
    "test(text1)\n"
   ]
  },
  {
   "cell_type": "code",
   "execution_count": 478,
   "id": "241dac18",
   "metadata": {},
   "outputs": [
    {
     "data": {
      "text/plain": [
       "array([1])"
      ]
     },
     "execution_count": 478,
     "metadata": {},
     "output_type": "execute_result"
    }
   ],
   "source": [
    "test(text2)\n"
   ]
  },
  {
   "cell_type": "code",
   "execution_count": 479,
   "id": "c1d9e085",
   "metadata": {},
   "outputs": [
    {
     "data": {
      "text/plain": [
       "array([1])"
      ]
     },
     "execution_count": 479,
     "metadata": {},
     "output_type": "execute_result"
    }
   ],
   "source": [
    "test(text2)\n"
   ]
  },
  {
   "cell_type": "markdown",
   "id": "a86d5f2a",
   "metadata": {},
   "source": [
    "Array[0] qui signifie que le text est considéré  **Non Spam**\n",
    "\n",
    "Array[1] qui signifie que le text est considéré  **Spam**\n"
   ]
  },
  {
   "cell_type": "code",
   "execution_count": null,
   "id": "e2b203b0",
   "metadata": {},
   "outputs": [],
   "source": []
  },
  {
   "cell_type": "code",
   "execution_count": null,
   "id": "cb445e4c",
   "metadata": {},
   "outputs": [
    {
     "name": "stderr",
     "output_type": "stream",
     "text": [
      "C:\\Users\\awa29\\anaconda3\\lib\\site-packages\\sklearn\\base.py:450: UserWarning: X does not have valid feature names, but MultinomialNB was fitted with feature names\n",
      "  warnings.warn(\n"
     ]
    },
    {
     "name": "stdout",
     "output_type": "stream",
     "text": [
      "Message identifié comme un spam : Bonjour,\n",
      "Confirmez votre adresse email en cliquant sur le lien suivant :je confirme mon email.Le lien expire dans 1 heure\n",
      "\n",
      " None\n",
      "Message identifié comme un spam : Bonjour,\n",
      "Confirmez votre adresse email en cliquant sur le lien suivant :je confirme mon email.Le lien expire dans 1 heure\n",
      "\n",
      " None\n"
     ]
    }
   ],
   "source": [
    "def process_message(channel, method, properties, body):\n",
    "    message = body.decode('utf-8')\n",
    "\n",
    "    # Récupérer le statut du message depuis les propriétés\n",
    "   # status = properties.headers.get('statut')\n",
    "\n",
    "    # Récupérer l'IDE depuis les propriétés\n",
    "    ide = properties.headers.get('IDE')\n",
    "\n",
    "    # Effectuer la prédiction avec le modèle\n",
    "    result = test(message)\n",
    "\n",
    "    # Prendre des mesures en fonction du résultat\n",
    "    if result==1:\n",
    "        # Message identifié comme un spam\n",
    "        print(\"Message identifié comme un spam :\", message,ide)\n",
    "        \n",
    "    else:\n",
    "        # Message non-spam\n",
    "        print(\"Message non-spam :\", message,ide )\n",
    "\n",
    "    # Indiquer à RabbitMQ que le message a été traité\n",
    "    channel.basic_ack(delivery_tag=method.delivery_tag)\n",
    "\n",
    "# Établir la connexion avec RabbitMQ\n",
    "credentials = pika.PlainCredentials('guest', 'guest')\n",
    "parameters = pika.ConnectionParameters('127.0.0.1',\n",
    "                                   5672,\n",
    "                                   '/',\n",
    "                                   credentials)\n",
    "connection = pika.BlockingConnection(parameters)\n",
    "\n",
    "channel = connection.channel()\n",
    "\n",
    "# Déclarer la file d'attente à consommer\n",
    "channel.queue_declare(queue='tech.message.queuesanalyses', durable=True)\n",
    "\n",
    "# Définir la fonction de rappel pour le traitement des messages\n",
    "channel.basic_consume(queue='tech.message.queuesanalyses', on_message_callback=process_message)\n",
    "\n",
    "# Démarrer la consommation des messages\n",
    "channel.start_consuming()\n"
   ]
  },
  {
   "cell_type": "code",
   "execution_count": null,
   "id": "8c899cdf",
   "metadata": {},
   "outputs": [],
   "source": []
  },
  {
   "cell_type": "code",
   "execution_count": null,
   "id": "18306e16",
   "metadata": {},
   "outputs": [],
   "source": [
    "#!pip install flask\n"
   ]
  },
  {
   "cell_type": "code",
   "execution_count": 58,
   "id": "f3ddface",
   "metadata": {},
   "outputs": [],
   "source": [
    "from flask import Flask, request, jsonify\n"
   ]
  },
  {
   "cell_type": "code",
   "execution_count": 60,
   "id": "40bb7277",
   "metadata": {},
   "outputs": [],
   "source": []
  },
  {
   "cell_type": "code",
   "execution_count": null,
   "id": "373a22dd",
   "metadata": {},
   "outputs": [],
   "source": []
  },
  {
   "cell_type": "code",
   "execution_count": null,
   "id": "d7324840",
   "metadata": {},
   "outputs": [],
   "source": []
  }
 ],
 "metadata": {
  "kernelspec": {
   "display_name": "Python 3 (ipykernel)",
   "language": "python",
   "name": "python3"
  },
  "language_info": {
   "codemirror_mode": {
    "name": "ipython",
    "version": 3
   },
   "file_extension": ".py",
   "mimetype": "text/x-python",
   "name": "python",
   "nbconvert_exporter": "python",
   "pygments_lexer": "ipython3",
   "version": "3.9.12"
  }
 },
 "nbformat": 4,
 "nbformat_minor": 5
}
