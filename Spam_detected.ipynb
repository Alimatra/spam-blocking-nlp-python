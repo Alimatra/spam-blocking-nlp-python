{
 "cells": [
  {
   "cell_type": "code",
   "execution_count": 1,
   "id": "3a594e6a",
   "metadata": {},
   "outputs": [],
   "source": [
    "import pandas as pd\n",
    "import matplotlib.pyplot as plt\n",
    "import csv\n",
    "import re\n",
    "import nltk\n",
    "from nltk.corpus import stopwords\n",
    "from nltk.stem import WordNetLemmatizer\n",
    "from sklearn.model_selection import train_test_split\n",
    "from sklearn.metrics import accuracy_score, classification_report, confusion_matrix\n",
    "from sklearn.svm import SVC\n",
    "from sklearn.ensemble import RandomForestClassifier\n",
    "from sklearn.linear_model import LogisticRegression\n",
    "from sklearn.naive_bayes import GaussianNB\n",
    "from sklearn.neighbors import KNeighborsClassifier\n",
    "from sklearn.model_selection import RandomizedSearchCV\n",
    "\n"
   ]
  },
  {
   "cell_type": "code",
   "execution_count": 2,
   "id": "05cb1bad",
   "metadata": {},
   "outputs": [
    {
     "name": "stderr",
     "output_type": "stream",
     "text": [
      "[nltk_data] Error loading wordnet: <urlopen error [WinError 10060] A\n",
      "[nltk_data]     connection attempt failed because the connected party\n",
      "[nltk_data]     did not properly respond after a period of time, or\n",
      "[nltk_data]     established connection failed because connected host\n",
      "[nltk_data]     has failed to respond>\n",
      "[nltk_data] Error loading punkt: <urlopen error [WinError 10060] A\n",
      "[nltk_data]     connection attempt failed because the connected party\n",
      "[nltk_data]     did not properly respond after a period of time, or\n",
      "[nltk_data]     established connection failed because connected host\n",
      "[nltk_data]     has failed to respond>\n",
      "[nltk_data] Error loading stopwords: <urlopen error [WinError 10060] A\n",
      "[nltk_data]     connection attempt failed because the connected party\n",
      "[nltk_data]     did not properly respond after a period of time, or\n",
      "[nltk_data]     established connection failed because connected host\n",
      "[nltk_data]     has failed to respond>\n",
      "[nltk_data] Error loading averaged_perceptron_tagger: <urlopen error\n",
      "[nltk_data]     [WinError 10060] A connection attempt failed because\n",
      "[nltk_data]     the connected party did not properly respond after a\n",
      "[nltk_data]     period of time, or established connection failed\n",
      "[nltk_data]     because connected host has failed to respond>\n"
     ]
    },
    {
     "data": {
      "text/plain": [
       "False"
      ]
     },
     "execution_count": 2,
     "metadata": {},
     "output_type": "execute_result"
    }
   ],
   "source": [
    "nltk.download('wordnet')\n",
    "nltk.download('punkt')\n",
    "nltk.download('stopwords')\n",
    "nltk.download('averaged_perceptron_tagger')  # Télécharger les ressources nécessaires pour l'étiquetage grammatical\n"
   ]
  },
  {
   "cell_type": "markdown",
   "id": "92b13866",
   "metadata": {},
   "source": [
    "# I-Collecte de données \n",
    "\n"
   ]
  },
  {
   "cell_type": "markdown",
   "id": "aab86a9e",
   "metadata": {},
   "source": [
    "Dans cette étape, nous avons collecter un ensemble de données étiquetées qui contiennent à la fois des exemples de messages spam et des exemples de messages non spam à travers des applications comme : \n",
    "\n",
    "     -twilio\n",
    "     -lemlist\n",
    "     -waalaxy\n",
    "     -mailchimp\n",
    "     -brevo\n",
    "  \n",
    "  \n",
    "Puis on a stocké ces données dans un fichier csv"
   ]
  },
  {
   "cell_type": "code",
   "execution_count": 3,
   "id": "6e156715",
   "metadata": {},
   "outputs": [
    {
     "name": "stdout",
     "output_type": "stream",
     "text": [
      "Fichier CSV créé avec succès.\n"
     ]
    }
   ],
   "source": [
    "import csv\n",
    "import random\n",
    "\n",
    "fichier_texte = r\"C:\\Users\\awa29\\OneDrive\\Bureau\\Stage NLP\\message.txt\"\n",
    "fichier_csv = r\"C:\\Users\\awa29\\OneDrive\\Bureau\\Stage NLP\\message.csv\"\n",
    "\n",
    "# Lire le fichier texte\n",
    "with open(fichier_texte, 'r', encoding='utf-8-sig') as file:\n",
    "    lines = file.readlines()\n",
    "\n",
    "\n",
    "with open(fichier_csv, 'w', newline='', encoding='utf-8-sig') as file:\n",
    "    writer = csv.writer(file)\n",
    "\n",
    "    # Écrire l'en-tête du fichier CSV\n",
    "    writer.writerow([\"Message\", \"Type\"])\n",
    "\n",
    "    for line in lines:\n",
    "        # Vérifier si la ligne contient un point-virgule\n",
    "        if ';' in line:\n",
    "            # Séparer le message et le type en utilisant un point-virgule comme séparateur\n",
    "            message, typ = line.strip().split(';', maxsplit=1)\n",
    "\n",
    "            # Écrire le message et le type dans le fichier CSV\n",
    "            writer.writerow([message, typ])\n",
    "\n",
    "print(\"Fichier CSV créé avec succès.\")\n"
   ]
  },
  {
   "cell_type": "code",
   "execution_count": 4,
   "id": "0e0d5b1b",
   "metadata": {},
   "outputs": [],
   "source": [
    "import pandas as pd\n",
    "\n",
    "csv_file_path = r\"C:\\Users\\awa29\\OneDrive\\Bureau\\Stage NLP\\message.csv\"\n",
    "\n",
    "df = pd.read_csv(csv_file_path)\n",
    "\n",
    "df = df.sample(frac=1).reset_index(drop=True)\n",
    "\n",
    "\n"
   ]
  },
  {
   "cell_type": "code",
   "execution_count": 5,
   "id": "b89ccf93",
   "metadata": {},
   "outputs": [
    {
     "data": {
      "text/html": [
       "<div>\n",
       "<style scoped>\n",
       "    .dataframe tbody tr th:only-of-type {\n",
       "        vertical-align: middle;\n",
       "    }\n",
       "\n",
       "    .dataframe tbody tr th {\n",
       "        vertical-align: top;\n",
       "    }\n",
       "\n",
       "    .dataframe thead th {\n",
       "        text-align: right;\n",
       "    }\n",
       "</style>\n",
       "<table border=\"1\" class=\"dataframe\">\n",
       "  <thead>\n",
       "    <tr style=\"text-align: right;\">\n",
       "      <th></th>\n",
       "      <th>Message</th>\n",
       "      <th>Type</th>\n",
       "    </tr>\n",
       "  </thead>\n",
       "  <tbody>\n",
       "    <tr>\n",
       "      <th>0</th>\n",
       "      <td>URGENT : Gagnez de l'argent rapidement et faci...</td>\n",
       "      <td>Spam</td>\n",
       "    </tr>\n",
       "    <tr>\n",
       "      <th>1</th>\n",
       "      <td>Ne vous inquiétez pas, je ne partagerai vos ré...</td>\n",
       "      <td>Spam</td>\n",
       "    </tr>\n",
       "    <tr>\n",
       "      <th>2</th>\n",
       "      <td>Cher {{firstname}} : Malheureusement, votre ré...</td>\n",
       "      <td>Non spam</td>\n",
       "    </tr>\n",
       "    <tr>\n",
       "      <th>3</th>\n",
       "      <td>Cher(e) {{civility}} {{lastName}}, ceci est un...</td>\n",
       "      <td>Non spam</td>\n",
       "    </tr>\n",
       "    <tr>\n",
       "      <th>4</th>\n",
       "      <td>Obtenez des résultats instantanés avec notre p...</td>\n",
       "      <td>Spam</td>\n",
       "    </tr>\n",
       "    <tr>\n",
       "      <th>5</th>\n",
       "      <td>À la recherche de nouvelles opportunités profe...</td>\n",
       "      <td>Non spam</td>\n",
       "    </tr>\n",
       "    <tr>\n",
       "      <th>6</th>\n",
       "      <td>Félicitations ! Vous avez gagné un prix incroy...</td>\n",
       "      <td>Spam</td>\n",
       "    </tr>\n",
       "    <tr>\n",
       "      <th>7</th>\n",
       "      <td>Poste vacant : {{other}}. Envoyez votre CV à {...</td>\n",
       "      <td>Non spam</td>\n",
       "    </tr>\n",
       "    <tr>\n",
       "      <th>8</th>\n",
       "      <td>En tant qu'abonné(e) privilégié(e), {{firstNam...</td>\n",
       "      <td>Non spam</td>\n",
       "    </tr>\n",
       "    <tr>\n",
       "      <th>9</th>\n",
       "      <td>Répondez à ce sondage et gagnez un voyage grat...</td>\n",
       "      <td>Spam</td>\n",
       "    </tr>\n",
       "  </tbody>\n",
       "</table>\n",
       "</div>"
      ],
      "text/plain": [
       "                                             Message      Type\n",
       "0  URGENT : Gagnez de l'argent rapidement et faci...      Spam\n",
       "1  Ne vous inquiétez pas, je ne partagerai vos ré...      Spam\n",
       "2  Cher {{firstname}} : Malheureusement, votre ré...  Non spam\n",
       "3  Cher(e) {{civility}} {{lastName}}, ceci est un...  Non spam\n",
       "4  Obtenez des résultats instantanés avec notre p...      Spam\n",
       "5  À la recherche de nouvelles opportunités profe...  Non spam\n",
       "6  Félicitations ! Vous avez gagné un prix incroy...      Spam\n",
       "7  Poste vacant : {{other}}. Envoyez votre CV à {...  Non spam\n",
       "8  En tant qu'abonné(e) privilégié(e), {{firstNam...  Non spam\n",
       "9  Répondez à ce sondage et gagnez un voyage grat...      Spam"
      ]
     },
     "execution_count": 5,
     "metadata": {},
     "output_type": "execute_result"
    }
   ],
   "source": [
    "df.iloc[0:10, :]\n",
    "\n"
   ]
  },
  {
   "cell_type": "code",
   "execution_count": 6,
   "id": "a4d8d5f8",
   "metadata": {},
   "outputs": [
    {
     "data": {
      "text/plain": [
       "0     URGENT : Gagnez de l'argent rapidement et faci...\n",
       "1     Ne vous inquiétez pas, je ne partagerai vos ré...\n",
       "2     Cher {{firstname}} : Malheureusement, votre ré...\n",
       "3     Cher(e) {{civility}} {{lastName}}, ceci est un...\n",
       "4     Obtenez des résultats instantanés avec notre p...\n",
       "                            ...                        \n",
       "74    Gagnez de l'argent en ligne avec notre système...\n",
       "75    Promotion du jour : {{other}} à {{other}}. Fai...\n",
       "76    Obtenez des milliers de followers et likes sur...\n",
       "77    Appartement à vendre ! Ne manquez pas cette op...\n",
       "78    Cher(e) {{civility}} {{lastName}}, veuillez no...\n",
       "Name: Message, Length: 79, dtype: object"
      ]
     },
     "execution_count": 6,
     "metadata": {},
     "output_type": "execute_result"
    }
   ],
   "source": [
    "df[\"Message\"]"
   ]
  },
  {
   "cell_type": "code",
   "execution_count": null,
   "id": "2ceeadf3",
   "metadata": {},
   "outputs": [],
   "source": []
  },
  {
   "cell_type": "code",
   "execution_count": 7,
   "id": "4dd60dc3",
   "metadata": {},
   "outputs": [
    {
     "name": "stdout",
     "output_type": "stream",
     "text": [
      "Promotion du jour : {{other}} à {{other}}. Faites vite, cette offre se termine ce soir. Commandez dès maintenant : {{link}}.\n"
     ]
    }
   ],
   "source": [
    "message_value = df.loc[75, \"Message\"]\n",
    "print(message_value)\n"
   ]
  },
  {
   "cell_type": "markdown",
   "id": "d1f679d1",
   "metadata": {},
   "source": [
    "# II-Analyse Descriptive"
   ]
  },
  {
   "cell_type": "code",
   "execution_count": 8,
   "id": "1506078f",
   "metadata": {},
   "outputs": [
    {
     "data": {
      "text/html": [
       "<div>\n",
       "<style scoped>\n",
       "    .dataframe tbody tr th:only-of-type {\n",
       "        vertical-align: middle;\n",
       "    }\n",
       "\n",
       "    .dataframe tbody tr th {\n",
       "        vertical-align: top;\n",
       "    }\n",
       "\n",
       "    .dataframe thead th {\n",
       "        text-align: right;\n",
       "    }\n",
       "</style>\n",
       "<table border=\"1\" class=\"dataframe\">\n",
       "  <thead>\n",
       "    <tr style=\"text-align: right;\">\n",
       "      <th></th>\n",
       "      <th>Message</th>\n",
       "      <th>Type</th>\n",
       "    </tr>\n",
       "  </thead>\n",
       "  <tbody>\n",
       "    <tr>\n",
       "      <th>count</th>\n",
       "      <td>79</td>\n",
       "      <td>79</td>\n",
       "    </tr>\n",
       "    <tr>\n",
       "      <th>unique</th>\n",
       "      <td>79</td>\n",
       "      <td>2</td>\n",
       "    </tr>\n",
       "    <tr>\n",
       "      <th>top</th>\n",
       "      <td>URGENT : Gagnez de l'argent rapidement et faci...</td>\n",
       "      <td>Non spam</td>\n",
       "    </tr>\n",
       "    <tr>\n",
       "      <th>freq</th>\n",
       "      <td>1</td>\n",
       "      <td>43</td>\n",
       "    </tr>\n",
       "  </tbody>\n",
       "</table>\n",
       "</div>"
      ],
      "text/plain": [
       "                                                  Message      Type\n",
       "count                                                  79        79\n",
       "unique                                                 79         2\n",
       "top     URGENT : Gagnez de l'argent rapidement et faci...  Non spam\n",
       "freq                                                    1        43"
      ]
     },
     "execution_count": 8,
     "metadata": {},
     "output_type": "execute_result"
    }
   ],
   "source": [
    "summary_stats = df.describe()\n",
    "summary_stats\n"
   ]
  },
  {
   "cell_type": "code",
   "execution_count": null,
   "id": "e9a7d403",
   "metadata": {},
   "outputs": [],
   "source": []
  },
  {
   "cell_type": "markdown",
   "id": "73843a0b",
   "metadata": {},
   "source": [
    " "
   ]
  },
  {
   "cell_type": "code",
   "execution_count": 9,
   "id": "06dc48fb",
   "metadata": {},
   "outputs": [
    {
     "name": "stdout",
     "output_type": "stream",
     "text": [
      "Non spam    54.43038\n",
      "Spam        45.56962\n",
      "Name: Type, dtype: float64\n"
     ]
    }
   ],
   "source": [
    "type_email_counts = df['Type'].value_counts()\n",
    "total_emails = len(df['Type'])\n",
    "pourcentages = (type_email_counts / total_emails) * 100\n",
    "\n",
    "print(pourcentages)\n"
   ]
  },
  {
   "cell_type": "code",
   "execution_count": 10,
   "id": "2c90fc6d",
   "metadata": {},
   "outputs": [
    {
     "data": {
      "image/png": "[encoded data removed]",
      "text/plain": [
       "<Figure size 432x288 with 1 Axes>"
      ]
     },
     "metadata": {
      "needs_background": "light"
     },
     "output_type": "display_data"
    }
   ],
   "source": [
    "type_email_counts.plot(kind='bar')\n",
    "plt.xlabel(\"Type d'e-mail\")\n",
    "plt.ylabel(\"Fréquence\")\n",
    "plt.title(\"Distribution des types d'e-mail\")\n",
    "plt.show()\n",
    "\n"
   ]
  },
  {
   "cell_type": "markdown",
   "id": "8f6a76cd",
   "metadata": {},
   "source": [
    "On a une équilibre entre les exemples de spam et de non spam dans notre ensemble de données pour éviter tout biais dans l'apprentissage du modèle."
   ]
  },
  {
   "cell_type": "code",
   "execution_count": null,
   "id": "fb2c24f8",
   "metadata": {},
   "outputs": [],
   "source": []
  },
  {
   "cell_type": "code",
   "execution_count": 11,
   "id": "2b22c723",
   "metadata": {},
   "outputs": [
    {
     "data": {
      "image/png": "[encoded data removed]",
      "text/plain": [
       "<Figure size 432x288 with 1 Axes>"
      ]
     },
     "metadata": {
      "needs_background": "light"
     },
     "output_type": "display_data"
    }
   ],
   "source": [
    "# Calculer les longueurs des textes d'e-mails\n",
    "df[\"Longueur du texte\"] = df[\"Message\"].apply(lambda x: len(x))\n",
    "\n",
    "# Créer l'histogramme\n",
    "df[\"Longueur du texte\"].hist(bins=20)\n",
    "plt.xlabel(\"Longueur du texte\")\n",
    "plt.ylabel(\"Fréquence\")\n",
    "plt.title(\"Histogramme des longueurs de texte des e-mails\")\n",
    "plt.show()\n"
   ]
  },
  {
   "cell_type": "code",
   "execution_count": 12,
   "id": "5b567a46",
   "metadata": {},
   "outputs": [],
   "source": [
    "#!pip install textblob"
   ]
  },
  {
   "cell_type": "code",
   "execution_count": 13,
   "id": "d86a7f8c",
   "metadata": {},
   "outputs": [],
   "source": [
    "from textblob import TextBlob\n",
    "\n"
   ]
  },
  {
   "cell_type": "code",
   "execution_count": 14,
   "id": "9be44598",
   "metadata": {},
   "outputs": [
    {
     "name": "stdout",
     "output_type": "stream",
     "text": [
      "                                              Message  Polarité  Subjectivité\n",
      "0   URGENT : Gagnez de l'argent rapidement et faci...    0.0000      0.000000\n",
      "1   Ne vous inquiétez pas, je ne partagerai vos ré...    0.0000      0.000000\n",
      "2   Cher {{firstname}} : Malheureusement, votre ré...    0.0000      0.000000\n",
      "3   Cher(e) {{civility}} {{lastName}}, ceci est un...    0.0000      0.000000\n",
      "4   Obtenez des résultats instantanés avec notre p...    0.0000      0.000000\n",
      "..                                                ...       ...           ...\n",
      "74  Gagnez de l'argent en ligne avec notre système...    0.0000      0.000000\n",
      "75  Promotion du jour : {{other}} à {{other}}. Fai...   -0.4375      0.687500\n",
      "76  Obtenez des milliers de followers et likes sur...    0.0000      0.666667\n",
      "77  Appartement à vendre ! Ne manquez pas cette op...   -0.1250      0.375000\n",
      "78  Cher(e) {{civility}} {{lastName}}, veuillez no...   -0.4375      0.687500\n",
      "\n",
      "[79 rows x 3 columns]\n"
     ]
    }
   ],
   "source": [
    "# Créer une nouvelle colonne pour la polarité et la subjectivité\n",
    "df['Polarité'] = 0.0\n",
    "df['Subjectivité'] = 0.0\n",
    "\n",
    "# Appliquer l'analyse de sentiment à chaque texte d'e-mail\n",
    "for i, row in df.iterrows():\n",
    "    text = row['Message']\n",
    "    blob = TextBlob(text)\n",
    "    polarité = blob.sentiment.polarity\n",
    "    subjectivité = blob.sentiment.subjectivity\n",
    "    df.at[i, 'Polarité'] = polarité\n",
    "    df.at[i, 'Subjectivité'] = subjectivité\n",
    "\n",
    "print(df[['Message', 'Polarité', 'Subjectivité']])\n"
   ]
  },
  {
   "cell_type": "markdown",
   "id": "82a0054e",
   "metadata": {},
   "source": [
    " Polarité » : La colonne « Polarité » représente la polarité du sentiment associé à chaque e-mail. La polarité est généralement mesurée sur une échelle continue, allant de -1 à 1. Une valeur proche de -1 indique un sentiment négatif, une valeur proche de 1 indique un sentiment positif, et une valeur proche de 0 indique un sentiment neutre.\n",
    "« Subjectivité » : La colonne « Subjectivité » représente le degré de subjectivité du contenu de chaque e-mail. La subjectivité est également mesurée sur une échelle continue, allant de 0 à 1. Une valeur proche de 0 indique un contenu objectif, basé sur des faits ou des informations générales, tandis qu’une valeur proche de 1 indique un contenu subjectif, basé sur des opinions ou des émotions personnelles."
   ]
  },
  {
   "cell_type": "code",
   "execution_count": 15,
   "id": "893c095e",
   "metadata": {},
   "outputs": [
    {
     "data": {
      "image/png": "[encoded data removed]",
      "text/plain": [
       "<Figure size 432x288 with 1 Axes>"
      ]
     },
     "metadata": {
      "needs_background": "light"
     },
     "output_type": "display_data"
    },
    {
     "data": {
      "image/png": "[encoded data removed]",
      "text/plain": [
       "<Figure size 432x288 with 1 Axes>"
      ]
     },
     "metadata": {
      "needs_background": "light"
     },
     "output_type": "display_data"
    }
   ],
   "source": [
    "import matplotlib.pyplot as plt\n",
    "\n",
    "# Créer un histogramme de la polarité des e-mails\n",
    "plt.hist(df['Polarité'], bins=10, edgecolor='black')\n",
    "plt.xlabel('Polarité')\n",
    "plt.ylabel('Fréquence')\n",
    "plt.title('Distribution de la polarité des e-mails')\n",
    "plt.show()\n",
    "\n",
    "# Créer un histogramme de la subjectivité des e-mails\n",
    "plt.hist(df['Subjectivité'], bins=10, edgecolor='black')\n",
    "plt.xlabel('Subjectivité')\n",
    "plt.ylabel('Fréquence')\n",
    "plt.title('Distribution de la subjectivité des e-mails')\n",
    "plt.show()\n"
   ]
  },
  {
   "cell_type": "code",
   "execution_count": 16,
   "id": "91905cc2",
   "metadata": {},
   "outputs": [
    {
     "data": {
      "image/png": "[encoded data removed]",
      "text/plain": [
       "<Figure size 432x288 with 1 Axes>"
      ]
     },
     "metadata": {
      "needs_background": "light"
     },
     "output_type": "display_data"
    }
   ],
   "source": [
    "# Compter les occurrences de chaque sentiment\n",
    "sentiment_counts = df['Polarité'].apply(lambda x: 'Positif' if x > 0 else ('Négatif' if x < 0 else 'Neutre')).value_counts()\n",
    "\n",
    "# Créer un diagramme en barres du sentiment\n",
    "sentiment_counts.plot(kind='bar')\n",
    "plt.xlabel('Sentiment')\n",
    "plt.ylabel('Nombre d\\'e-mails')\n",
    "plt.title('Répartition des sentiments dans les e-mails')\n",
    "plt.show()\n"
   ]
  },
  {
   "cell_type": "code",
   "execution_count": 17,
   "id": "09cdd33f",
   "metadata": {},
   "outputs": [
    {
     "data": {
      "image/png": "[encoded data removed]",
      "text/plain": [
       "<Figure size 432x288 with 1 Axes>"
      ]
     },
     "metadata": {
      "needs_background": "light"
     },
     "output_type": "display_data"
    }
   ],
   "source": [
    "import matplotlib.pyplot as plt\n",
    "\n",
    "# Créer un diagramme en barres empilées de la répartition des types d'e-mail en fonction de la polarité\n",
    "stacked_bar = df.groupby(['Type', pd.cut(df['Polarité'], bins=[-1, 0, 1])]).size().unstack().plot(kind='bar', stacked=True)\n",
    "\n",
    "# Ajouter des étiquettes et des titres\n",
    "plt.xlabel('Polarité')\n",
    "plt.ylabel('Nombre d\\'e-mails')\n",
    "plt.title('Répartition des types d\\'e-mail en fonction de la polarité')\n",
    "plt.legend(title='Type d\\'e-mail')\n",
    "plt.show()\n"
   ]
  },
  {
   "cell_type": "markdown",
   "id": "02cec829",
   "metadata": {},
   "source": [
    " \n",
    "# Nettoyage du Texte"
   ]
  },
  {
   "cell_type": "markdown",
   "id": "84de68c2",
   "metadata": {},
   "source": [
    "Pour le nettoyage du texte, nous allons effectuer ces différentes étapes :\n",
    "\n",
    "     -Nettoyage du texte en supprimant les caractères indésirables tels que la ponctuation, les symboles spéciaux, etc.\n",
    "   \n",
    "     -Normalisation du texte en convertissant les caractères en minuscules et en appliquant d'autres transformations pour       uniformiser le texte.\n",
    "   \n",
    "      -Suppression des mots vides (stop words) tels que \"et\", \"mais\", \"ou\", qui n'apportent pas beaucoup d'informations pour la   classification.\n",
    "   \n",
    "     -Tokenisation du texte en divisant les phrases en mots ou en tokens individuels.\n",
    "     \n",
    "      - Supprimer les variables personnalisées"
   ]
  },
  {
   "cell_type": "markdown",
   "id": "6156be6b",
   "metadata": {},
   "source": [
    "Dans un premier temps, nous allons étiqueter notre variable cible appelée \"Type\"."
   ]
  },
  {
   "cell_type": "code",
   "execution_count": 18,
   "id": "ee97bafa",
   "metadata": {},
   "outputs": [
    {
     "data": {
      "text/html": [
       "<div>\n",
       "<style scoped>\n",
       "    .dataframe tbody tr th:only-of-type {\n",
       "        vertical-align: middle;\n",
       "    }\n",
       "\n",
       "    .dataframe tbody tr th {\n",
       "        vertical-align: top;\n",
       "    }\n",
       "\n",
       "    .dataframe thead th {\n",
       "        text-align: right;\n",
       "    }\n",
       "</style>\n",
       "<table border=\"1\" class=\"dataframe\">\n",
       "  <thead>\n",
       "    <tr style=\"text-align: right;\">\n",
       "      <th></th>\n",
       "      <th>Message</th>\n",
       "      <th>Type</th>\n",
       "      <th>Longueur du texte</th>\n",
       "      <th>Polarité</th>\n",
       "      <th>Subjectivité</th>\n",
       "      <th>encoded</th>\n",
       "    </tr>\n",
       "  </thead>\n",
       "  <tbody>\n",
       "    <tr>\n",
       "      <th>0</th>\n",
       "      <td>URGENT : Gagnez de l'argent rapidement et faci...</td>\n",
       "      <td>Spam</td>\n",
       "      <td>165</td>\n",
       "      <td>0.0</td>\n",
       "      <td>0.0</td>\n",
       "      <td>1</td>\n",
       "    </tr>\n",
       "    <tr>\n",
       "      <th>1</th>\n",
       "      <td>Ne vous inquiétez pas, je ne partagerai vos ré...</td>\n",
       "      <td>Spam</td>\n",
       "      <td>66</td>\n",
       "      <td>0.0</td>\n",
       "      <td>0.0</td>\n",
       "      <td>1</td>\n",
       "    </tr>\n",
       "    <tr>\n",
       "      <th>2</th>\n",
       "      <td>Cher {{firstname}} : Malheureusement, votre ré...</td>\n",
       "      <td>Non spam</td>\n",
       "      <td>241</td>\n",
       "      <td>0.0</td>\n",
       "      <td>0.0</td>\n",
       "      <td>0</td>\n",
       "    </tr>\n",
       "    <tr>\n",
       "      <th>3</th>\n",
       "      <td>Cher(e) {{civility}} {{lastName}}, ceci est un...</td>\n",
       "      <td>Non spam</td>\n",
       "      <td>190</td>\n",
       "      <td>0.0</td>\n",
       "      <td>0.0</td>\n",
       "      <td>0</td>\n",
       "    </tr>\n",
       "    <tr>\n",
       "      <th>4</th>\n",
       "      <td>Obtenez des résultats instantanés avec notre p...</td>\n",
       "      <td>Spam</td>\n",
       "      <td>196</td>\n",
       "      <td>0.0</td>\n",
       "      <td>0.0</td>\n",
       "      <td>1</td>\n",
       "    </tr>\n",
       "  </tbody>\n",
       "</table>\n",
       "</div>"
      ],
      "text/plain": [
       "                                             Message      Type  \\\n",
       "0  URGENT : Gagnez de l'argent rapidement et faci...      Spam   \n",
       "1  Ne vous inquiétez pas, je ne partagerai vos ré...      Spam   \n",
       "2  Cher {{firstname}} : Malheureusement, votre ré...  Non spam   \n",
       "3  Cher(e) {{civility}} {{lastName}}, ceci est un...  Non spam   \n",
       "4  Obtenez des résultats instantanés avec notre p...      Spam   \n",
       "\n",
       "   Longueur du texte  Polarité  Subjectivité  encoded  \n",
       "0                165       0.0           0.0        1  \n",
       "1                 66       0.0           0.0        1  \n",
       "2                241       0.0           0.0        0  \n",
       "3                190       0.0           0.0        0  \n",
       "4                196       0.0           0.0        1  "
      ]
     },
     "execution_count": 18,
     "metadata": {},
     "output_type": "execute_result"
    }
   ],
   "source": [
    "from sklearn.preprocessing import LabelEncoder\n",
    "\n",
    "encoder = LabelEncoder()\n",
    "df['encoded'] = encoder.fit_transform(df['Type'])\n",
    "df.head()"
   ]
  },
  {
   "cell_type": "code",
   "execution_count": 19,
   "id": "f1e82e69",
   "metadata": {},
   "outputs": [
    {
     "name": "stdout",
     "output_type": "stream",
     "text": [
      "['au', 'aux', 'avec', 'ce', 'ces', 'dans', 'de', 'des', 'du', 'elle', 'en', 'et', 'eux', 'il', 'ils', 'je', 'la', 'le', 'les', 'leur', 'lui', 'ma', 'mais', 'me', 'même', 'mes', 'moi', 'mon', 'ne', 'nos', 'notre', 'nous', 'on', 'ou', 'par', 'pas', 'pour', 'qu', 'que', 'qui', 'sa', 'se', 'ses', 'son', 'sur', 'ta', 'te', 'tes', 'toi', 'ton', 'tu', 'un', 'une', 'vos', 'votre', 'vous', 'c', 'd', 'j', 'l', 'à', 'm', 'n', 's', 't', 'y', 'été', 'étée', 'étées', 'étés', 'étant', 'étante', 'étants', 'étantes', 'suis', 'es', 'est', 'sommes', 'êtes', 'sont', 'serai', 'seras', 'sera', 'serons', 'serez', 'seront', 'serais', 'serait', 'serions', 'seriez', 'seraient', 'étais', 'était', 'étions', 'étiez', 'étaient', 'fus', 'fut', 'fûmes', 'fûtes', 'furent', 'sois', 'soit', 'soyons', 'soyez', 'soient', 'fusse', 'fusses', 'fût', 'fussions', 'fussiez', 'fussent', 'ayant', 'ayante', 'ayantes', 'ayants', 'eu', 'eue', 'eues', 'eus', 'ai', 'as', 'avons', 'avez', 'ont', 'aurai', 'auras', 'aura', 'aurons', 'aurez', 'auront', 'aurais', 'aurait', 'aurions', 'auriez', 'auraient', 'avais', 'avait', 'avions', 'aviez', 'avaient', 'eut', 'eûmes', 'eûtes', 'eurent', 'aie', 'aies', 'ait', 'ayons', 'ayez', 'aient', 'eusse', 'eusses', 'eût', 'eussions', 'eussiez', 'eussent']\n"
     ]
    }
   ],
   "source": [
    "lemmatizer = WordNetLemmatizer()\n",
    "stop_words = list(stopwords.words('french')) #les mots à enlever\n",
    "print(stop_words)"
   ]
  },
  {
   "cell_type": "code",
   "execution_count": 20,
   "id": "83f18be3",
   "metadata": {},
   "outputs": [],
   "source": [
    "import re\n",
    "import unicodedata\n",
    "from urllib.parse import urlparse\n",
    "from nltk.corpus import stopwords\n",
    "from nltk.stem import WordNetLemmatizer\n",
    "from string import punctuation\n",
    "\n",
    "def clean_text(text):\n",
    "    # Convertir en minuscules\n",
    "    text = text.lower()\n",
    "\n",
    "    # Retirer les accents\n",
    "    text = unicodedata.normalize('NFKD', text).encode('ASCII', 'ignore').decode('utf-8')\n",
    "\n",
    "    # Retirer la ponctuation\n",
    "    text = re.sub('[%s]' % re.escape(punctuation), '', text)\n",
    "\n",
    "    # Remplacer les crochets par un espace\n",
    "    text = re.sub('[][)(]', ' ', text)\n",
    "\n",
    "    # Supprimer les URL\n",
    "    text = [word for word in text.split() if not urlparse(word).scheme]\n",
    "    text = ' '.join(text)\n",
    "\n",
    "    # Supprimer les mots commençant par @\n",
    "    text = re.sub(r'\\@\\w+', '', text)\n",
    "\n",
    "    # Supprimer les balises HTML\n",
    "    text = re.sub(re.compile(\"<.*?>\"), '', text)\n",
    "\n",
    "    # Obtenir uniquement les caractères et les chiffres\n",
    "    text = re.sub('[^A-Za-z0-9]', ' ', text)\n",
    "\n",
    "    # Lemmatisation\n",
    "    lemmatizer = WordNetLemmatizer()\n",
    "    text = ' '.join([lemmatizer.lemmatize(word) for word in text.split()])\n",
    "\n",
    "     # Retirer les stop words, y compris les mots spécifiques\n",
    "    stop_words = set(stopwords.words('french'))\n",
    "    stop_words.update(['phone', 'lastname', 'firstname', 'civility', 'date', 'time', 'sender', 'link', 'other'])\n",
    "    text = ' '.join([word for word in text.split() if word not in stop_words])\n",
    "\n",
    "    return text\n",
    "\n",
    "\n"
   ]
  },
  {
   "cell_type": "code",
   "execution_count": 21,
   "id": "680a4878",
   "metadata": {},
   "outputs": [],
   "source": [
    "# Appliquer la fonction de nettoyage sur la colonne 'Message'\n",
    "\n",
    "df['Cleaned_Content'] = df['Message'].apply(clean_text)\n",
    "\n"
   ]
  },
  {
   "cell_type": "code",
   "execution_count": 22,
   "id": "f856ec5e",
   "metadata": {},
   "outputs": [
    {
     "data": {
      "text/html": [
       "<div>\n",
       "<style scoped>\n",
       "    .dataframe tbody tr th:only-of-type {\n",
       "        vertical-align: middle;\n",
       "    }\n",
       "\n",
       "    .dataframe tbody tr th {\n",
       "        vertical-align: top;\n",
       "    }\n",
       "\n",
       "    .dataframe thead th {\n",
       "        text-align: right;\n",
       "    }\n",
       "</style>\n",
       "<table border=\"1\" class=\"dataframe\">\n",
       "  <thead>\n",
       "    <tr style=\"text-align: right;\">\n",
       "      <th></th>\n",
       "      <th>Message</th>\n",
       "      <th>Type</th>\n",
       "      <th>Longueur du texte</th>\n",
       "      <th>Polarité</th>\n",
       "      <th>Subjectivité</th>\n",
       "      <th>encoded</th>\n",
       "      <th>Cleaned_Content</th>\n",
       "    </tr>\n",
       "  </thead>\n",
       "  <tbody>\n",
       "    <tr>\n",
       "      <th>1</th>\n",
       "      <td>Ne vous inquiétez pas, je ne partagerai vos ré...</td>\n",
       "      <td>Spam</td>\n",
       "      <td>66</td>\n",
       "      <td>0.000000</td>\n",
       "      <td>0.000000</td>\n",
       "      <td>1</td>\n",
       "      <td>inquietez pa partagerai reponses personne</td>\n",
       "    </tr>\n",
       "    <tr>\n",
       "      <th>2</th>\n",
       "      <td>Cher {{firstname}} : Malheureusement, votre ré...</td>\n",
       "      <td>Non spam</td>\n",
       "      <td>241</td>\n",
       "      <td>0.000000</td>\n",
       "      <td>0.000000</td>\n",
       "      <td>0</td>\n",
       "      <td>cher malheureusement reservation attente na pa...</td>\n",
       "    </tr>\n",
       "    <tr>\n",
       "      <th>3</th>\n",
       "      <td>Cher(e) {{civility}} {{lastName}}, ceci est un...</td>\n",
       "      <td>Non spam</td>\n",
       "      <td>190</td>\n",
       "      <td>0.000000</td>\n",
       "      <td>0.000000</td>\n",
       "      <td>0</td>\n",
       "      <td>chere ceci rappel amical concernant paiement f...</td>\n",
       "    </tr>\n",
       "    <tr>\n",
       "      <th>4</th>\n",
       "      <td>Obtenez des résultats instantanés avec notre p...</td>\n",
       "      <td>Spam</td>\n",
       "      <td>196</td>\n",
       "      <td>0.000000</td>\n",
       "      <td>0.000000</td>\n",
       "      <td>1</td>\n",
       "      <td>obtenez resultats instantanes programme remise...</td>\n",
       "    </tr>\n",
       "    <tr>\n",
       "      <th>5</th>\n",
       "      <td>À la recherche de nouvelles opportunités profe...</td>\n",
       "      <td>Non spam</td>\n",
       "      <td>229</td>\n",
       "      <td>-0.333333</td>\n",
       "      <td>0.583333</td>\n",
       "      <td>0</td>\n",
       "      <td>a recherche nouvelles opportunites professionn...</td>\n",
       "    </tr>\n",
       "    <tr>\n",
       "      <th>6</th>\n",
       "      <td>Félicitations ! Vous avez gagné un prix incroy...</td>\n",
       "      <td>Spam</td>\n",
       "      <td>106</td>\n",
       "      <td>0.000000</td>\n",
       "      <td>0.000000</td>\n",
       "      <td>1</td>\n",
       "      <td>felicitation gagne prix incroyable cliquez lie...</td>\n",
       "    </tr>\n",
       "    <tr>\n",
       "      <th>7</th>\n",
       "      <td>Poste vacant : {{other}}. Envoyez votre CV à {...</td>\n",
       "      <td>Non spam</td>\n",
       "      <td>117</td>\n",
       "      <td>-0.437500</td>\n",
       "      <td>0.687500</td>\n",
       "      <td>0</td>\n",
       "      <td>poste vacant envoyez cv a postuler avant plus ...</td>\n",
       "    </tr>\n",
       "    <tr>\n",
       "      <th>8</th>\n",
       "      <td>En tant qu'abonné(e) privilégié(e), {{firstNam...</td>\n",
       "      <td>Non spam</td>\n",
       "      <td>175</td>\n",
       "      <td>-0.281250</td>\n",
       "      <td>0.531250</td>\n",
       "      <td>0</td>\n",
       "      <td>tant quabonnee privilegiee beneficiez dune red...</td>\n",
       "    </tr>\n",
       "    <tr>\n",
       "      <th>9</th>\n",
       "      <td>Répondez à ce sondage et gagnez un voyage grat...</td>\n",
       "      <td>Spam</td>\n",
       "      <td>89</td>\n",
       "      <td>0.468750</td>\n",
       "      <td>1.000000</td>\n",
       "      <td>1</td>\n",
       "      <td>repondez a sondage gagnez voyage gratuit manqu...</td>\n",
       "    </tr>\n",
       "  </tbody>\n",
       "</table>\n",
       "</div>"
      ],
      "text/plain": [
       "                                             Message      Type  \\\n",
       "1  Ne vous inquiétez pas, je ne partagerai vos ré...      Spam   \n",
       "2  Cher {{firstname}} : Malheureusement, votre ré...  Non spam   \n",
       "3  Cher(e) {{civility}} {{lastName}}, ceci est un...  Non spam   \n",
       "4  Obtenez des résultats instantanés avec notre p...      Spam   \n",
       "5  À la recherche de nouvelles opportunités profe...  Non spam   \n",
       "6  Félicitations ! Vous avez gagné un prix incroy...      Spam   \n",
       "7  Poste vacant : {{other}}. Envoyez votre CV à {...  Non spam   \n",
       "8  En tant qu'abonné(e) privilégié(e), {{firstNam...  Non spam   \n",
       "9  Répondez à ce sondage et gagnez un voyage grat...      Spam   \n",
       "\n",
       "   Longueur du texte  Polarité  Subjectivité  encoded  \\\n",
       "1                 66  0.000000      0.000000        1   \n",
       "2                241  0.000000      0.000000        0   \n",
       "3                190  0.000000      0.000000        0   \n",
       "4                196  0.000000      0.000000        1   \n",
       "5                229 -0.333333      0.583333        0   \n",
       "6                106  0.000000      0.000000        1   \n",
       "7                117 -0.437500      0.687500        0   \n",
       "8                175 -0.281250      0.531250        0   \n",
       "9                 89  0.468750      1.000000        1   \n",
       "\n",
       "                                     Cleaned_Content  \n",
       "1          inquietez pa partagerai reponses personne  \n",
       "2  cher malheureusement reservation attente na pa...  \n",
       "3  chere ceci rappel amical concernant paiement f...  \n",
       "4  obtenez resultats instantanes programme remise...  \n",
       "5  a recherche nouvelles opportunites professionn...  \n",
       "6  felicitation gagne prix incroyable cliquez lie...  \n",
       "7  poste vacant envoyez cv a postuler avant plus ...  \n",
       "8  tant quabonnee privilegiee beneficiez dune red...  \n",
       "9  repondez a sondage gagnez voyage gratuit manqu...  "
      ]
     },
     "execution_count": 22,
     "metadata": {},
     "output_type": "execute_result"
    }
   ],
   "source": [
    "df.iloc[1:10,]"
   ]
  },
  {
   "cell_type": "code",
   "execution_count": 23,
   "id": "1aa25253",
   "metadata": {},
   "outputs": [
    {
     "data": {
      "text/plain": [
       "0     urgent gagnez largent rapidement facilement cl...\n",
       "1             inquietez pa partagerai reponses personne\n",
       "2     cher malheureusement reservation attente na pa...\n",
       "3     chere ceci rappel amical concernant paiement f...\n",
       "4     obtenez resultats instantanes programme remise...\n",
       "                            ...                        \n",
       "74    gagnez largent ligne systeme generation revenu...\n",
       "75    promotion jour a faites vite cette offre termi...\n",
       "76    obtenez milliers follower like reseau sociaux ...\n",
       "77    appartement a vendre manquez pa cette opportun...\n",
       "78    chere veuillez noter no nouveaux horaires douv...\n",
       "Name: Cleaned_Content, Length: 79, dtype: object"
      ]
     },
     "execution_count": 23,
     "metadata": {},
     "output_type": "execute_result"
    }
   ],
   "source": [
    "df['Cleaned_Content']"
   ]
  },
  {
   "cell_type": "markdown",
   "id": "fce7bc9f",
   "metadata": {},
   "source": [
    "# Extraction de fonctionnalités \n",
    "\n"
   ]
  },
  {
   "cell_type": "markdown",
   "id": "d4ba4620",
   "metadata": {},
   "source": [
    "Dans cette étape, vous allons identifier les caractéristiques pertinentes dans les messages qui peuvent aider à distinguer les spams des messages normaux. Certaines fonctionnalités couramment utilisées incluent :\n",
    "\n",
    "La fréquence des mots : combien de fois chaque mot apparaît dans un message.\n",
    "La présence de mots clés : vérifier si certains mots clés associés aux spams sont présents dans un message.\n",
    "La présence de liens ou d'adresses e-mail : détecter si un message contient des liens ou des adresses e-mail souvent utilisés dans les spams.\n",
    "La longueur du message : les spams ont souvent tendance à être plus courts ou plus longs que les messages normaux."
   ]
  },
  {
   "cell_type": "markdown",
   "id": "53bace23",
   "metadata": {},
   "source": [
    "Et pour cela on va utuliser effectue la vectorisation TF-IDF des données textuelles de la colonne 'Cleaned_Content' du DataFrame df et crée un nouveau DataFrame X contenant les valeurs TF-IDF correspondantes. Cette représentation vectorielle peut être utilisée comme entrée pour l'apprentissage automatique ou d'autres tâches d'analyse de texte."
   ]
  },
  {
   "cell_type": "code",
   "execution_count": 24,
   "id": "d493c150",
   "metadata": {},
   "outputs": [
    {
     "data": {
      "text/html": [
       "<div>\n",
       "<style scoped>\n",
       "    .dataframe tbody tr th:only-of-type {\n",
       "        vertical-align: middle;\n",
       "    }\n",
       "\n",
       "    .dataframe tbody tr th {\n",
       "        vertical-align: top;\n",
       "    }\n",
       "\n",
       "    .dataframe thead th {\n",
       "        text-align: right;\n",
       "    }\n",
       "</style>\n",
       "<table border=\"1\" class=\"dataframe\">\n",
       "  <thead>\n",
       "    <tr style=\"text-align: right;\">\n",
       "      <th></th>\n",
       "      <th>abonnes</th>\n",
       "      <th>abouti</th>\n",
       "      <th>achat</th>\n",
       "      <th>achetant</th>\n",
       "      <th>achetez</th>\n",
       "      <th>acquerez</th>\n",
       "      <th>acteurs</th>\n",
       "      <th>adieu</th>\n",
       "      <th>adresse</th>\n",
       "      <th>algorithme</th>\n",
       "      <th>...</th>\n",
       "      <th>virtuelle</th>\n",
       "      <th>visibilite</th>\n",
       "      <th>visitant</th>\n",
       "      <th>visons</th>\n",
       "      <th>vite</th>\n",
       "      <th>voir</th>\n",
       "      <th>voyage</th>\n",
       "      <th>web</th>\n",
       "      <th>webinar</th>\n",
       "      <th>youtube</th>\n",
       "    </tr>\n",
       "  </thead>\n",
       "  <tbody>\n",
       "    <tr>\n",
       "      <th>0</th>\n",
       "      <td>0.0</td>\n",
       "      <td>0.000000</td>\n",
       "      <td>0.0</td>\n",
       "      <td>0.0</td>\n",
       "      <td>0.0</td>\n",
       "      <td>0.0</td>\n",
       "      <td>0.0</td>\n",
       "      <td>0.0</td>\n",
       "      <td>0.0</td>\n",
       "      <td>0.0</td>\n",
       "      <td>...</td>\n",
       "      <td>0.0</td>\n",
       "      <td>0.0</td>\n",
       "      <td>0.0</td>\n",
       "      <td>0.0</td>\n",
       "      <td>0.0</td>\n",
       "      <td>0.0</td>\n",
       "      <td>0.0</td>\n",
       "      <td>0.0</td>\n",
       "      <td>0.0</td>\n",
       "      <td>0.0</td>\n",
       "    </tr>\n",
       "    <tr>\n",
       "      <th>1</th>\n",
       "      <td>0.0</td>\n",
       "      <td>0.000000</td>\n",
       "      <td>0.0</td>\n",
       "      <td>0.0</td>\n",
       "      <td>0.0</td>\n",
       "      <td>0.0</td>\n",
       "      <td>0.0</td>\n",
       "      <td>0.0</td>\n",
       "      <td>0.0</td>\n",
       "      <td>0.0</td>\n",
       "      <td>...</td>\n",
       "      <td>0.0</td>\n",
       "      <td>0.0</td>\n",
       "      <td>0.0</td>\n",
       "      <td>0.0</td>\n",
       "      <td>0.0</td>\n",
       "      <td>0.0</td>\n",
       "      <td>0.0</td>\n",
       "      <td>0.0</td>\n",
       "      <td>0.0</td>\n",
       "      <td>0.0</td>\n",
       "    </tr>\n",
       "    <tr>\n",
       "      <th>2</th>\n",
       "      <td>0.0</td>\n",
       "      <td>0.205796</td>\n",
       "      <td>0.0</td>\n",
       "      <td>0.0</td>\n",
       "      <td>0.0</td>\n",
       "      <td>0.0</td>\n",
       "      <td>0.0</td>\n",
       "      <td>0.0</td>\n",
       "      <td>0.0</td>\n",
       "      <td>0.0</td>\n",
       "      <td>...</td>\n",
       "      <td>0.0</td>\n",
       "      <td>0.0</td>\n",
       "      <td>0.0</td>\n",
       "      <td>0.0</td>\n",
       "      <td>0.0</td>\n",
       "      <td>0.0</td>\n",
       "      <td>0.0</td>\n",
       "      <td>0.0</td>\n",
       "      <td>0.0</td>\n",
       "      <td>0.0</td>\n",
       "    </tr>\n",
       "    <tr>\n",
       "      <th>3</th>\n",
       "      <td>0.0</td>\n",
       "      <td>0.000000</td>\n",
       "      <td>0.0</td>\n",
       "      <td>0.0</td>\n",
       "      <td>0.0</td>\n",
       "      <td>0.0</td>\n",
       "      <td>0.0</td>\n",
       "      <td>0.0</td>\n",
       "      <td>0.0</td>\n",
       "      <td>0.0</td>\n",
       "      <td>...</td>\n",
       "      <td>0.0</td>\n",
       "      <td>0.0</td>\n",
       "      <td>0.0</td>\n",
       "      <td>0.0</td>\n",
       "      <td>0.0</td>\n",
       "      <td>0.0</td>\n",
       "      <td>0.0</td>\n",
       "      <td>0.0</td>\n",
       "      <td>0.0</td>\n",
       "      <td>0.0</td>\n",
       "    </tr>\n",
       "    <tr>\n",
       "      <th>4</th>\n",
       "      <td>0.0</td>\n",
       "      <td>0.000000</td>\n",
       "      <td>0.0</td>\n",
       "      <td>0.0</td>\n",
       "      <td>0.0</td>\n",
       "      <td>0.0</td>\n",
       "      <td>0.0</td>\n",
       "      <td>0.0</td>\n",
       "      <td>0.0</td>\n",
       "      <td>0.0</td>\n",
       "      <td>...</td>\n",
       "      <td>0.0</td>\n",
       "      <td>0.0</td>\n",
       "      <td>0.0</td>\n",
       "      <td>0.0</td>\n",
       "      <td>0.0</td>\n",
       "      <td>0.0</td>\n",
       "      <td>0.0</td>\n",
       "      <td>0.0</td>\n",
       "      <td>0.0</td>\n",
       "      <td>0.0</td>\n",
       "    </tr>\n",
       "  </tbody>\n",
       "</table>\n",
       "<p>5 rows × 504 columns</p>\n",
       "</div>"
      ],
      "text/plain": [
       "   abonnes    abouti  achat  achetant  achetez  acquerez  acteurs  adieu  \\\n",
       "0      0.0  0.000000    0.0       0.0      0.0       0.0      0.0    0.0   \n",
       "1      0.0  0.000000    0.0       0.0      0.0       0.0      0.0    0.0   \n",
       "2      0.0  0.205796    0.0       0.0      0.0       0.0      0.0    0.0   \n",
       "3      0.0  0.000000    0.0       0.0      0.0       0.0      0.0    0.0   \n",
       "4      0.0  0.000000    0.0       0.0      0.0       0.0      0.0    0.0   \n",
       "\n",
       "   adresse  algorithme  ...  virtuelle  visibilite  visitant  visons  vite  \\\n",
       "0      0.0         0.0  ...        0.0         0.0       0.0     0.0   0.0   \n",
       "1      0.0         0.0  ...        0.0         0.0       0.0     0.0   0.0   \n",
       "2      0.0         0.0  ...        0.0         0.0       0.0     0.0   0.0   \n",
       "3      0.0         0.0  ...        0.0         0.0       0.0     0.0   0.0   \n",
       "4      0.0         0.0  ...        0.0         0.0       0.0     0.0   0.0   \n",
       "\n",
       "   voir  voyage  web  webinar  youtube  \n",
       "0   0.0     0.0  0.0      0.0      0.0  \n",
       "1   0.0     0.0  0.0      0.0      0.0  \n",
       "2   0.0     0.0  0.0      0.0      0.0  \n",
       "3   0.0     0.0  0.0      0.0      0.0  \n",
       "4   0.0     0.0  0.0      0.0      0.0  \n",
       "\n",
       "[5 rows x 504 columns]"
      ]
     },
     "execution_count": 24,
     "metadata": {},
     "output_type": "execute_result"
    }
   ],
   "source": [
    "from sklearn.feature_extraction.text import TfidfVectorizer\n",
    "\n",
    "# Définir la valeur de min_df\n",
    "MIN_DF = 1\n",
    "\n",
    "# Créer une instance de TfidfVectorizer\n",
    "vectorizer = TfidfVectorizer(min_df=MIN_DF)\n",
    "\n",
    "# Appliquer la vectorisation TF-IDF sur la colonne 'Cleaned_Content'\n",
    "X_vec = vectorizer.fit_transform(df[\"Cleaned_Content\"])\n",
    "\n",
    "# Convertir la matrice creuse en un tableau numpy\n",
    "X_array = X_vec.toarray()\n",
    "\n",
    "# Créer un DataFrame avec les valeurs TF-IDF\n",
    "X = pd.DataFrame(X_array, columns=vectorizer.get_feature_names_out())\n",
    "X.head()\n"
   ]
  },
  {
   "cell_type": "code",
   "execution_count": null,
   "id": "0d3f89d0",
   "metadata": {},
   "outputs": [],
   "source": []
  },
  {
   "cell_type": "markdown",
   "id": "cc938aba",
   "metadata": {},
   "source": []
  },
  {
   "cell_type": "code",
   "execution_count": null,
   "id": "7535d59c",
   "metadata": {},
   "outputs": [],
   "source": []
  },
  {
   "cell_type": "markdown",
   "id": "ae4cebb1",
   "metadata": {},
   "source": [
    "# Construction du modèle"
   ]
  },
  {
   "cell_type": "markdown",
   "id": "d650ceba",
   "metadata": {},
   "source": [
    "Dans cette partie on va tester plusieurs modeles de classification"
   ]
  },
  {
   "cell_type": "code",
   "execution_count": 25,
   "id": "69760cd9",
   "metadata": {},
   "outputs": [],
   "source": [
    "from sklearn.naive_bayes import MultinomialNB\n",
    "from sklearn.svm import SVC\n",
    "from sklearn.neighbors import KNeighborsClassifier\n",
    "from sklearn.ensemble import RandomForestClassifier\n",
    "from sklearn.linear_model import LogisticRegression\n",
    "from sklearn.metrics import accuracy_score, precision_score, recall_score, f1_score\n"
   ]
  },
  {
   "cell_type": "code",
   "execution_count": 26,
   "id": "fb52f144",
   "metadata": {},
   "outputs": [],
   "source": [
    "y = df[\"encoded\"]"
   ]
  },
  {
   "cell_type": "code",
   "execution_count": 27,
   "id": "9c363c06",
   "metadata": {},
   "outputs": [
    {
     "data": {
      "text/html": [
       "<div>\n",
       "<style scoped>\n",
       "    .dataframe tbody tr th:only-of-type {\n",
       "        vertical-align: middle;\n",
       "    }\n",
       "\n",
       "    .dataframe tbody tr th {\n",
       "        vertical-align: top;\n",
       "    }\n",
       "\n",
       "    .dataframe thead th {\n",
       "        text-align: right;\n",
       "    }\n",
       "</style>\n",
       "<table border=\"1\" class=\"dataframe\">\n",
       "  <thead>\n",
       "    <tr style=\"text-align: right;\">\n",
       "      <th></th>\n",
       "      <th>abonnes</th>\n",
       "      <th>abouti</th>\n",
       "      <th>achat</th>\n",
       "      <th>achetant</th>\n",
       "      <th>achetez</th>\n",
       "      <th>acquerez</th>\n",
       "      <th>acteurs</th>\n",
       "      <th>adieu</th>\n",
       "      <th>adresse</th>\n",
       "      <th>algorithme</th>\n",
       "      <th>...</th>\n",
       "      <th>virtuelle</th>\n",
       "      <th>visibilite</th>\n",
       "      <th>visitant</th>\n",
       "      <th>visons</th>\n",
       "      <th>vite</th>\n",
       "      <th>voir</th>\n",
       "      <th>voyage</th>\n",
       "      <th>web</th>\n",
       "      <th>webinar</th>\n",
       "      <th>youtube</th>\n",
       "    </tr>\n",
       "  </thead>\n",
       "  <tbody>\n",
       "    <tr>\n",
       "      <th>0</th>\n",
       "      <td>0.0</td>\n",
       "      <td>0.000000</td>\n",
       "      <td>0.0</td>\n",
       "      <td>0.0</td>\n",
       "      <td>0.0</td>\n",
       "      <td>0.0</td>\n",
       "      <td>0.0</td>\n",
       "      <td>0.0</td>\n",
       "      <td>0.0</td>\n",
       "      <td>0.0</td>\n",
       "      <td>...</td>\n",
       "      <td>0.0</td>\n",
       "      <td>0.0</td>\n",
       "      <td>0.0</td>\n",
       "      <td>0.0</td>\n",
       "      <td>0.000000</td>\n",
       "      <td>0.0</td>\n",
       "      <td>0.0</td>\n",
       "      <td>0.000000</td>\n",
       "      <td>0.0</td>\n",
       "      <td>0.0</td>\n",
       "    </tr>\n",
       "    <tr>\n",
       "      <th>1</th>\n",
       "      <td>0.0</td>\n",
       "      <td>0.000000</td>\n",
       "      <td>0.0</td>\n",
       "      <td>0.0</td>\n",
       "      <td>0.0</td>\n",
       "      <td>0.0</td>\n",
       "      <td>0.0</td>\n",
       "      <td>0.0</td>\n",
       "      <td>0.0</td>\n",
       "      <td>0.0</td>\n",
       "      <td>...</td>\n",
       "      <td>0.0</td>\n",
       "      <td>0.0</td>\n",
       "      <td>0.0</td>\n",
       "      <td>0.0</td>\n",
       "      <td>0.000000</td>\n",
       "      <td>0.0</td>\n",
       "      <td>0.0</td>\n",
       "      <td>0.000000</td>\n",
       "      <td>0.0</td>\n",
       "      <td>0.0</td>\n",
       "    </tr>\n",
       "    <tr>\n",
       "      <th>2</th>\n",
       "      <td>0.0</td>\n",
       "      <td>0.205796</td>\n",
       "      <td>0.0</td>\n",
       "      <td>0.0</td>\n",
       "      <td>0.0</td>\n",
       "      <td>0.0</td>\n",
       "      <td>0.0</td>\n",
       "      <td>0.0</td>\n",
       "      <td>0.0</td>\n",
       "      <td>0.0</td>\n",
       "      <td>...</td>\n",
       "      <td>0.0</td>\n",
       "      <td>0.0</td>\n",
       "      <td>0.0</td>\n",
       "      <td>0.0</td>\n",
       "      <td>0.000000</td>\n",
       "      <td>0.0</td>\n",
       "      <td>0.0</td>\n",
       "      <td>0.000000</td>\n",
       "      <td>0.0</td>\n",
       "      <td>0.0</td>\n",
       "    </tr>\n",
       "    <tr>\n",
       "      <th>3</th>\n",
       "      <td>0.0</td>\n",
       "      <td>0.000000</td>\n",
       "      <td>0.0</td>\n",
       "      <td>0.0</td>\n",
       "      <td>0.0</td>\n",
       "      <td>0.0</td>\n",
       "      <td>0.0</td>\n",
       "      <td>0.0</td>\n",
       "      <td>0.0</td>\n",
       "      <td>0.0</td>\n",
       "      <td>...</td>\n",
       "      <td>0.0</td>\n",
       "      <td>0.0</td>\n",
       "      <td>0.0</td>\n",
       "      <td>0.0</td>\n",
       "      <td>0.000000</td>\n",
       "      <td>0.0</td>\n",
       "      <td>0.0</td>\n",
       "      <td>0.000000</td>\n",
       "      <td>0.0</td>\n",
       "      <td>0.0</td>\n",
       "    </tr>\n",
       "    <tr>\n",
       "      <th>4</th>\n",
       "      <td>0.0</td>\n",
       "      <td>0.000000</td>\n",
       "      <td>0.0</td>\n",
       "      <td>0.0</td>\n",
       "      <td>0.0</td>\n",
       "      <td>0.0</td>\n",
       "      <td>0.0</td>\n",
       "      <td>0.0</td>\n",
       "      <td>0.0</td>\n",
       "      <td>0.0</td>\n",
       "      <td>...</td>\n",
       "      <td>0.0</td>\n",
       "      <td>0.0</td>\n",
       "      <td>0.0</td>\n",
       "      <td>0.0</td>\n",
       "      <td>0.000000</td>\n",
       "      <td>0.0</td>\n",
       "      <td>0.0</td>\n",
       "      <td>0.000000</td>\n",
       "      <td>0.0</td>\n",
       "      <td>0.0</td>\n",
       "    </tr>\n",
       "    <tr>\n",
       "      <th>...</th>\n",
       "      <td>...</td>\n",
       "      <td>...</td>\n",
       "      <td>...</td>\n",
       "      <td>...</td>\n",
       "      <td>...</td>\n",
       "      <td>...</td>\n",
       "      <td>...</td>\n",
       "      <td>...</td>\n",
       "      <td>...</td>\n",
       "      <td>...</td>\n",
       "      <td>...</td>\n",
       "      <td>...</td>\n",
       "      <td>...</td>\n",
       "      <td>...</td>\n",
       "      <td>...</td>\n",
       "      <td>...</td>\n",
       "      <td>...</td>\n",
       "      <td>...</td>\n",
       "      <td>...</td>\n",
       "      <td>...</td>\n",
       "      <td>...</td>\n",
       "    </tr>\n",
       "    <tr>\n",
       "      <th>74</th>\n",
       "      <td>0.0</td>\n",
       "      <td>0.000000</td>\n",
       "      <td>0.0</td>\n",
       "      <td>0.0</td>\n",
       "      <td>0.0</td>\n",
       "      <td>0.0</td>\n",
       "      <td>0.0</td>\n",
       "      <td>0.0</td>\n",
       "      <td>0.0</td>\n",
       "      <td>0.0</td>\n",
       "      <td>...</td>\n",
       "      <td>0.0</td>\n",
       "      <td>0.0</td>\n",
       "      <td>0.0</td>\n",
       "      <td>0.0</td>\n",
       "      <td>0.000000</td>\n",
       "      <td>0.0</td>\n",
       "      <td>0.0</td>\n",
       "      <td>0.000000</td>\n",
       "      <td>0.0</td>\n",
       "      <td>0.0</td>\n",
       "    </tr>\n",
       "    <tr>\n",
       "      <th>75</th>\n",
       "      <td>0.0</td>\n",
       "      <td>0.000000</td>\n",
       "      <td>0.0</td>\n",
       "      <td>0.0</td>\n",
       "      <td>0.0</td>\n",
       "      <td>0.0</td>\n",
       "      <td>0.0</td>\n",
       "      <td>0.0</td>\n",
       "      <td>0.0</td>\n",
       "      <td>0.0</td>\n",
       "      <td>...</td>\n",
       "      <td>0.0</td>\n",
       "      <td>0.0</td>\n",
       "      <td>0.0</td>\n",
       "      <td>0.0</td>\n",
       "      <td>0.362333</td>\n",
       "      <td>0.0</td>\n",
       "      <td>0.0</td>\n",
       "      <td>0.000000</td>\n",
       "      <td>0.0</td>\n",
       "      <td>0.0</td>\n",
       "    </tr>\n",
       "    <tr>\n",
       "      <th>76</th>\n",
       "      <td>0.0</td>\n",
       "      <td>0.000000</td>\n",
       "      <td>0.0</td>\n",
       "      <td>0.0</td>\n",
       "      <td>0.0</td>\n",
       "      <td>0.0</td>\n",
       "      <td>0.0</td>\n",
       "      <td>0.0</td>\n",
       "      <td>0.0</td>\n",
       "      <td>0.0</td>\n",
       "      <td>...</td>\n",
       "      <td>0.0</td>\n",
       "      <td>0.0</td>\n",
       "      <td>0.0</td>\n",
       "      <td>0.0</td>\n",
       "      <td>0.000000</td>\n",
       "      <td>0.0</td>\n",
       "      <td>0.0</td>\n",
       "      <td>0.000000</td>\n",
       "      <td>0.0</td>\n",
       "      <td>0.0</td>\n",
       "    </tr>\n",
       "    <tr>\n",
       "      <th>77</th>\n",
       "      <td>0.0</td>\n",
       "      <td>0.000000</td>\n",
       "      <td>0.0</td>\n",
       "      <td>0.0</td>\n",
       "      <td>0.0</td>\n",
       "      <td>0.0</td>\n",
       "      <td>0.0</td>\n",
       "      <td>0.0</td>\n",
       "      <td>0.0</td>\n",
       "      <td>0.0</td>\n",
       "      <td>...</td>\n",
       "      <td>0.0</td>\n",
       "      <td>0.0</td>\n",
       "      <td>0.0</td>\n",
       "      <td>0.0</td>\n",
       "      <td>0.000000</td>\n",
       "      <td>0.0</td>\n",
       "      <td>0.0</td>\n",
       "      <td>0.000000</td>\n",
       "      <td>0.0</td>\n",
       "      <td>0.0</td>\n",
       "    </tr>\n",
       "    <tr>\n",
       "      <th>78</th>\n",
       "      <td>0.0</td>\n",
       "      <td>0.000000</td>\n",
       "      <td>0.0</td>\n",
       "      <td>0.0</td>\n",
       "      <td>0.0</td>\n",
       "      <td>0.0</td>\n",
       "      <td>0.0</td>\n",
       "      <td>0.0</td>\n",
       "      <td>0.0</td>\n",
       "      <td>0.0</td>\n",
       "      <td>...</td>\n",
       "      <td>0.0</td>\n",
       "      <td>0.0</td>\n",
       "      <td>0.0</td>\n",
       "      <td>0.0</td>\n",
       "      <td>0.000000</td>\n",
       "      <td>0.0</td>\n",
       "      <td>0.0</td>\n",
       "      <td>0.236642</td>\n",
       "      <td>0.0</td>\n",
       "      <td>0.0</td>\n",
       "    </tr>\n",
       "  </tbody>\n",
       "</table>\n",
       "<p>79 rows × 504 columns</p>\n",
       "</div>"
      ],
      "text/plain": [
       "    abonnes    abouti  achat  achetant  achetez  acquerez  acteurs  adieu  \\\n",
       "0       0.0  0.000000    0.0       0.0      0.0       0.0      0.0    0.0   \n",
       "1       0.0  0.000000    0.0       0.0      0.0       0.0      0.0    0.0   \n",
       "2       0.0  0.205796    0.0       0.0      0.0       0.0      0.0    0.0   \n",
       "3       0.0  0.000000    0.0       0.0      0.0       0.0      0.0    0.0   \n",
       "4       0.0  0.000000    0.0       0.0      0.0       0.0      0.0    0.0   \n",
       "..      ...       ...    ...       ...      ...       ...      ...    ...   \n",
       "74      0.0  0.000000    0.0       0.0      0.0       0.0      0.0    0.0   \n",
       "75      0.0  0.000000    0.0       0.0      0.0       0.0      0.0    0.0   \n",
       "76      0.0  0.000000    0.0       0.0      0.0       0.0      0.0    0.0   \n",
       "77      0.0  0.000000    0.0       0.0      0.0       0.0      0.0    0.0   \n",
       "78      0.0  0.000000    0.0       0.0      0.0       0.0      0.0    0.0   \n",
       "\n",
       "    adresse  algorithme  ...  virtuelle  visibilite  visitant  visons  \\\n",
       "0       0.0         0.0  ...        0.0         0.0       0.0     0.0   \n",
       "1       0.0         0.0  ...        0.0         0.0       0.0     0.0   \n",
       "2       0.0         0.0  ...        0.0         0.0       0.0     0.0   \n",
       "3       0.0         0.0  ...        0.0         0.0       0.0     0.0   \n",
       "4       0.0         0.0  ...        0.0         0.0       0.0     0.0   \n",
       "..      ...         ...  ...        ...         ...       ...     ...   \n",
       "74      0.0         0.0  ...        0.0         0.0       0.0     0.0   \n",
       "75      0.0         0.0  ...        0.0         0.0       0.0     0.0   \n",
       "76      0.0         0.0  ...        0.0         0.0       0.0     0.0   \n",
       "77      0.0         0.0  ...        0.0         0.0       0.0     0.0   \n",
       "78      0.0         0.0  ...        0.0         0.0       0.0     0.0   \n",
       "\n",
       "        vite  voir  voyage       web  webinar  youtube  \n",
       "0   0.000000   0.0     0.0  0.000000      0.0      0.0  \n",
       "1   0.000000   0.0     0.0  0.000000      0.0      0.0  \n",
       "2   0.000000   0.0     0.0  0.000000      0.0      0.0  \n",
       "3   0.000000   0.0     0.0  0.000000      0.0      0.0  \n",
       "4   0.000000   0.0     0.0  0.000000      0.0      0.0  \n",
       "..       ...   ...     ...       ...      ...      ...  \n",
       "74  0.000000   0.0     0.0  0.000000      0.0      0.0  \n",
       "75  0.362333   0.0     0.0  0.000000      0.0      0.0  \n",
       "76  0.000000   0.0     0.0  0.000000      0.0      0.0  \n",
       "77  0.000000   0.0     0.0  0.000000      0.0      0.0  \n",
       "78  0.000000   0.0     0.0  0.236642      0.0      0.0  \n",
       "\n",
       "[79 rows x 504 columns]"
      ]
     },
     "execution_count": 27,
     "metadata": {},
     "output_type": "execute_result"
    }
   ],
   "source": [
    "X"
   ]
  },
  {
   "cell_type": "code",
   "execution_count": 28,
   "id": "c0711f0c",
   "metadata": {},
   "outputs": [
    {
     "data": {
      "text/plain": [
       "0     1\n",
       "1     1\n",
       "2     0\n",
       "3     0\n",
       "4     1\n",
       "     ..\n",
       "74    1\n",
       "75    0\n",
       "76    1\n",
       "77    0\n",
       "78    0\n",
       "Name: encoded, Length: 79, dtype: int32"
      ]
     },
     "execution_count": 28,
     "metadata": {},
     "output_type": "execute_result"
    }
   ],
   "source": [
    "y"
   ]
  },
  {
   "cell_type": "code",
   "execution_count": 29,
   "id": "1a321b73",
   "metadata": {},
   "outputs": [],
   "source": [
    "X_train, X_test, y_train, y_test = train_test_split(X, y, test_size=0.30, random_state=42, stratify=y)\n"
   ]
  },
  {
   "cell_type": "code",
   "execution_count": 30,
   "id": "e3192803",
   "metadata": {},
   "outputs": [
    {
     "name": "stdout",
     "output_type": "stream",
     "text": [
      "Précision du modèle Regression logistic : 0.6666666666666666\n"
     ]
    }
   ],
   "source": [
    "model_log = LogisticRegression()\n",
    "model_log.fit(X_train, y_train)\n",
    "accuracy = model_log.score(X_test, y_test)\n",
    "print(\"Précision du modèle Regression logistic :\", accuracy)"
   ]
  },
  {
   "cell_type": "code",
   "execution_count": 31,
   "id": "4c7ced9e",
   "metadata": {},
   "outputs": [
    {
     "name": "stdout",
     "output_type": "stream",
     "text": [
      "Précision du modèle Naive Bayes Bernoulli : 0.7916666666666666\n"
     ]
    }
   ],
   "source": [
    "model_nb_ber = MultinomialNB()\n",
    "model_nb_ber.fit(X_train, y_train)\n",
    "accuracy = model_nb_ber.score(X_test, y_test)\n",
    "print(\"Précision du modèle Naive Bayes Bernoulli :\", accuracy)\n"
   ]
  },
  {
   "cell_type": "code",
   "execution_count": 32,
   "id": "74157de5",
   "metadata": {},
   "outputs": [
    {
     "name": "stdout",
     "output_type": "stream",
     "text": [
      "Précision du modèle de random Forest : 0.6666666666666666\n"
     ]
    }
   ],
   "source": [
    "model_rf = RandomForestClassifier()\n",
    "model_rf.fit(X_train, y_train)\n",
    "accuracy_rf = model_rf.score(X_test, y_test)\n",
    "print(\"Précision du modèle de random Forest :\", accuracy_rf)\n"
   ]
  },
  {
   "cell_type": "code",
   "execution_count": 33,
   "id": "b1f3d5e4",
   "metadata": {},
   "outputs": [
    {
     "name": "stdout",
     "output_type": "stream",
     "text": [
      "Précision du modèle SVM : 0.625\n"
     ]
    }
   ],
   "source": [
    "model_svm = SVC()\n",
    "model_svm.fit(X_train, y_train)\n",
    "accuracy_svm = model_svm.score(X_test, y_test)\n",
    "print(\"Précision du modèle SVM :\", accuracy_svm)\n",
    "\n"
   ]
  },
  {
   "cell_type": "code",
   "execution_count": 34,
   "id": "5bc4d69b",
   "metadata": {},
   "outputs": [
    {
     "name": "stdout",
     "output_type": "stream",
     "text": [
      "Précision du modèle KNN : 0.875\n"
     ]
    }
   ],
   "source": [
    "model_knn = KNeighborsClassifier()\n",
    "model_knn.fit(X_train, y_train)\n",
    "accuracy_knn = model_knn.score(X_test, y_test)\n",
    "print(\"Précision du modèle KNN :\", accuracy_knn)"
   ]
  },
  {
   "cell_type": "markdown",
   "id": "1901dde6",
   "metadata": {},
   "source": [
    "## Avec les Hyperparamètres "
   ]
  },
  {
   "cell_type": "code",
   "execution_count": 35,
   "id": "0c56bed4",
   "metadata": {},
   "outputs": [],
   "source": [
    "from sklearn.model_selection import GridSearchCV\n",
    "\n"
   ]
  },
  {
   "cell_type": "code",
   "execution_count": 36,
   "id": "fb92073d",
   "metadata": {},
   "outputs": [],
   "source": [
    "params_nb = {'alpha': [0.1, 0.5, 1.0]}\n",
    "params_logistic = {'C': [0.1, 1.0, 10.0]}\n",
    "params_knn = {'n_neighbors': [3, 5, 7]}\n",
    "params_svm = {'C': [0.1, 1.0, 10.0], 'kernel': ['linear', 'rbf']}\n",
    "params_random = {'n_estimators': [100, 200, 300]}\n"
   ]
  },
  {
   "cell_type": "code",
   "execution_count": 37,
   "id": "a89b98a4",
   "metadata": {},
   "outputs": [],
   "source": [
    "grid_nb = GridSearchCV(MultinomialNB(), params_nb, cv=5)\n",
    "grid_logistic = GridSearchCV(LogisticRegression(), params_logistic, cv=5)\n",
    "grid_knn = GridSearchCV(KNeighborsClassifier(), params_knn, cv=5)\n",
    "grid_svm = GridSearchCV(SVC(), params_svm, cv=5)\n",
    "grid_random = GridSearchCV(RandomForestClassifier(), params_random, cv=5)\n",
    "\n"
   ]
  },
  {
   "cell_type": "code",
   "execution_count": 38,
   "id": "07128719",
   "metadata": {},
   "outputs": [
    {
     "data": {
      "text/plain": [
       "GridSearchCV(cv=5, estimator=RandomForestClassifier(),\n",
       "             param_grid={'n_estimators': [100, 200, 300]})"
      ]
     },
     "execution_count": 38,
     "metadata": {},
     "output_type": "execute_result"
    }
   ],
   "source": [
    "grid_nb.fit(X_train, y_train)\n",
    "grid_logistic.fit(X_train, y_train)\n",
    "grid_knn.fit(X_train, y_train)\n",
    "grid_svm.fit(X_train, y_train)\n",
    "grid_random.fit(X_train, y_train)\n"
   ]
  },
  {
   "cell_type": "code",
   "execution_count": 39,
   "id": "3b04568d",
   "metadata": {},
   "outputs": [
    {
     "name": "stdout",
     "output_type": "stream",
     "text": [
      "Meilleurs hyperparamètres pour Naive Bayes : {'alpha': 0.5}\n",
      "Précision du meilleur modèle Naive Bayes : 0.7636363636363637\n",
      "Meilleurs hyperparamètres pour Régression Logistique : {'C': 10.0}\n",
      "Précision du meilleur modèle Régression Logistique : 0.7818181818181819\n"
     ]
    }
   ],
   "source": [
    "best_params_nb = grid_nb.best_params_\n",
    "best_accuracy_nb = grid_nb.best_score_\n",
    "print(\"Meilleurs hyperparamètres pour Naive Bayes :\", best_params_nb)\n",
    "print(\"Précision du meilleur modèle Naive Bayes :\", best_accuracy_nb)\n",
    "\n",
    "best_params_logistic = grid_logistic.best_params_\n",
    "best_accuracy_logistic = grid_logistic.best_score_\n",
    "print(\"Meilleurs hyperparamètres pour Régression Logistique :\", best_params_logistic)\n",
    "print(\"Précision du meilleur modèle Régression Logistique :\", best_accuracy_logistic)\n"
   ]
  },
  {
   "cell_type": "code",
   "execution_count": 40,
   "id": "495507b0",
   "metadata": {},
   "outputs": [
    {
     "name": "stdout",
     "output_type": "stream",
     "text": [
      "Meilleurs hyperparamètres pour KNN : {'n_neighbors': 5}\n",
      "Précision du meilleur modèle KNN : 0.7636363636363637\n",
      "Meilleurs hyperparamètres pour SVM : {'C': 1.0, 'kernel': 'linear'}\n",
      "Précision du meilleur modèle SVM : 0.7818181818181819\n",
      "Meilleurs hyperparamètres pour Random Forest : {'n_estimators': 100}\n",
      "Précision du meilleur modèle Random Forest : 0.7454545454545454\n"
     ]
    }
   ],
   "source": [
    "best_params_knn = grid_knn.best_params_\n",
    "best_accuracy_knn = grid_knn.best_score_\n",
    "print(\"Meilleurs hyperparamètres pour KNN :\", best_params_knn)\n",
    "print(\"Précision du meilleur modèle KNN :\", best_accuracy_knn)\n",
    "\n",
    "best_params_svm = grid_svm.best_params_\n",
    "best_accuracy_svm = grid_svm.best_score_\n",
    "print(\"Meilleurs hyperparamètres pour SVM :\", best_params_svm)\n",
    "print(\"Précision du meilleur modèle SVM :\", best_accuracy_svm)\n",
    "\n",
    "best_params_random = grid_random.best_params_\n",
    "best_accuracy_random = grid_random.best_score_\n",
    "print(\"Meilleurs hyperparamètres pour Random Forest :\", best_params_random)\n",
    "print(\"Précision du meilleur modèle Random Forest :\", best_accuracy_random)\n"
   ]
  },
  {
   "cell_type": "code",
   "execution_count": null,
   "id": "23b77090",
   "metadata": {},
   "outputs": [],
   "source": []
  },
  {
   "cell_type": "markdown",
   "id": "85286a42",
   "metadata": {},
   "source": [
    "Notre meilleur modele est le **Naive bayes** d'apres les résultats"
   ]
  },
  {
   "cell_type": "code",
   "execution_count": 41,
   "id": "b60506c7",
   "metadata": {},
   "outputs": [],
   "source": [
    "from joblib import dump\n"
   ]
  },
  {
   "cell_type": "code",
   "execution_count": 42,
   "id": "e3f7cae7",
   "metadata": {},
   "outputs": [
    {
     "data": {
      "text/plain": [
       "['C:\\\\Users\\\\awa29\\\\OneDrive\\\\Bureau\\\\Stage NLP\\\\modele.joblib']"
      ]
     },
     "execution_count": 42,
     "metadata": {},
     "output_type": "execute_result"
    }
   ],
   "source": [
    "from sklearn.model_selection import train_test_split\n",
    "from sklearn.naive_bayes import MultinomialNB\n",
    "from sklearn.metrics import classification_report, confusion_matrix\n",
    "import matplotlib.pyplot as plt\n",
    "import seaborn as sns\n",
    "\n",
    "\n",
    "modele_final= MultinomialNB()\n",
    "modele_final.fit(X_train, y_train)\n",
    "\n",
    "# Sauvegarder le modèle dans un fichier\n",
    "dump(modele_final, r\"C:\\Users\\awa29\\OneDrive\\Bureau\\Stage NLP\\modele.joblib\")\n"
   ]
  },
  {
   "cell_type": "code",
   "execution_count": 43,
   "id": "2a8b7137",
   "metadata": {},
   "outputs": [
    {
     "name": "stdout",
     "output_type": "stream",
     "text": [
      "              precision    recall  f1-score   support\n",
      "\n",
      "           0       0.72      1.00      0.84        13\n",
      "           1       1.00      0.55      0.71        11\n",
      "\n",
      "    accuracy                           0.79        24\n",
      "   macro avg       0.86      0.77      0.77        24\n",
      "weighted avg       0.85      0.79      0.78        24\n",
      "\n"
     ]
    },
    {
     "data": {
      "image/png": "[encoded data removed]",
      "text/plain": [
       "<Figure size 576x432 with 2 Axes>"
      ]
     },
     "metadata": {
      "needs_background": "light"
     },
     "output_type": "display_data"
    }
   ],
   "source": [
    "y_pred =modele_final.predict(X_test)\n",
    "\n",
    "print(classification_report(y_test, y_pred))\n",
    "\n",
    "confusion_mat = confusion_matrix(y_test, y_pred)\n",
    "\n",
    "plt.figure(figsize=(8, 6))\n",
    "sns.heatmap(confusion_mat, annot=True, cmap=\"Blues\", fmt=\"d\")\n",
    "plt.title(\"Matrice de Confusion\")\n",
    "plt.xlabel(\"Prédictions\")\n",
    "plt.ylabel(\"Valeurs Réelles\")\n",
    "plt.show()\n"
   ]
  },
  {
   "cell_type": "markdown",
   "id": "f9c797b0",
   "metadata": {},
   "source": [
    "# Fonction Test"
   ]
  },
  {
   "cell_type": "code",
   "execution_count": 44,
   "id": "4cdf5d02",
   "metadata": {},
   "outputs": [
    {
     "name": "stdout",
     "output_type": "stream",
     "text": [
      "Requirement already satisfied: pika in c:\\users\\awa29\\anaconda3\\lib\\site-packages (1.3.2)\n"
     ]
    }
   ],
   "source": [
    "!pip install pika\n"
   ]
  },
  {
   "cell_type": "code",
   "execution_count": 45,
   "id": "e1c9203a",
   "metadata": {},
   "outputs": [],
   "source": [
    "from joblib import load\n",
    "import pika\n"
   ]
  },
  {
   "cell_type": "code",
   "execution_count": 46,
   "id": "613b351b",
   "metadata": {},
   "outputs": [],
   "source": [
    "import unicodedata\n",
    "import re\n",
    "from string import punctuation\n",
    "from urllib.parse import urlparse\n",
    "from nltk.corpus import stopwords\n",
    "from nltk.stem import WordNetLemmatizer\n",
    "from sklearn.feature_extraction.text import TfidfVectorizer\n",
    "from sklearn.naive_bayes import MultinomialNB\n",
    "\n",
    "# Définir la valeur de min_df\n",
    "MIN_DF = 1\n",
    "\n",
    "def clean_text(text):\n",
    "    # Convertir en minuscules\n",
    "    text = text.lower()\n",
    "\n",
    "    # Retirer les accents\n",
    "    text = unicodedata.normalize('NFKD', text).encode('ASCII', 'ignore').decode('utf-8')\n",
    "\n",
    "    # Retirer la ponctuation\n",
    "    text = re.sub('[%s]' % re.escape(punctuation), '', text)\n",
    "\n",
    "    # Remplacer les crochets par un espace\n",
    "    text = re.sub('[][)(]', ' ', text)\n",
    "\n",
    "    # Supprimer les URL\n",
    "    text = [word for word in text.split() if not urlparse(word).scheme]\n",
    "    text = ' '.join(text)\n",
    "\n",
    "    # Supprimer les mots commençant par @\n",
    "    text = re.sub(r'\\@\\w+', '', text)\n",
    "\n",
    "    # Supprimer les balises HTML\n",
    "    text = re.sub(re.compile(\"<.*?>\"), '', text)\n",
    "\n",
    "    # Obtenir uniquement les caractères et les chiffres\n",
    "    text = re.sub('[^A-Za-z0-9]', ' ', text)\n",
    "\n",
    "    # Lemmatisation\n",
    "    lemmatizer = WordNetLemmatizer()\n",
    "    text = ' '.join([lemmatizer.lemmatize(word) for word in text.split()])\n",
    "\n",
    "     # Retirer les stop words, y compris les mots spécifiques\n",
    "    stop_words = set(stopwords.words('french'))\n",
    "    stop_words.update(['phone', 'lastname', 'firstname', 'civility', 'date', 'time', 'sender', 'link', 'other'])\n",
    "    text = ' '.join([word for word in text.split() if word not in stop_words])\n",
    "\n",
    "    return text\n",
    "\n",
    "def test(text):\n",
    "    cleaned_text = clean_text(text)\n",
    "    vectorized_text = vectorizer.transform([cleaned_text])\n",
    "    result = modele_final.predict(vectorized_text)\n",
    "    return result\n",
    "\n"
   ]
  },
  {
   "cell_type": "code",
   "execution_count": 47,
   "id": "cd45f946",
   "metadata": {},
   "outputs": [],
   "source": [
    "text= \"Salut {{firstname}}, Je suppose que vous êtes trop occupé pour regarder cela en ce moment? \"\n",
    "message_spam = \"Obtenez maintenant des produits de santé gratuits ! Réclamez votre récompense en cliquant sur le lien ci-dessous : http://example.com\"\n",
    "sms=\"Enrichissez-vous grâce à notre système de trading automatique, {{civility}} {{firstName}} {{lastName}}. Pas besoin d'expérience préalable, laissez notre logiciel générer des revenus passifs pour vous.\""
   ]
  },
  {
   "cell_type": "code",
   "execution_count": 56,
   "id": "b3c4b7dc",
   "metadata": {},
   "outputs": [
    {
     "name": "stdout",
     "output_type": "stream",
     "text": [
      "[0]\n"
     ]
    }
   ],
   "source": [
    "print(test(text))\n"
   ]
  },
  {
   "cell_type": "code",
   "execution_count": 55,
   "id": "241dac18",
   "metadata": {},
   "outputs": [
    {
     "data": {
      "text/plain": [
       "array([1])"
      ]
     },
     "execution_count": 55,
     "metadata": {},
     "output_type": "execute_result"
    }
   ],
   "source": [
    "r=test(sms)\n",
    "r"
   ]
  },
  {
   "cell_type": "markdown",
   "id": "a86d5f2a",
   "metadata": {},
   "source": [
    "Array[0] qui signifie que le text est considéré  **Non Spam**\n",
    "\n",
    "Array[1] qui signifie que le text est considéré  **Spam**\n"
   ]
  },
  {
   "cell_type": "code",
   "execution_count": 50,
   "id": "e2b203b0",
   "metadata": {},
   "outputs": [
    {
     "data": {
      "text/plain": [
       "MultinomialNB()"
      ]
     },
     "execution_count": 50,
     "metadata": {},
     "output_type": "execute_result"
    }
   ],
   "source": [
    "# Charger votre modèle Naive Bayes\n",
    "modele_final = load(r\"C:\\Users\\awa29\\OneDrive\\Bureau\\Stage NLP\\modele.joblib\")\n",
    "modele_final"
   ]
  },
  {
   "cell_type": "code",
   "execution_count": 57,
   "id": "cb445e4c",
   "metadata": {},
   "outputs": [
    {
     "ename": "KeyboardInterrupt",
     "evalue": "",
     "output_type": "error",
     "traceback": [
      "\u001b[1;31m---------------------------------------------------------------------------\u001b[0m",
      "\u001b[1;31mKeyboardInterrupt\u001b[0m                         Traceback (most recent call last)",
      "Input \u001b[1;32mIn [57]\u001b[0m, in \u001b[0;36m<cell line: 39>\u001b[1;34m()\u001b[0m\n\u001b[0;32m     36\u001b[0m channel\u001b[38;5;241m.\u001b[39mbasic_consume(queue\u001b[38;5;241m=\u001b[39m\u001b[38;5;124m'\u001b[39m\u001b[38;5;124mtech.message.queuesanalyses\u001b[39m\u001b[38;5;124m'\u001b[39m, on_message_callback\u001b[38;5;241m=\u001b[39mprocess_message)\n\u001b[0;32m     38\u001b[0m \u001b[38;5;66;03m# Démarrer la consommation des messages\u001b[39;00m\n\u001b[1;32m---> 39\u001b[0m \u001b[43mchannel\u001b[49m\u001b[38;5;241;43m.\u001b[39;49m\u001b[43mstart_consuming\u001b[49m\u001b[43m(\u001b[49m\u001b[43m)\u001b[49m\n",
      "File \u001b[1;32m~\\anaconda3\\lib\\site-packages\\pika\\adapters\\blocking_connection.py:1883\u001b[0m, in \u001b[0;36mBlockingChannel.start_consuming\u001b[1;34m(self)\u001b[0m\n\u001b[0;32m   1880\u001b[0m \u001b[38;5;66;03m# Process events as long as consumers exist on this channel\u001b[39;00m\n\u001b[0;32m   1881\u001b[0m \u001b[38;5;28;01mwhile\u001b[39;00m \u001b[38;5;28mself\u001b[39m\u001b[38;5;241m.\u001b[39m_consumer_infos:\n\u001b[0;32m   1882\u001b[0m     \u001b[38;5;66;03m# This will raise ChannelClosed if channel is closed by broker\u001b[39;00m\n\u001b[1;32m-> 1883\u001b[0m     \u001b[38;5;28;43mself\u001b[39;49m\u001b[38;5;241;43m.\u001b[39;49m\u001b[43m_process_data_events\u001b[49m\u001b[43m(\u001b[49m\u001b[43mtime_limit\u001b[49m\u001b[38;5;241;43m=\u001b[39;49m\u001b[38;5;28;43;01mNone\u001b[39;49;00m\u001b[43m)\u001b[49m\n",
      "File \u001b[1;32m~\\anaconda3\\lib\\site-packages\\pika\\adapters\\blocking_connection.py:2044\u001b[0m, in \u001b[0;36mBlockingChannel._process_data_events\u001b[1;34m(self, time_limit)\u001b[0m\n\u001b[0;32m   2025\u001b[0m \u001b[38;5;28;01mdef\u001b[39;00m \u001b[38;5;21m_process_data_events\u001b[39m(\u001b[38;5;28mself\u001b[39m, time_limit):\n\u001b[0;32m   2026\u001b[0m     \u001b[38;5;124;03m\"\"\"Wrapper for `BlockingConnection.process_data_events()` with common\u001b[39;00m\n\u001b[0;32m   2027\u001b[0m \u001b[38;5;124;03m    channel-specific logic that raises ChannelClosed if broker closed this\u001b[39;00m\n\u001b[0;32m   2028\u001b[0m \u001b[38;5;124;03m    channel.\u001b[39;00m\n\u001b[1;32m   (...)\u001b[0m\n\u001b[0;32m   2042\u001b[0m \n\u001b[0;32m   2043\u001b[0m \u001b[38;5;124;03m    \"\"\"\u001b[39;00m\n\u001b[1;32m-> 2044\u001b[0m     \u001b[38;5;28;43mself\u001b[39;49m\u001b[38;5;241;43m.\u001b[39;49m\u001b[43mconnection\u001b[49m\u001b[38;5;241;43m.\u001b[39;49m\u001b[43mprocess_data_events\u001b[49m\u001b[43m(\u001b[49m\u001b[43mtime_limit\u001b[49m\u001b[38;5;241;43m=\u001b[39;49m\u001b[43mtime_limit\u001b[49m\u001b[43m)\u001b[49m\n\u001b[0;32m   2045\u001b[0m     \u001b[38;5;28;01mif\u001b[39;00m \u001b[38;5;28mself\u001b[39m\u001b[38;5;241m.\u001b[39mis_closed \u001b[38;5;129;01mand\u001b[39;00m \u001b[38;5;28misinstance\u001b[39m(\u001b[38;5;28mself\u001b[39m\u001b[38;5;241m.\u001b[39m_closing_reason,\n\u001b[0;32m   2046\u001b[0m                                      exceptions\u001b[38;5;241m.\u001b[39mChannelClosedByBroker):\n\u001b[0;32m   2047\u001b[0m         LOGGER\u001b[38;5;241m.\u001b[39mdebug(\u001b[38;5;124m'\u001b[39m\u001b[38;5;124mChannel close by broker detected, raising \u001b[39m\u001b[38;5;132;01m%r\u001b[39;00m\u001b[38;5;124m; \u001b[39m\u001b[38;5;132;01m%r\u001b[39;00m\u001b[38;5;124m'\u001b[39m,\n\u001b[0;32m   2048\u001b[0m                      \u001b[38;5;28mself\u001b[39m\u001b[38;5;241m.\u001b[39m_closing_reason, \u001b[38;5;28mself\u001b[39m)\n",
      "File \u001b[1;32m~\\anaconda3\\lib\\site-packages\\pika\\adapters\\blocking_connection.py:842\u001b[0m, in \u001b[0;36mBlockingConnection.process_data_events\u001b[1;34m(self, time_limit)\u001b[0m\n\u001b[0;32m    838\u001b[0m common_terminator \u001b[38;5;241m=\u001b[39m \u001b[38;5;28;01mlambda\u001b[39;00m: \u001b[38;5;28mbool\u001b[39m(dispatch_acquired \u001b[38;5;129;01mand\u001b[39;00m\n\u001b[0;32m    839\u001b[0m                                  (\u001b[38;5;28mself\u001b[39m\u001b[38;5;241m.\u001b[39m_channels_pending_dispatch \u001b[38;5;129;01mor\u001b[39;00m\n\u001b[0;32m    840\u001b[0m                                   \u001b[38;5;28mself\u001b[39m\u001b[38;5;241m.\u001b[39m_ready_events))\n\u001b[0;32m    841\u001b[0m \u001b[38;5;28;01mif\u001b[39;00m time_limit \u001b[38;5;129;01mis\u001b[39;00m \u001b[38;5;28;01mNone\u001b[39;00m:\n\u001b[1;32m--> 842\u001b[0m     \u001b[38;5;28;43mself\u001b[39;49m\u001b[38;5;241;43m.\u001b[39;49m\u001b[43m_flush_output\u001b[49m\u001b[43m(\u001b[49m\u001b[43mcommon_terminator\u001b[49m\u001b[43m)\u001b[49m\n\u001b[0;32m    843\u001b[0m \u001b[38;5;28;01melse\u001b[39;00m:\n\u001b[0;32m    844\u001b[0m     \u001b[38;5;28;01mwith\u001b[39;00m _IoloopTimerContext(time_limit, \u001b[38;5;28mself\u001b[39m\u001b[38;5;241m.\u001b[39m_impl) \u001b[38;5;28;01mas\u001b[39;00m timer:\n",
      "File \u001b[1;32m~\\anaconda3\\lib\\site-packages\\pika\\adapters\\blocking_connection.py:514\u001b[0m, in \u001b[0;36mBlockingConnection._flush_output\u001b[1;34m(self, *waiters)\u001b[0m\n\u001b[0;32m    512\u001b[0m \u001b[38;5;66;03m# Process I/O until our completion condition is satisfied\u001b[39;00m\n\u001b[0;32m    513\u001b[0m \u001b[38;5;28;01mwhile\u001b[39;00m \u001b[38;5;129;01mnot\u001b[39;00m is_done():\n\u001b[1;32m--> 514\u001b[0m     \u001b[38;5;28;43mself\u001b[39;49m\u001b[38;5;241;43m.\u001b[39;49m\u001b[43m_impl\u001b[49m\u001b[38;5;241;43m.\u001b[39;49m\u001b[43mioloop\u001b[49m\u001b[38;5;241;43m.\u001b[39;49m\u001b[43mpoll\u001b[49m\u001b[43m(\u001b[49m\u001b[43m)\u001b[49m\n\u001b[0;32m    515\u001b[0m     \u001b[38;5;28mself\u001b[39m\u001b[38;5;241m.\u001b[39m_impl\u001b[38;5;241m.\u001b[39mioloop\u001b[38;5;241m.\u001b[39mprocess_timeouts()\n\u001b[0;32m    517\u001b[0m \u001b[38;5;28;01mif\u001b[39;00m \u001b[38;5;28mself\u001b[39m\u001b[38;5;241m.\u001b[39m_closed_result\u001b[38;5;241m.\u001b[39mready:\n",
      "File \u001b[1;32m~\\anaconda3\\lib\\site-packages\\pika\\adapters\\select_connection.py:579\u001b[0m, in \u001b[0;36mIOLoop.poll\u001b[1;34m(self)\u001b[0m\n\u001b[0;32m    572\u001b[0m \u001b[38;5;28;01mdef\u001b[39;00m \u001b[38;5;21mpoll\u001b[39m(\u001b[38;5;28mself\u001b[39m):\n\u001b[0;32m    573\u001b[0m     \u001b[38;5;124;03m\"\"\"[Extension] Wait for events of interest on registered file\u001b[39;00m\n\u001b[0;32m    574\u001b[0m \u001b[38;5;124;03m    descriptors until an event of interest occurs or next timer deadline or\u001b[39;00m\n\u001b[0;32m    575\u001b[0m \u001b[38;5;124;03m    `_PollerBase._MAX_POLL_TIMEOUT`, whichever is sooner, and dispatch the\u001b[39;00m\n\u001b[0;32m    576\u001b[0m \u001b[38;5;124;03m    corresponding event handlers.\u001b[39;00m\n\u001b[0;32m    577\u001b[0m \n\u001b[0;32m    578\u001b[0m \u001b[38;5;124;03m    \"\"\"\u001b[39;00m\n\u001b[1;32m--> 579\u001b[0m     \u001b[38;5;28;43mself\u001b[39;49m\u001b[38;5;241;43m.\u001b[39;49m\u001b[43m_poller\u001b[49m\u001b[38;5;241;43m.\u001b[39;49m\u001b[43mpoll\u001b[49m\u001b[43m(\u001b[49m\u001b[43m)\u001b[49m\n",
      "File \u001b[1;32m~\\anaconda3\\lib\\site-packages\\pika\\adapters\\select_connection.py:953\u001b[0m, in \u001b[0;36mSelectPoller.poll\u001b[1;34m(self)\u001b[0m\n\u001b[0;32m    949\u001b[0m \u001b[38;5;28;01mtry\u001b[39;00m:\n\u001b[0;32m    950\u001b[0m     \u001b[38;5;28;01mif\u001b[39;00m (\u001b[38;5;28mself\u001b[39m\u001b[38;5;241m.\u001b[39m_fd_events[PollEvents\u001b[38;5;241m.\u001b[39mREAD] \u001b[38;5;129;01mor\u001b[39;00m\n\u001b[0;32m    951\u001b[0m             \u001b[38;5;28mself\u001b[39m\u001b[38;5;241m.\u001b[39m_fd_events[PollEvents\u001b[38;5;241m.\u001b[39mWRITE] \u001b[38;5;129;01mor\u001b[39;00m\n\u001b[0;32m    952\u001b[0m             \u001b[38;5;28mself\u001b[39m\u001b[38;5;241m.\u001b[39m_fd_events[PollEvents\u001b[38;5;241m.\u001b[39mERROR]):\n\u001b[1;32m--> 953\u001b[0m         read, write, error \u001b[38;5;241m=\u001b[39m \u001b[43mselect\u001b[49m\u001b[38;5;241;43m.\u001b[39;49m\u001b[43mselect\u001b[49m\u001b[43m(\u001b[49m\n\u001b[0;32m    954\u001b[0m \u001b[43m            \u001b[49m\u001b[38;5;28;43mself\u001b[39;49m\u001b[38;5;241;43m.\u001b[39;49m\u001b[43m_fd_events\u001b[49m\u001b[43m[\u001b[49m\u001b[43mPollEvents\u001b[49m\u001b[38;5;241;43m.\u001b[39;49m\u001b[43mREAD\u001b[49m\u001b[43m]\u001b[49m\u001b[43m,\u001b[49m\n\u001b[0;32m    955\u001b[0m \u001b[43m            \u001b[49m\u001b[38;5;28;43mself\u001b[39;49m\u001b[38;5;241;43m.\u001b[39;49m\u001b[43m_fd_events\u001b[49m\u001b[43m[\u001b[49m\u001b[43mPollEvents\u001b[49m\u001b[38;5;241;43m.\u001b[39;49m\u001b[43mWRITE\u001b[49m\u001b[43m]\u001b[49m\u001b[43m,\u001b[49m\n\u001b[0;32m    956\u001b[0m \u001b[43m            \u001b[49m\u001b[38;5;28;43mself\u001b[39;49m\u001b[38;5;241;43m.\u001b[39;49m\u001b[43m_fd_events\u001b[49m\u001b[43m[\u001b[49m\u001b[43mPollEvents\u001b[49m\u001b[38;5;241;43m.\u001b[39;49m\u001b[43mERROR\u001b[49m\u001b[43m]\u001b[49m\u001b[43m,\u001b[49m\u001b[43m \u001b[49m\u001b[38;5;28;43mself\u001b[39;49m\u001b[38;5;241;43m.\u001b[39;49m\u001b[43m_get_max_wait\u001b[49m\u001b[43m(\u001b[49m\u001b[43m)\u001b[49m\u001b[43m)\u001b[49m\n\u001b[0;32m    957\u001b[0m     \u001b[38;5;28;01melse\u001b[39;00m:\n\u001b[0;32m    958\u001b[0m         \u001b[38;5;66;03m# NOTE When called without any FDs, select fails on\u001b[39;00m\n\u001b[0;32m    959\u001b[0m         \u001b[38;5;66;03m# Windows with error 10022, 'An invalid argument was\u001b[39;00m\n\u001b[0;32m    960\u001b[0m         \u001b[38;5;66;03m# supplied'.\u001b[39;00m\n\u001b[0;32m    961\u001b[0m         time\u001b[38;5;241m.\u001b[39msleep(\u001b[38;5;28mself\u001b[39m\u001b[38;5;241m.\u001b[39m_get_max_wait())\n",
      "\u001b[1;31mKeyboardInterrupt\u001b[0m: "
     ]
    }
   ],
   "source": [
    "def process_message(channel, method, properties, body):\n",
    "    message = body.decode('utf-8')\n",
    "\n",
    "    # Récupérer le statut du message depuis les propriétés\n",
    "    status = properties.headers.get('statut')\n",
    "\n",
    "    # Récupérer l'IDE depuis les propriétés\n",
    "    ide = properties.headers.get('IDE')\n",
    "\n",
    "    # Nettoyer le texte\n",
    "    cleaned_text = clean_text(message)\n",
    "\n",
    "    # Effectuer la prédiction avec le modèle\n",
    "    result = test(cleaned_text)\n",
    "\n",
    "    # Prendre des mesures en fonction du résultat\n",
    "    if result==1:\n",
    "        # Message identifié comme un spam\n",
    "        print(\"Message identifié comme un spam :\", message)\n",
    "        \n",
    "    else:\n",
    "        # Message non-spam\n",
    "        print(\"Message non-spam :\", message)\n",
    "\n",
    "    # Indiquer à RabbitMQ que le message a été traité\n",
    "    channel.basic_ack(delivery_tag=method.delivery_tag)\n",
    "\n",
    "# Établir la connexion avec RabbitMQ\n",
    "connection = pika.BlockingConnection(pika.ConnectionParameters('localhost'))\n",
    "channel = connection.channel()\n",
    "\n",
    "# Déclarer la file d'attente à consommer\n",
    "channel.queue_declare(queue='tech.message.queuesanalyses', durable=True)\n",
    "\n",
    "# Définir la fonction de rappel pour le traitement des messages\n",
    "channel.basic_consume(queue='tech.message.queuesanalyses', on_message_callback=process_message)\n",
    "\n",
    "# Démarrer la consommation des messages\n",
    "channel.start_consuming()\n"
   ]
  }
 ],
 "metadata": {
  "kernelspec": {
   "display_name": "Python 3 (ipykernel)",
   "language": "python",
   "name": "python3"
  },
  "language_info": {
   "codemirror_mode": {
    "name": "ipython",
    "version": 3
   },
   "file_extension": ".py",
   "mimetype": "text/x-python",
   "name": "python",
   "nbconvert_exporter": "python",
   "pygments_lexer": "ipython3",
   "version": "3.9.12"
  }
 },
 "nbformat": 4,
 "nbformat_minor": 5
}
